{
 "cells": [
  {
   "cell_type": "markdown",
   "metadata": {},
   "source": [
    "# Installation"
   ]
  },
  {
   "cell_type": "code",
   "execution_count": 1,
   "metadata": {},
   "outputs": [
    {
     "name": "stdout",
     "output_type": "stream",
     "text": [
      "Defaulting to user installation because normal site-packages is not writeable\n",
      "Requirement already satisfied: google-api-python-client in c:\\users\\ahmed\\appdata\\roaming\\python\\python39\\site-packages (2.90.0)\n",
      "Requirement already satisfied: google-auth-httplib2>=0.1.0 in c:\\users\\ahmed\\appdata\\roaming\\python\\python39\\site-packages (from google-api-python-client) (0.1.0)\n",
      "Requirement already satisfied: google-api-core!=2.0.*,!=2.1.*,!=2.2.*,!=2.3.0,<3.0.0.dev0,>=1.31.5 in c:\\users\\ahmed\\appdata\\roaming\\python\\python39\\site-packages (from google-api-python-client) (2.11.1)\n",
      "Requirement already satisfied: uritemplate<5,>=3.0.1 in c:\\users\\ahmed\\appdata\\roaming\\python\\python39\\site-packages (from google-api-python-client) (4.1.1)\n",
      "Requirement already satisfied: google-auth<3.0.0.dev0,>=1.19.0 in c:\\users\\ahmed\\appdata\\roaming\\python\\python39\\site-packages (from google-api-python-client) (2.19.0)\n",
      "Requirement already satisfied: httplib2<1.dev0,>=0.15.0 in c:\\users\\ahmed\\appdata\\roaming\\python\\python39\\site-packages (from google-api-python-client) (0.22.0)\n",
      "Requirement already satisfied: requests<3.0.0.dev0,>=2.18.0 in c:\\programdata\\anaconda3\\lib\\site-packages (from google-api-core!=2.0.*,!=2.1.*,!=2.2.*,!=2.3.0,<3.0.0.dev0,>=1.31.5->google-api-python-client) (2.28.1)\n",
      "Requirement already satisfied: googleapis-common-protos<2.0.dev0,>=1.56.2 in c:\\users\\ahmed\\appdata\\roaming\\python\\python39\\site-packages (from google-api-core!=2.0.*,!=2.1.*,!=2.2.*,!=2.3.0,<3.0.0.dev0,>=1.31.5->google-api-python-client) (1.59.1)\n",
      "Requirement already satisfied: protobuf!=3.20.0,!=3.20.1,!=4.21.0,!=4.21.1,!=4.21.2,!=4.21.3,!=4.21.4,!=4.21.5,<5.0.0.dev0,>=3.19.5 in c:\\users\\ahmed\\appdata\\roaming\\python\\python39\\site-packages (from google-api-core!=2.0.*,!=2.1.*,!=2.2.*,!=2.3.0,<3.0.0.dev0,>=1.31.5->google-api-python-client) (3.19.6)\n",
      "Requirement already satisfied: rsa<5,>=3.1.4 in c:\\users\\ahmed\\appdata\\roaming\\python\\python39\\site-packages (from google-auth<3.0.0.dev0,>=1.19.0->google-api-python-client) (4.9)\n",
      "Requirement already satisfied: cachetools<6.0,>=2.0.0 in c:\\users\\ahmed\\appdata\\roaming\\python\\python39\\site-packages (from google-auth<3.0.0.dev0,>=1.19.0->google-api-python-client) (5.3.1)\n",
      "Requirement already satisfied: pyasn1-modules>=0.2.1 in c:\\programdata\\anaconda3\\lib\\site-packages (from google-auth<3.0.0.dev0,>=1.19.0->google-api-python-client) (0.2.8)\n",
      "Requirement already satisfied: urllib3<2.0 in c:\\programdata\\anaconda3\\lib\\site-packages (from google-auth<3.0.0.dev0,>=1.19.0->google-api-python-client) (1.26.11)\n",
      "Requirement already satisfied: six>=1.9.0 in c:\\programdata\\anaconda3\\lib\\site-packages (from google-auth<3.0.0.dev0,>=1.19.0->google-api-python-client) (1.16.0)\n",
      "Requirement already satisfied: pyparsing!=3.0.0,!=3.0.1,!=3.0.2,!=3.0.3,<4,>=2.4.2 in c:\\programdata\\anaconda3\\lib\\site-packages (from httplib2<1.dev0,>=0.15.0->google-api-python-client) (3.0.9)\n",
      "Requirement already satisfied: pyasn1<0.5.0,>=0.4.6 in c:\\programdata\\anaconda3\\lib\\site-packages (from pyasn1-modules>=0.2.1->google-auth<3.0.0.dev0,>=1.19.0->google-api-python-client) (0.4.8)\n",
      "Requirement already satisfied: idna<4,>=2.5 in c:\\programdata\\anaconda3\\lib\\site-packages (from requests<3.0.0.dev0,>=2.18.0->google-api-core!=2.0.*,!=2.1.*,!=2.2.*,!=2.3.0,<3.0.0.dev0,>=1.31.5->google-api-python-client) (3.3)\n",
      "Requirement already satisfied: charset-normalizer<3,>=2 in c:\\programdata\\anaconda3\\lib\\site-packages (from requests<3.0.0.dev0,>=2.18.0->google-api-core!=2.0.*,!=2.1.*,!=2.2.*,!=2.3.0,<3.0.0.dev0,>=1.31.5->google-api-python-client) (2.0.4)\n",
      "Requirement already satisfied: certifi>=2017.4.17 in c:\\programdata\\anaconda3\\lib\\site-packages (from requests<3.0.0.dev0,>=2.18.0->google-api-core!=2.0.*,!=2.1.*,!=2.2.*,!=2.3.0,<3.0.0.dev0,>=1.31.5->google-api-python-client) (2022.9.14)\n"
     ]
    }
   ],
   "source": [
    "!pip install google-api-python-client"
   ]
  },
  {
   "cell_type": "markdown",
   "metadata": {},
   "source": [
    "# OAuth 2.0 Setup"
   ]
  },
  {
   "cell_type": "code",
   "execution_count": 1,
   "metadata": {},
   "outputs": [],
   "source": [
    "# Python to import specific modules required for Google API authentication and accessing Google services through the API\n",
    "from apiclient.discovery import build\n",
    "from google_auth_oauthlib.flow import InstalledAppFlow"
   ]
  },
  {
   "cell_type": "code",
   "execution_count": 2,
   "metadata": {},
   "outputs": [],
   "source": [
    "# The scopes variable in the given code snippet is a list that specifies the scope(s)\n",
    "# of access requested for the Google Calendar API. \n",
    "# In the context of Google APIs and OAuth 2.0 authentication, a scope defines the level \n",
    "# of permission or access granted to an application for a particular API\n",
    "scopes = ['https://www.googleapis.com/auth/calendar']"
   ]
  },
  {
   "cell_type": "code",
   "execution_count": 115,
   "metadata": {},
   "outputs": [],
   "source": [
    "# flow variable and the from_client_secrets_file method enable the loading of client credentials from a JSON file \n",
    "# and initiate an OAuth 2.0 authentication flow\n",
    "# for accessing the Google Calendar API with the specified scopes.\n",
    "flow = InstalledAppFlow.from_client_secrets_file(\"Downloads/client_secret_5.json\", scopes=scopes)"
   ]
  },
  {
   "cell_type": "code",
   "execution_count": 116,
   "metadata": {},
   "outputs": [
    {
     "name": "stdout",
     "output_type": "stream",
     "text": [
      "Please visit this URL to authorize this application: https://accounts.google.com/o/oauth2/auth?response_type=code&client_id=591105111425-i4g4c6osluoavg9vaccnkkpac0pb455k.apps.googleusercontent.com&redirect_uri=urn%3Aietf%3Awg%3Aoauth%3A2.0%3Aoob&scope=https%3A%2F%2Fwww.googleapis.com%2Fauth%2Fcalendar&state=F6JcNjxF8PQJK5B40wM8fUmRVtvG4h&prompt=consent&access_type=offline\n",
      "Enter the authorization code: 4/1AbUR2VMeHwuW0JauSYtRCbZIXfEnjpH4btwGU0MyVt6V3C7k-RsH3DvCfBM\n"
     ]
    }
   ],
   "source": [
    "# credentials variable stores the obtained authorization credentials by running the OAuth 2.0 authentication \n",
    "# process through the console, allowing the application to authenticate and access the requested Google APIs \n",
    "# on behalf of the use\n",
    "credentials = flow.run_console()"
   ]
  },
  {
   "cell_type": "code",
   "execution_count": 117,
   "metadata": {},
   "outputs": [],
   "source": [
    "import pickle"
   ]
  },
  {
   "cell_type": "code",
   "execution_count": 165,
   "metadata": {},
   "outputs": [],
   "source": [
    "# pickle.dump() function is used to serialize and save the credentials object to a file named \"token.pkl\", \n",
    "# enabling the application to store and reuse the obtained authorization credentials for\n",
    "# accessing the Google APIs in subsequent runs.\n",
    "pickle.dump(credentials, open(\"token.pkl\", \"wb\"))"
   ]
  },
  {
   "cell_type": "code",
   "execution_count": 166,
   "metadata": {},
   "outputs": [],
   "source": [
    "# pickle.load() function is used to load and deserialize previously serialized credentials from the \"token.pkl\" file,\n",
    "# allowing the application to retrieve and utilize the stored authorization credentials for accessing Google APIs.\n",
    "credentials = pickle.load(open(\"token.pkl\", \"rb\"))"
   ]
  },
  {
   "cell_type": "code",
   "execution_count": 167,
   "metadata": {},
   "outputs": [],
   "source": [
    "# build() function is used to create a service object for the Google Calendar API, \n",
    "# configured with the provided credentials. The resulting service object enables the\n",
    "# application to interact with the Calendar API and perform operations on the user's calendar.\n",
    "service = build(\"calendar\", \"v3\", credentials=credentials)"
   ]
  },
  {
   "cell_type": "markdown",
   "metadata": {},
   "source": [
    "Get My Calendars"
   ]
  },
  {
   "cell_type": "code",
   "execution_count": 168,
   "metadata": {},
   "outputs": [],
   "source": [
    "result = service.calendarList().list().execute()"
   ]
  },
  {
   "cell_type": "code",
   "execution_count": 169,
   "metadata": {},
   "outputs": [
    {
     "data": {
      "text/plain": [
       "{'kind': 'calendar#calendarListEntry',\n",
       " 'etag': '\"1676150523529000\"',\n",
       " 'id': 'ahmedshraideh563@gmail.com',\n",
       " 'summary': 'ahmedshraideh563@gmail.com',\n",
       " 'timeZone': 'America/Toronto',\n",
       " 'colorId': '14',\n",
       " 'backgroundColor': '#9fe1e7',\n",
       " 'foregroundColor': '#000000',\n",
       " 'selected': True,\n",
       " 'accessRole': 'owner',\n",
       " 'defaultReminders': [{'method': 'popup', 'minutes': 30}],\n",
       " 'notificationSettings': {'notifications': [{'type': 'eventCreation',\n",
       "    'method': 'email'},\n",
       "   {'type': 'eventChange', 'method': 'email'},\n",
       "   {'type': 'eventCancellation', 'method': 'email'},\n",
       "   {'type': 'eventResponse', 'method': 'email'}]},\n",
       " 'primary': True,\n",
       " 'conferenceProperties': {'allowedConferenceSolutionTypes': ['hangoutsMeet']}}"
      ]
     },
     "execution_count": 169,
     "metadata": {},
     "output_type": "execute_result"
    }
   ],
   "source": [
    "result['items'][0]"
   ]
  },
  {
   "cell_type": "markdown",
   "metadata": {},
   "source": [
    "# Get My Calendar Events"
   ]
  },
  {
   "cell_type": "code",
   "execution_count": 157,
   "metadata": {},
   "outputs": [],
   "source": [
    "calendar_id = result['items'][0]['id']"
   ]
  },
  {
   "cell_type": "code",
   "execution_count": 163,
   "metadata": {},
   "outputs": [],
   "source": [
    "result = service.events().list(calendarId=calendar_id, timeZone=\"America/Toronto\").execute()\n"
   ]
  },
  {
   "cell_type": "code",
   "execution_count": 164,
   "metadata": {},
   "outputs": [
    {
     "data": {
      "text/plain": [
       "{'kind': 'calendar#event',\n",
       " 'etag': '\"3374640541928000\"',\n",
       " 'id': 'jibrao6umtp6afcfe1upf41n20',\n",
       " 'status': 'confirmed',\n",
       " 'htmlLink': 'https://www.google.com/calendar/event?eid=amlicmFvNnVtdHA2YWZjZmUxdXBmNDFuMjAgYWhtZWRzaHJhaWRlaDU2M0Bt&ctz=America/Toronto',\n",
       " 'created': '2023-06-21T04:04:30.000Z',\n",
       " 'updated': '2023-06-21T04:04:30.964Z',\n",
       " 'summary': 'Meeting',\n",
       " 'creator': {'email': 'ahmedshraideh563@gmail.com', 'self': True},\n",
       " 'organizer': {'email': 'ahmedshraideh563@gmail.com', 'self': True},\n",
       " 'start': {'dateTime': '2023-05-15T11:30:00-04:00',\n",
       "  'timeZone': 'Asia/Kolkata'},\n",
       " 'end': {'dateTime': '2023-05-15T12:30:00-04:00', 'timeZone': 'Asia/Kolkata'},\n",
       " 'iCalUID': 'jibrao6umtp6afcfe1upf41n20@google.com',\n",
       " 'sequence': 0,\n",
       " 'reminders': {'useDefault': False,\n",
       "  'overrides': [{'method': 'popup', 'minutes': 10},\n",
       "   {'method': 'email', 'minutes': 1440}]},\n",
       " 'eventType': 'default'}"
      ]
     },
     "execution_count": 164,
     "metadata": {},
     "output_type": "execute_result"
    }
   ],
   "source": [
    "result['items'][0]"
   ]
  },
  {
   "cell_type": "markdown",
   "metadata": {},
   "source": [
    "# Create a New Calandar Event"
   ]
  },
  {
   "cell_type": "code",
   "execution_count": 132,
   "metadata": {},
   "outputs": [
    {
     "data": {
      "text/plain": [
       "{'kind': 'calendar#event',\n",
       " 'etag': '\"3374765514282000\"',\n",
       " 'id': 'ikfkkakk3o5ksfje55q8pi83gs',\n",
       " 'status': 'confirmed',\n",
       " 'htmlLink': 'https://www.google.com/calendar/event?eid=aWtma2tha2szbzVrc2ZqZTU1cThwaTgzZ3MgYWhtZWRzaHJhaWRlaDU2M0Bt',\n",
       " 'created': '2023-06-21T21:25:57.000Z',\n",
       " 'updated': '2023-06-21T21:25:57.141Z',\n",
       " 'summary': 'IPL Final 2023',\n",
       " 'description': 'MI vs TBD',\n",
       " 'location': 'Hyderabad',\n",
       " 'creator': {'email': 'ahmedshraideh563@gmail.com', 'self': True},\n",
       " 'organizer': {'email': 'ahmedshraideh563@gmail.com', 'self': True},\n",
       " 'start': {'dateTime': '2023-07-16T19:30:00-04:00',\n",
       "  'timeZone': 'America/Toronto'},\n",
       " 'end': {'dateTime': '2023-07-16T23:30:00-04:00',\n",
       "  'timeZone': 'America/Toronto'},\n",
       " 'iCalUID': 'ikfkkakk3o5ksfje55q8pi83gs@google.com',\n",
       " 'sequence': 0,\n",
       " 'reminders': {'useDefault': False,\n",
       "  'overrides': [{'method': 'email', 'minutes': 1440},\n",
       "   {'method': 'popup', 'minutes': 10}]},\n",
       " 'eventType': 'default'}"
      ]
     },
     "execution_count": 132,
     "metadata": {},
     "output_type": "execute_result"
    }
   ],
   "source": [
    "\n",
    "from datetime import datetime, timedelta\n",
    "\n",
    "start_time = datetime(2023, 7, 16, 19, 30, 0)\n",
    "end_time = start_time + timedelta(hours=4)\n",
    "timezone = 'America/Toronto'\n",
    "\n",
    "event = {\n",
    "  'summary': 'IPL Final 2023',\n",
    "  'location': 'Hyderabad',\n",
    "  'description': 'MI vs TBD',\n",
    "  'start': {\n",
    "    'dateTime': start_time.strftime(\"%Y-%m-%dT%H:%M:%S\"),\n",
    "    'timeZone': timezone,\n",
    "  },\n",
    "  'end': {\n",
    "    'dateTime': end_time.strftime(\"%Y-%m-%dT%H:%M:%S\"),\n",
    "    'timeZone': timezone,\n",
    "  },\n",
    "  'reminders': {\n",
    "    'useDefault': False,\n",
    "    'overrides': [\n",
    "      {'method': 'email', 'minutes': 24 * 60},\n",
    "      {'method': 'popup', 'minutes': 10},\n",
    "    ],\n",
    "  },\n",
    "}\n",
    "\n",
    "service.events().insert(calendarId=calendar_id, body=event).execute()\n"
   ]
  },
  {
   "cell_type": "markdown",
   "metadata": {},
   "source": [
    "# Utility function\n"
   ]
  },
  {
   "cell_type": "code",
   "execution_count": 24,
   "metadata": {},
   "outputs": [
    {
     "name": "stdout",
     "output_type": "stream",
     "text": [
      "Defaulting to user installation because normal site-packages is not writeable\n",
      "Collecting datefinder\n",
      "  Downloading datefinder-0.7.3-py2.py3-none-any.whl (10 kB)\n",
      "Requirement already satisfied: regex>=2017.02.08 in c:\\programdata\\anaconda3\\lib\\site-packages (from datefinder) (2022.7.9)\n",
      "Requirement already satisfied: pytz in c:\\programdata\\anaconda3\\lib\\site-packages (from datefinder) (2022.1)\n",
      "Requirement already satisfied: python-dateutil>=2.4.2 in c:\\programdata\\anaconda3\\lib\\site-packages (from datefinder) (2.8.2)\n",
      "Requirement already satisfied: six>=1.5 in c:\\programdata\\anaconda3\\lib\\site-packages (from python-dateutil>=2.4.2->datefinder) (1.16.0)\n",
      "Installing collected packages: datefinder\n",
      "Successfully installed datefinder-0.7.3\n"
     ]
    }
   ],
   "source": [
    "!pip install datefinder"
   ]
  },
  {
   "cell_type": "code",
   "execution_count": 109,
   "metadata": {},
   "outputs": [],
   "source": [
    "# utility functions serve as a valuable tool in software development by promoting code organization,\n",
    "# reusability, readability, maintainability, and modularity. They contribute to writing cleaner,\n",
    "# more efficient, and more manageable code."
   ]
  },
  {
   "cell_type": "code",
   "execution_count": 133,
   "metadata": {},
   "outputs": [],
   "source": [
    "import datefinder"
   ]
  },
  {
   "cell_type": "code",
   "execution_count": 134,
   "metadata": {},
   "outputs": [],
   "source": [
    "matches = datefinder.find_dates(\"16 Jul 7 PM\")"
   ]
  },
  {
   "cell_type": "code",
   "execution_count": 135,
   "metadata": {},
   "outputs": [
    {
     "data": {
      "text/plain": [
       "[datetime.datetime(2023, 7, 16, 19, 0)]"
      ]
     },
     "execution_count": 135,
     "metadata": {},
     "output_type": "execute_result"
    }
   ],
   "source": [
    "list(matches)"
   ]
  },
  {
   "cell_type": "code",
   "execution_count": 138,
   "metadata": {},
   "outputs": [
    {
     "data": {
      "text/plain": [
       "{'kind': 'calendar#event',\n",
       " 'etag': '\"3374765699988000\"',\n",
       " 'id': '432e0a8uvgb6vps8p1oumae6d0',\n",
       " 'status': 'confirmed',\n",
       " 'htmlLink': 'https://www.google.com/calendar/event?eid=NDMyZTBhOHV2Z2I2dnBzOHAxb3VtYWU2ZDAgYWhtZWRzaHJhaWRlaDU2M0Bt',\n",
       " 'created': '2023-06-21T21:27:29.000Z',\n",
       " 'updated': '2023-06-21T21:27:29.994Z',\n",
       " 'summary': 'Meeting',\n",
       " 'creator': {'email': 'ahmedshraideh563@gmail.com', 'self': True},\n",
       " 'organizer': {'email': 'ahmedshraideh563@gmail.com', 'self': True},\n",
       " 'start': {'dateTime': '2023-07-16T19:00:00-04:00',\n",
       "  'timeZone': 'America/Toronto'},\n",
       " 'end': {'dateTime': '2023-07-16T20:00:00-04:00',\n",
       "  'timeZone': 'America/Toronto'},\n",
       " 'iCalUID': '432e0a8uvgb6vps8p1oumae6d0@google.com',\n",
       " 'sequence': 0,\n",
       " 'reminders': {'useDefault': False,\n",
       "  'overrides': [{'method': 'email', 'minutes': 1440},\n",
       "   {'method': 'popup', 'minutes': 10}]},\n",
       " 'eventType': 'default'}"
      ]
     },
     "execution_count": 138,
     "metadata": {},
     "output_type": "execute_result"
    }
   ],
   "source": [
    "\n",
    "\n",
    "from datetime import datetime, timedelta\n",
    "import datefinder\n",
    "\n",
    "def create_event(start_time_str, summary, duration=1, description=None, location=None):\n",
    "    matches = list(datefinder.find_dates(start_time_str))\n",
    "    if len(matches):\n",
    "        start_time = matches[0]\n",
    "        end_time = start_time + timedelta(hours=duration)\n",
    "\n",
    "    event = {\n",
    "        'summary': summary,\n",
    "        'location': location,\n",
    "        'description': description,\n",
    "        'start': {\n",
    "            'dateTime': start_time.strftime(\"%Y-%m-%dT%H:%M:%S\"),\n",
    "            'timeZone': 'America/Toronto',\n",
    "        },\n",
    "        'end': {\n",
    "            'dateTime': end_time.strftime(\"%Y-%m-%dT%H:%M:%S\"),\n",
    "            'timeZone': 'America/Toronto',\n",
    "        },\n",
    "        'reminders': {\n",
    "            'useDefault': False,\n",
    "            'overrides': [\n",
    "                {'method': 'email', 'minutes': 24 * 60},\n",
    "                {'method': 'popup', 'minutes': 10},\n",
    "            ],\n",
    "        },\n",
    "    }\n",
    "    return service.events().insert(calendarId='primary', body=event).execute()\n",
    "\n",
    "create_event(\"16 Jul 7 PM\", \"Meeting\")\n"
   ]
  },
  {
   "cell_type": "code",
   "execution_count": null,
   "metadata": {},
   "outputs": [],
   "source": []
  }
 ],
 "metadata": {
  "kernelspec": {
   "display_name": "Python 3",
   "language": "python",
   "name": "python3"
  },
  "language_info": {
   "codemirror_mode": {
    "name": "ipython",
    "version": 3
   },
   "file_extension": ".py",
   "mimetype": "text/x-python",
   "name": "python",
   "nbconvert_exporter": "python",
   "pygments_lexer": "ipython3",
   "version": "3.6.9"
  }
 },
 "nbformat": 4,
 "nbformat_minor": 5
}
