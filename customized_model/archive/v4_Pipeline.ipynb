{
  "nbformat": 4,
  "nbformat_minor": 0,
  "metadata": {
    "colab": {
      "provenance": []
    },
    "kernelspec": {
      "name": "python3",
      "display_name": "Python 3"
    },
    "language_info": {
      "name": "python"
    }
  },
  "cells": [
    {
      "cell_type": "code",
      "source": [
        "#library\n",
        "!pip install sentence_transformers\n",
        "\n",
        "from sentence_transformers import SentenceTransformer\n",
        "from sklearn.metrics.pairwise import cosine_similarity\n",
        "import numpy as np\n",
        "import pandas as pd\n",
        "import spacy\n",
        "from spacy import displacy\n",
        "from spacy.tokens import DocBin\n",
        "import json\n",
        "from datetime import datetime\n",
        "from tqdm import tqdm\n",
        "import re\n"
      ],
      "metadata": {
        "id": "jkgJuRnWtXUv"
      },
      "execution_count": null,
      "outputs": []
    },
    {
      "cell_type": "markdown",
      "source": [
        "# DEFINE  functions"
      ],
      "metadata": {
        "id": "kxOSTKtar5zC"
      }
    },
    {
      "cell_type": "code",
      "source": [
        "def find_intent_index(input_embed, intents_embed):\n",
        "  vector = input_embed\n",
        "  cosine_score = cosine_similarity([vector], intents_embed)\n",
        "\n",
        "  intent_index = np.argmax(cosine_score, axis = 1)[0]\n",
        "  print('INTENTS SENTENCE:',intents[intent_index])\n",
        "\n",
        "  return intent_index\n",
        "\n",
        "\n",
        "def match_intent_to_function(intent_index): #intent_index = index of the prebuild intents\n",
        "  if intent_index == 0:\n",
        "    return 'create_event'\n",
        "    return\n",
        "  elif intent_index == 1:\n",
        "    return 'delete_event'   #_find_entities(input_sentence1)\n",
        "\n",
        "  elif intent_index == 2:\n",
        "    return 'get_calendar_events' #_find_entities(input_sentence1)\n",
        "\n",
        "  elif intent_index == 3:\n",
        "    return 'get_free_busy_info'\n",
        "\n",
        "  elif intent_index == 4:\n",
        "    return 'update_event'\n",
        "\n",
        "  elif intent_index == 5:\n",
        "    return 'reschedule_event'\n",
        "\n",
        "  else:\n",
        "    return 'NA'\n"
      ],
      "metadata": {
        "id": "5mlLTs6_CT-F"
      },
      "execution_count": 6,
      "outputs": []
    },
    {
      "cell_type": "code",
      "source": [
        "def find_necessary_keywords(function_name):\n",
        "\n",
        "  if function_name == 'create_event': #summary, start_time, end_time, location=None\n",
        "    arguments_list = ['summary', 'start_time', 'end_time', 'location']\n",
        "\n",
        "  if function_name == 'delete_event': #event_id\n",
        "    arguments_list = ['event_id']\n",
        "\n",
        "  if function_name == 'get_calendar_events': # date\n",
        "    arguments_list = ['date']\n",
        "\n",
        "  if function_name == 'get_free_busy_info': #(start_time, end_time)\n",
        "    arguments_list = ['start_time', 'end_time']\n",
        "\n",
        "  if function_name == 'update_event': #event_id, summary=None, start_time=None, end_time=None, location=None):\n",
        "    arguments_list = ['event_id', 'summary', 'start_time', 'end_time', 'location']\n",
        "\n",
        "  if function_name == 'reschedule_event': #(event_id, start_time, end_time)\n",
        "    arguments_list = ['event_id', 'start_time', 'end_time']\n",
        "\n",
        "  upper_arguments_list = [x.upper() for x in arguments_list]\n",
        "  return upper_arguments_list\n",
        "\n",
        "\n",
        "def required_arguments(function_name):\n",
        "  if function_name == 'create_event': #summary, start_time, end_time, location=None\n",
        "    required_list = ['summary', 'start_time', 'end_time']\n",
        "\n",
        "  if function_name == 'delete_event': #event_id\n",
        "    required_list = ['event_id']\n",
        "\n",
        "  if function_name == 'get_calendar_events': # date\n",
        "    required_list = ['date']\n",
        "\n",
        "  if function_name == 'get_free_busy_info': #(start_time, end_time)\n",
        "    required_list = ['start_time', 'end_time']\n",
        "\n",
        "  if function_name == 'update_event': #event_id, summary=None, start_time=None, end_time=None, location=None):\n",
        "    required_list = ['event_id']\n",
        "\n",
        "  if function_name == 'reschedule_event': #(event_id, start_time, end_time)\n",
        "    required_list = ['event_id', 'start_time', 'end_time']\n",
        "\n",
        "  upper_required_list = [x.upper() for x in required_list]\n",
        "  return upper_required_list\n"
      ],
      "metadata": {
        "id": "EqBCqtCor2mt"
      },
      "execution_count": 7,
      "outputs": []
    },
    {
      "cell_type": "code",
      "source": [
        "def return_arguments(arguments_list, doc):\n",
        "  '''tagged sentence with customized NER, and extract nessary arguments (based on the function called) frrom tagging '''\n",
        "  arguments_dict = {}\n",
        "\n",
        "  for ent in doc.ents:\n",
        "    if ent.label_ in (arguments_list):\n",
        "      if ent.label_ not in arguments_dict.keys(): # will keep the first key\n",
        "        arguments_dict.update({ent.label_: ent.text})  # if delete 'if' statement, will overwrite and keep the last\n",
        "\n",
        "    #print(arguments_dict)\n",
        "\n",
        "  return arguments_dict #arguments_dict['DATE'] is 'Landscapes LLC'"
      ],
      "metadata": {
        "id": "ndmh9b9XdEmL"
      },
      "execution_count": 8,
      "outputs": []
    },
    {
      "cell_type": "code",
      "source": [
        "# temp demo for 1 google function\n",
        "\n",
        "def check_info_requirement(function_name, arguments_list_need, arg_dict_true):\n",
        "  response_arguments = ''\n",
        "  missing_key = []\n",
        "  flag_add_new_info = False # GLOBAL\n",
        "\n",
        "  #check if find everything required: (only location is optional)\n",
        "  response_function = 'You want to {}. '.format(function_name)\n",
        "\n",
        "  for key in arguments_list_need:\n",
        "    #key = arg_dict_true[i]\n",
        "    if key in arg_dict_true.keys():\n",
        "      value_in_key = arg_dict_true[key] #maybe empty\n",
        "      response_arguments += 'the {} = {} '.format(key, value_in_key)\n",
        "\n",
        "    else: # needed key not in true keys\n",
        "    #if is NOT optional key (required key -> based on function)\n",
        "      if key in required_arguments(function_name): # call the function, return a list ## need modified\n",
        "        missing_key.append(key)\n",
        "\n",
        "  if len(missing_key) == 0: #all required\n",
        "    #flag_add_new_info = False\n",
        "    response = response_function + response_arguments + \" All requirments are satisfied.\"\n",
        "  else:\n",
        "    flag_add_new_info = True\n",
        "    response_need_more_info = ' We need more information on {}, please add them.'.format(missing_key)\n",
        "    response = response_function + response_need_more_info\n",
        "\n",
        "\n",
        "  return response\n",
        "\n"
      ],
      "metadata": {
        "id": "6ZVPdXgg1gXR"
      },
      "execution_count": 9,
      "outputs": []
    },
    {
      "cell_type": "code",
      "source": [],
      "metadata": {
        "id": "V9rpXi_2rMRx"
      },
      "execution_count": null,
      "outputs": []
    },
    {
      "cell_type": "markdown",
      "source": [
        "# Pipline / write it in Class?"
      ],
      "metadata": {
        "id": "dWImr3igrM6t"
      }
    },
    {
      "cell_type": "code",
      "source": [
        "# prepare GLOBAL variables\n",
        "model_pretrained = 'bert-base-nli-mean-tokens'\n",
        "model = SentenceTransformer(model_pretrained)\n",
        "\n",
        "ner_model_path = 'drive/MyDrive/capstone_ner_output' # need to update NER model\n",
        "ner_output = spacy.load(ner_model_path + \"/model-best\")\n",
        "\n",
        "intents = [\n",
        "    \"create a new event\", #0\n",
        "    \"delete a certain event\",#1\n",
        "    \"retrieve event detail of a certain date\", #2 -> TAG: retrieving event (intent) today (entity arguments)\n",
        "    \"get free time information during certain time period\", #3\n",
        "    \"change the location or summary of an event\",#4\n",
        "    \"reschedule the time of an event\" #5\n",
        "    ]\n",
        "\n",
        "intents_embed_given = model.encode(intents)\n",
        "\n"
      ],
      "metadata": {
        "id": "J1CVbFPurMbT"
      },
      "execution_count": 3,
      "outputs": []
    },
    {
      "cell_type": "code",
      "source": [],
      "metadata": {
        "id": "tQaQDoc8rMe0"
      },
      "execution_count": null,
      "outputs": []
    },
    {
      "cell_type": "code",
      "source": [
        "def intent_entity_recognition(input_sentences):\n",
        "\n",
        "  input_embed_1 = model.encode(input_sentences)\n",
        "\n",
        "  idx_1 = find_intent_index(input_embed = input_embed_1, intents_embed =intents_embed_given ) #intents_embed is given\n",
        "\n",
        "\n",
        "  # get the function name. e.g. 'create_event'\n",
        "  function_name_1 = match_intent_to_function(intent_index = idx_1)\n",
        "\n",
        "  # get the needed arguments\n",
        "  arguments_list_1 = find_necessary_keywords(function_name = function_name_1)\n",
        "  doc_1 = ner_output(input_sentences) #tagged NER\n",
        "\n",
        "  arg_dict = return_arguments(arguments_list = arguments_list_1, doc = doc_1)\n",
        "\n",
        "  print('the function you want to call is {}, the keywords are {}'.format(function_name_1, arg_dict))\n",
        "\n",
        "  reply_the_sentence = check_info_requirement(function_name = function_name_1,\n",
        "                                              arguments_list_need = arguments_list_1,\n",
        "                                              arg_dict_true = arg_dict)\n",
        "\n",
        "  return (function_name_1, arg_dict, reply_the_sentence)"
      ],
      "metadata": {
        "id": "ggGW2CcUZcad"
      },
      "execution_count": 4,
      "outputs": []
    },
    {
      "cell_type": "markdown",
      "source": [
        "# TEST IT"
      ],
      "metadata": {
        "id": "NByq3H01MNiM"
      }
    },
    {
      "cell_type": "code",
      "source": [
        "\n",
        "intent_entity_recognition(input_sentences = \"I want to get the mondays event starting at 9am and until 5pm. \")"
      ],
      "metadata": {
        "colab": {
          "base_uri": "https://localhost:8080/"
        },
        "id": "p9sq670xdEig",
        "outputId": "8990b768-1311-43c2-bc7f-f4acaf7564d7"
      },
      "execution_count": 11,
      "outputs": [
        {
          "output_type": "stream",
          "name": "stdout",
          "text": [
            "INTENTS SENTENCE: reschedule the time of an event\n",
            "the function you want to call is reschedule_event, the keywords are {'START_TIME': '9am', 'END_TIME': 'until 5pm'}\n"
          ]
        },
        {
          "output_type": "execute_result",
          "data": {
            "text/plain": [
              "('reschedule_event',\n",
              " {'START_TIME': '9am', 'END_TIME': 'until 5pm'},\n",
              " \"You want to reschedule_event.  We need more information on ['EVENT_ID'], please add them.\")"
            ]
          },
          "metadata": {},
          "execution_count": 11
        }
      ]
    },
    {
      "cell_type": "code",
      "source": [
        "intent_entity_recognition(input_sentences = '''schedule a client meeting on December 10, 2023, starting at 10:30 AM. \\\n",
        "The meeting is expected to last for about 2 hours. We will meet at their office location. The event ID is z0gpmm1huzxw75ar0kiedcoda''')"
      ],
      "metadata": {
        "id": "sOTaMKaGvbs5",
        "colab": {
          "base_uri": "https://localhost:8080/"
        },
        "outputId": "779c066f-fcf0-4cc4-f656-099c189cda36"
      },
      "execution_count": 13,
      "outputs": [
        {
          "output_type": "stream",
          "name": "stdout",
          "text": [
            "INTENTS SENTENCE: reschedule the time of an event\n",
            "the function you want to call is reschedule_event, the keywords are {'START_TIME': '10:30 AM', 'END_TIME': 'last for about 2 hours', 'EVENT_ID': 'z0gpmm1huzxw75ar0kiedcoda'}\n"
          ]
        },
        {
          "output_type": "execute_result",
          "data": {
            "text/plain": [
              "('reschedule_event',\n",
              " {'START_TIME': '10:30 AM',\n",
              "  'END_TIME': 'last for about 2 hours',\n",
              "  'EVENT_ID': 'z0gpmm1huzxw75ar0kiedcoda'},\n",
              " 'You want to reschedule_event. the EVENT_ID = z0gpmm1huzxw75ar0kiedcoda the START_TIME = 10:30 AM the END_TIME = last for about 2 hours  All requirments are satisfied.')"
            ]
          },
          "metadata": {},
          "execution_count": 13
        }
      ]
    },
    {
      "cell_type": "code",
      "source": [],
      "metadata": {
        "id": "IkOEwQngPkHm"
      },
      "execution_count": null,
      "outputs": []
    }
  ]
}