{
  "nbformat": 4,
  "nbformat_minor": 0,
  "metadata": {
    "colab": {
      "provenance": []
    },
    "kernelspec": {
      "name": "python3",
      "display_name": "Python 3"
    },
    "language_info": {
      "name": "python"
    }
  },
  "cells": [
    {
      "cell_type": "markdown",
      "source": [
        "# Extract\n",
        "\n",
        "summary, start_time, end_time, date, location, event_id,\n",
        "\n",
        "date = False, event_id = False, summary=False, start_time=False, end_time=False, location=False"
      ],
      "metadata": {
        "id": "fl8bPO8XpVFq"
      }
    },
    {
      "cell_type": "markdown",
      "source": [
        "# spaCy v3\n",
        "tutorial: https://levelup.gitconnected.com/auto-detect-anything-with-custom-named-entity-recognition-ner-c89d6562e8e9\n",
        "\n",
        "using spaCy to annotate the text 1st,\n",
        "\n",
        "TOOLS:spacy prodigy software annotation NER (charged)\n",
        "\n"
      ],
      "metadata": {
        "id": "c8yhYMjNpVPT"
      }
    },
    {
      "cell_type": "code",
      "execution_count": 1,
      "metadata": {
        "id": "QcM-jgNfpTMp"
      },
      "outputs": [],
      "source": [
        "# library imports\n",
        "import pandas as pd\n",
        "import spacy\n",
        "from spacy import displacy\n",
        "from spacy.tokens import DocBin\n",
        "import json\n",
        "from datetime import datetime\n",
        "from tqdm import tqdm\n",
        "import re"
      ]
    },
    {
      "cell_type": "code",
      "source": [
        "#!jupyter-labextension install jupyterlab-prodigy"
      ],
      "metadata": {
        "colab": {
          "base_uri": "https://localhost:8080/"
        },
        "id": "rryKT-ZdqRLw",
        "outputId": "2664374e-e482-4421-8bdd-f3e911bb3947"
      },
      "execution_count": null,
      "outputs": [
        {
          "output_type": "stream",
          "name": "stdout",
          "text": [
            "/bin/bash: jupyter-labextension: command not found\n"
          ]
        }
      ]
    },
    {
      "cell_type": "code",
      "source": [
        "for kw in tqdm(['landscaping', 'lawn mowing', 'snow removal'])"
      ],
      "metadata": {
        "colab": {
          "base_uri": "https://localhost:8080/"
        },
        "id": "vA8xjlGXt46Y",
        "outputId": "6ea3369d-a825-4265-ddb8-d449e7b948d7"
      },
      "execution_count": 2,
      "outputs": [
        {
          "output_type": "stream",
          "name": "stderr",
          "text": [
            "\r  0%|          | 0/3 [00:00<?, ?it/s]"
          ]
        },
        {
          "output_type": "execute_result",
          "data": {
            "text/plain": [
              "<tqdm.std.tqdm at 0x7fad2dd00bb0>"
            ]
          },
          "metadata": {},
          "execution_count": 2
        }
      ]
    },
    {
      "cell_type": "code",
      "source": [
        "# key words [ date,summary, start_time, end_time, location,  event_id, ]\n",
        "\n",
        "collective_dict = {'TRAINING_DATA': []}\n",
        "\n",
        "def structure_training_data(text, kw_list_1, kw_list_2):\n",
        "    results = []\n",
        "    entities = []\n",
        "\n",
        "    # search for instances of keywords within the text (ignoring letter case)\n",
        "    for kw in tqdm(kw_list_1):\n",
        "        search = re.finditer(kw, text, flags=re.IGNORECASE)\n",
        "\n",
        "        # store the start/end character positions\n",
        "        all_instances = [[m.start(),m.end()] for m in search]\n",
        "\n",
        "        # if the callable_iterator found matches, create an 'entities' list\n",
        "        if len(all_instances)>0:\n",
        "            for i in all_instances:\n",
        "                start = i[0]\n",
        "                end = i[1]\n",
        "                entities.append((start, end, \"DATE\"))\n",
        "\n",
        "        # alert when no matches are found given the user inputs\n",
        "        else:\n",
        "            print(\"No pattern matches found. Keyword:\", kw)\n",
        "\n",
        "    for kw in tqdm(kw_list_2):\n",
        "        search = re.finditer(kw, text, flags=re.IGNORECASE)\n",
        "\n",
        "        # store the start/end character positions\n",
        "        all_instances = [[m.start(),m.end()] for m in search]\n",
        "\n",
        "        # if the callable_iterator found matches, create an 'entities' list\n",
        "        if len(all_instances)>0:\n",
        "            for i in all_instances:\n",
        "                start = i[0]\n",
        "                end = i[1]\n",
        "                entities.append((start, end, \"SUMMARY\"))\n",
        "\n",
        "        # alert when no matches are found given the user inputs\n",
        "        else:\n",
        "            print(\"No pattern matches found. Keyword:\", kw)\n",
        "\n",
        "    # add any found entities into a JSON format within collective_dict\n",
        "    if len(entities)>0:\n",
        "        results = [text, {\"entities\": entities}]\n",
        "        collective_dict['TRAINING_DATA'].append(results)\n",
        "        return"
      ],
      "metadata": {
        "id": "XH1dSCMzsaQu"
      },
      "execution_count": 5,
      "outputs": []
    },
    {
      "cell_type": "code",
      "source": [
        "input_sentences = [\n",
        "\n",
        "text5 = \"What is today's highlighted event?\",\n",
        "\"Can you tell me the main happening of the day?\",\n",
        "\"I'd like to know the event that's taking place today, please.\",\n",
        "\"What is the significant occurrence for today?\",\n",
        "\"Could you inform me about the event scheduled for today?\",\n",
        "\"I'm curious about the day's noteworthy event. What is it?\",\n",
        "\"Can you provide information on the event happening today?\",\n",
        "\"I'm interested in knowing the special event of the day.\",\n",
        "\"Could you share details about today's prominent event?\", #retreve event of a certain date\n",
        "\n",
        "\n",
        "text6 = \"Who is in the meeting?\",\n",
        " \"what is the purpose for this 8am meeting?\",\n",
        " \"give me the details about the next meeting\",\n",
        " 'tell me about the event at 9pm', # get certain event detail\n",
        "\"Am I free for next week?\",\n",
        " \"do I have things to do this afternoon?\",\n",
        " \"do I have free time between 9-10am?\",\n",
        "\n",
        "text7 = \"what is my availbility ?\", # get free time information\n",
        "\n",
        " text8 = \"delete the meeting\",\n",
        " \"cancel the event today\",\n",
        " \"cancel the event\",\n",
        " \"delete the event\",\n",
        "\"I want to cancel the afternoon events tomorrow\",\n",
        " \"clear my schedule for next week, i will be on vocation.\", #delete\n",
        "\"change the 9pm meeting to 10pm.\",\n",
        " \"update the meeting time for next Monday\",\n",
        "text9 = \"can I postpone the post office errand?\",\n",
        " \"make the grocery shopping trip earlier\" # update a certain event\n",
        "\n",
        " ]\n",
        "\n",
        "\n",
        " # TRAINING\n",
        "structure_training_data(text1, ['landscaping', 'lawn mowing', 'snow removal'], ['any time'])\n",
        "structure_training_data(text2, ['cleaning services', 'maid services', 'housekeeping'], ['today'])\n",
        "structure_training_data(text3, ['roofing', 'roof repair', 'siding replacement'], ['whatever season'])\n",
        "structure_training_data(text4, ['landscape design', 'tree removal', 'lawn care', 'hardscaping'], ['1994', 'today'])\n"
      ],
      "metadata": {
        "id": "7lFjAE-fyt0Q"
      },
      "execution_count": null,
      "outputs": []
    },
    {
      "cell_type": "code",
      "source": [
        "\n",
        "text1 = \"BigTime Care has a broad array of service offerings for Philadelphia-area clientele. \\\n",
        "For 50 years, we have specialized in landscaping and lawn mowing. \\\n",
        "We also provide seasonal snow removal services for local commercial and residential properties. \\\n",
        "Call any time to schedule a consultation!\"\n",
        "\n",
        "text2 = \"Scrub-O Cleaning connects independent professionals with customers. \\\n",
        "We offer the full range of customizable cleaning services that you may need now and in \\\n",
        "the future, and our team is ready to begin working for you today! We offer quality maid \\\n",
        "services and housekeeping across the San Francisco Bay Area.\"\n",
        "\n",
        "text3 = \"Locally owned and operated, Trust Roofing has the best roofing services in \\\n",
        "Philadelphia and the surrounding areas. Whatever the season, you can count on us to provide \\\n",
        "you with the best possible roof repair.\\ We will work with any given roof replacement material, \\\n",
        "including asphalt shingles and metal roofs. Siding replacement services are also available.\"\n",
        "\n",
        "text4 = \"Based in Pittsburgh PA, Tammy's Branch Cuts is a family owned and managed smalled \\\n",
        "businesses founded in 1994. We specialize in full-service landscape design, including \\\n",
        "tree removal, lawn care to protect your existing plants, and comprehensive hardscaping for \\\n",
        "patios, walkways, and outdoor living spaces. Contact us today!\"\n",
        "\n",
        "# TRAINING\n",
        "structure_training_data(text1, ['landscaping', 'lawn mowing', 'snow removal'], ['any time'])\n",
        "structure_training_data(text2, ['cleaning services', 'maid services', 'housekeeping'], ['today'])\n",
        "structure_training_data(text3, ['roofing', 'roof repair', 'siding replacement'], ['whatever season'])\n",
        "structure_training_data(text4, ['landscape design', 'tree removal', 'lawn care', 'hardscaping'], ['1994', 'today'])\n"
      ],
      "metadata": {
        "colab": {
          "base_uri": "https://localhost:8080/"
        },
        "id": "Q_HaCN6BtHnk",
        "outputId": "3e2fa9fb-2f0b-49b0-ccb6-b56aef8de956"
      },
      "execution_count": 6,
      "outputs": [
        {
          "output_type": "stream",
          "name": "stderr",
          "text": [
            "\n",
            "100%|██████████| 3/3 [00:00<00:00, 7869.24it/s]\n",
            "\n",
            "100%|██████████| 1/1 [00:00<00:00, 5115.00it/s]\n",
            "\n",
            "100%|██████████| 3/3 [00:00<00:00, 4086.69it/s]\n",
            "\n",
            "100%|██████████| 1/1 [00:00<00:00, 5289.16it/s]\n",
            "\n",
            "100%|██████████| 3/3 [00:00<00:00, 9104.86it/s]\n",
            "\n",
            "100%|██████████| 1/1 [00:00<00:00, 4634.59it/s]\n"
          ]
        },
        {
          "output_type": "stream",
          "name": "stdout",
          "text": [
            "No pattern matches found. Keyword: whatever season\n"
          ]
        },
        {
          "output_type": "stream",
          "name": "stderr",
          "text": [
            "\n",
            "100%|██████████| 4/4 [00:00<00:00, 9187.96it/s]\n",
            "\n",
            "100%|██████████| 2/2 [00:00<00:00, 9608.94it/s]\n"
          ]
        }
      ]
    },
    {
      "cell_type": "code",
      "source": [
        "collective_dict['TRAINING_DATA']"
      ],
      "metadata": {
        "colab": {
          "base_uri": "https://localhost:8080/"
        },
        "id": "f6AmcLZ5tMDK",
        "outputId": "a7d7a6dd-53af-4104-e1c4-a9925a1c30dd"
      },
      "execution_count": 7,
      "outputs": [
        {
          "output_type": "execute_result",
          "data": {
            "text/plain": [
              "[['BigTime Care has a broad array of service offerings for Philadelphia-area clientele. For 50 years, we have specialized in landscaping and lawn mowing. We also provide seasonal snow removal services for local commercial and residential properties. Call any time to schedule a consultation!',\n",
              "  {'entities': [(122, 133, 'SERVICE'),\n",
              "    (138, 149, 'SERVICE'),\n",
              "    (176, 188, 'SERVICE'),\n",
              "    (252, 260, 'TIME')]}],\n",
              " ['Scrub-O Cleaning connects independent professionals with customers. We offer the full range of customizable cleaning services that you may need now and in the future, and our team is ready to begin working for you today! We offer quality maid services and housekeeping across the San Francisco Bay Area.',\n",
              "  {'entities': [(108, 125, 'SERVICE'),\n",
              "    (238, 251, 'SERVICE'),\n",
              "    (256, 268, 'SERVICE'),\n",
              "    (214, 219, 'TIME')]}],\n",
              " ['Locally owned and operated, Trust Roofing has the best roofing services in Philadelphia and the surrounding areas. Whatever the season, you can count on us to provide you with the best possible roof repair.\\\\ We will work with any given roof replacement material, including asphalt shingles and metal roofs. Siding replacement services are also available.',\n",
              "  {'entities': [(34, 41, 'SERVICE'),\n",
              "    (55, 62, 'SERVICE'),\n",
              "    (194, 205, 'SERVICE'),\n",
              "    (307, 325, 'SERVICE')]}],\n",
              " [\"Based in Pittsburgh PA, Tammy's Branch Cuts is a family owned and managed smalled businesses founded in 1994. We specialize in full-service landscape design, including tree removal, lawn care to protect your existing plants, and comprehensive hardscaping for patios, walkways, and outdoor living spaces. Contact us today!\",\n",
              "  {'entities': [(140, 156, 'SERVICE'),\n",
              "    (168, 180, 'SERVICE'),\n",
              "    (182, 191, 'SERVICE'),\n",
              "    (243, 254, 'SERVICE'),\n",
              "    (104, 108, 'TIME'),\n",
              "    (315, 320, 'TIME')]}]]"
            ]
          },
          "metadata": {},
          "execution_count": 7
        }
      ]
    },
    {
      "cell_type": "code",
      "source": [
        "collective_dict"
      ],
      "metadata": {
        "id": "Ek3kX97GtTvx"
      },
      "execution_count": null,
      "outputs": []
    },
    {
      "cell_type": "markdown",
      "source": [],
      "metadata": {
        "id": "6jhVdi4RtaQS"
      }
    },
    {
      "cell_type": "markdown",
      "source": [
        "# training use Spacy"
      ],
      "metadata": {
        "id": "rz3ZDBJAtaS2"
      }
    },
    {
      "cell_type": "code",
      "source": [
        "\n",
        "# define our training data to TRAIN_DATA\n",
        "TRAIN_DATA = collective_dict['TRAINING_DATA']\n",
        "\n",
        "# create a blank model\n",
        "nlp = spacy.blank('en')\n",
        "\n",
        "def create_training(TRAIN_DATA):\n",
        "    db = DocBin()\n",
        "    for text, annot in tqdm(TRAIN_DATA):\n",
        "        doc = nlp.make_doc(text)\n",
        "        ents = []\n",
        "\n",
        "        # create span objects\n",
        "        for start, end, label in annot[\"entities\"]:\n",
        "            span = doc.char_span(start, end, label=label, alignment_mode=\"contract\")\n",
        "\n",
        "            # skip if the character indices do not map to a valid span\n",
        "            if span is None:\n",
        "                print(\"Skipping entity.\")\n",
        "            else:\n",
        "                ents.append(span)\n",
        "                # handle erroneous entity annotations by removing them\n",
        "                try:\n",
        "                    doc.ents = ents\n",
        "                except:\n",
        "                    # print(\"BAD SPAN:\", span, \"\\n\")\n",
        "                    ents.pop()\n",
        "        doc.ents = ents\n",
        "\n",
        "        # pack Doc objects into DocBin\n",
        "        db.add(doc)\n",
        "    return db\n",
        "\n",
        "TRAIN_DATA_DOC = create_training(TRAIN_DATA)\n",
        "\n",
        "# Export results (here I add it to a TRAIN_DATA folder within the directory)\n",
        "TRAIN_DATA_DOC.to_disk(\"TRAIN_DATA.spacy\")\n"
      ],
      "metadata": {
        "colab": {
          "base_uri": "https://localhost:8080/"
        },
        "id": "g9i6CgR7tVmh",
        "outputId": "3bea40ba-7292-4345-ea00-ae8ca4a289b9"
      },
      "execution_count": null,
      "outputs": [
        {
          "output_type": "stream",
          "name": "stderr",
          "text": [
            "100%|██████████| 4/4 [00:00<00:00, 430.15it/s]\n"
          ]
        }
      ]
    },
    {
      "cell_type": "markdown",
      "source": [
        "# test the custom tagging\n",
        "after running command line for spacy on local terminal (with cpu)"
      ],
      "metadata": {
        "id": "DFK5H41FwZSL"
      }
    },
    {
      "cell_type": "code",
      "source": [
        "\n",
        "model_test = \"At Perfection Landscapes LLC, we are committed to protecting the health of trees \\\n",
        "and shrubs in urban and suburban areas. We work with clients to provide expertise in all areas \\\n",
        "of tree care, stump removal, and construction-related tree preservation. Our trained experts \\\n",
        "also have years of experience with insect control. Call us today for a consultation!\"\n",
        "\n",
        "# load the trained model\n",
        "nlp_output = spacy.load(\"output/model-best\")\n",
        "\n",
        "# pass our test instance into the trained pipeline\n",
        "doc = nlp_output(model_test)\n",
        "\n",
        "# customize the label colors\n",
        "colors = {\"SERVICE\": \"linear-gradient(90deg, #E1D436, #F59710)\"}\n",
        "options = {\"ents\": [\"SERVICE\"], \"colors\": colors}\n",
        "\n",
        "# visualize the identified entities\n",
        "displacy.render(doc, style=\"ent\", options=options)\n",
        "\n",
        "# print out the identified entities\n",
        "for ent in doc.ents:\n",
        "    if ent.label_ == \"SERVICE\":\n",
        "        print(ent.text, ent.label_)\n"
      ],
      "metadata": {
        "id": "GI6Gqu7dwX9y"
      },
      "execution_count": null,
      "outputs": []
    },
    {
      "cell_type": "code",
      "source": [],
      "metadata": {
        "id": "XU3KEAWBwc8S"
      },
      "execution_count": null,
      "outputs": []
    },
    {
      "cell_type": "markdown",
      "source": [],
      "metadata": {
        "id": "eOUX-DnzwdVG"
      }
    }
  ]
}