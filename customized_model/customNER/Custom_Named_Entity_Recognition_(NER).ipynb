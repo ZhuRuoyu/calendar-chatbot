{
  "nbformat": 4,
  "nbformat_minor": 0,
  "metadata": {
    "colab": {
      "provenance": []
    },
    "kernelspec": {
      "name": "python3",
      "display_name": "Python 3"
    },
    "language_info": {
      "name": "python"
    }
  },
  "cells": [
    {
      "cell_type": "markdown",
      "source": [
        "# Extract\n",
        "\n",
        "summary, start_time, end_time, date, location, event_id,\n",
        "\n",
        "date = False, event_id = False, summary=False, start_time=False, end_time=False, location=False"
      ],
      "metadata": {
        "id": "fl8bPO8XpVFq"
      }
    },
    {
      "cell_type": "markdown",
      "source": [
        "## event_id\n",
        "\n",
        "https://stackoverflow.com/questions/32755413/how-can-i-find-the-event-id-of-my-google-calendar-event\n",
        "\n",
        "https://www.base64decode.org/\n",
        "\n",
        "4htgpmm1hmak744r0kbkdcodar eugu9kan1ddi1pmi6sk3ib5¨6g@g"
      ],
      "metadata": {
        "id": "vb_tQn8oA6dJ"
      }
    },
    {
      "cell_type": "markdown",
      "source": [
        "# spaCy v3\n",
        "tutorial: https://levelup.gitconnected.com/auto-detect-anything-with-custom-named-entity-recognition-ner-c89d6562e8e9\n",
        "\n",
        "using spaCy to annotate the text 1st,\n",
        "\n",
        "TOOLS:spacy prodigy software annotation NER (charged)\n",
        "\n"
      ],
      "metadata": {
        "id": "c8yhYMjNpVPT"
      }
    },
    {
      "cell_type": "code",
      "execution_count": 83,
      "metadata": {
        "id": "QcM-jgNfpTMp"
      },
      "outputs": [],
      "source": [
        "# library imports\n",
        "import pandas as pd\n",
        "import spacy\n",
        "from spacy import displacy\n",
        "from spacy.tokens import DocBin\n",
        "import json\n",
        "from datetime import datetime\n",
        "from tqdm import tqdm\n",
        "import re"
      ]
    },
    {
      "cell_type": "markdown",
      "source": [],
      "metadata": {
        "id": "BwdE6rXvWJFL"
      }
    },
    {
      "cell_type": "code",
      "source": [
        "#!jupyter-labextension install jupyterlab-prodigy"
      ],
      "metadata": {
        "colab": {
          "base_uri": "https://localhost:8080/"
        },
        "id": "rryKT-ZdqRLw",
        "outputId": "2664374e-e482-4421-8bdd-f3e911bb3947"
      },
      "execution_count": null,
      "outputs": [
        {
          "output_type": "stream",
          "name": "stdout",
          "text": [
            "/bin/bash: jupyter-labextension: command not found\n"
          ]
        }
      ]
    },
    {
      "cell_type": "code",
      "source": [
        "# key words [ date,summary, start_time, end_time, location,  event_id, ]\n",
        "\n",
        "collective_dict = {'TRAINING_DATA': []}\n",
        "\n",
        "def structure_training_data(text, kw_date, kw_summary, kw_start_time, kw_end_time, kw_location, kw_event_id):\n",
        "    results = []\n",
        "    entities = []\n",
        "\n",
        "    for kw_list in [kw_date, kw_summary, kw_start_time, kw_end_time, kw_location, kw_event_id]:\n",
        "      #kw_list = date list / summary list ...\n",
        "\n",
        "      # search for instances of keywords within the text (ignoring letter case)\n",
        "\n",
        "      entity_name = kw_list['name']\n",
        "\n",
        "      for kw in tqdm(kw_list['list']):\n",
        "\n",
        "          search = re.finditer(kw, str(text), flags=re.IGNORECASE)\n",
        "\n",
        "          # store the start/end character positions\n",
        "          all_instances = [[m.start(),m.end()] for m in search]\n",
        "\n",
        "          # if the callable_iterator found matches, create an 'entities' list\n",
        "          if len(all_instances)>0:\n",
        "              for i in all_instances:\n",
        "                  start = i[0]\n",
        "                  end = i[1]\n",
        "                  entities.append((start, end, entity_name))\n",
        "\n",
        "          # alert when no matches are found given the user inputs\n",
        "          else:\n",
        "              print(\"No pattern matches found. Keyword:\", kw)\n",
        "\n",
        "\n",
        "\n",
        "\n",
        "\n",
        "\n",
        "    # add any found entities into a JSON format within collective_dict\n",
        "    if len(entities)>0:\n",
        "        results = [text, {\"entities\": entities}]\n",
        "        collective_dict['TRAINING_DATA'].append(results)\n",
        "        return"
      ],
      "metadata": {
        "id": "s66rDgQHIWcE"
      },
      "execution_count": 117,
      "outputs": []
    },
    {
      "cell_type": "code",
      "source": [
        "#input_sentences = [\n",
        "\n",
        "text5 = \"Could you please schedule a Google Calendar event for me? The event details are as follows: \\n Schedule a meeting on July 23, 2024, starting at 10:00 AM and ending at 11:00 AM. \\nLet's meet at Conference Room 101. The event ID for this meeting is 4htgpmm1hmak744r0kbkdcodar.\",\n",
        "\n",
        "text6 = \"Schedule a video conference on August 5, 2023, from 2:00 PM to 3:00 PM. \\n The meeting will take place online using Zoom. \\n The event ID is s5gpmm1h3v77l84r0kz9dcoda4.\",\n",
        "\n",
        "text7 = \"Set up a lunch meeting on September 10, 2023, starting at 12:30 PM and ending at 1:30 PM.\\n We will dine at the restaurant 'La Bella Italia' downtown. \\n The event ID is b1gpmm1hc08c99rr8k6idcodb7.\",\n",
        "\n",
        "text8 = \"Plan a team training session on October 20, 2023, from 9:00 AM to 12:00 PM. \\n The session will be held in the Training Room, Building B. The event ID is n9gpmm1h5zme375r0kcidcoda2.\" ,\n",
        "\n",
        "text9 = \"Please schedule a conference call on November 15, 2023, from 3:00 PM for approximately 1 hour. \\n We will discuss the new project proposal. The call will take place online, and the event ID is x3gpmm1h93a617rr0kcudcoday.\",\n",
        "\n",
        "text10 = \"Schedule a client meeting on December 10, 2023, starting at 10:30 AM. \\n The meeting is expected to last for about 2 hours. We will meet at their office location. The event ID is z0gpmm1huzxw75ar0kiedcoda3.\",\n",
        "#]"
      ],
      "metadata": {
        "id": "7lFjAE-fyt0Q"
      },
      "execution_count": 106,
      "outputs": []
    },
    {
      "cell_type": "code",
      "source": [
        "kw_date = {\"name\": 'DATE',\"list\": ['July 23, 2024']}\n",
        "kw_summary = {\"name\": 'SUMMARY',\"list\": ['a meeting']}\n",
        "kw_start_time = {\"name\": 'START_TIME',\"list\": ['10:00 AM']}\n",
        "kw_end_time = {\"name\": 'END_TIME',\"list\": ['11:00 AM']}\n",
        "kw_location = {\"name\": 'LOCATION',\"list\": ['Conference Room 101']}\n",
        "kw_event_id = {\"name\": 'EVENT_ID',\"list\": ['4htgpmm1hmak744r0kbkdcodar']}\n",
        "\n",
        "\n",
        "\n",
        "structure_training_data(text5, kw_date,kw_summary,kw_start_time,kw_end_time, kw_location, kw_event_id)\n"
      ],
      "metadata": {
        "colab": {
          "base_uri": "https://localhost:8080/"
        },
        "id": "TzcLQpmMG2xW",
        "outputId": "c9fc1173-4719-42fe-dde8-6bc07e43b255"
      },
      "execution_count": 118,
      "outputs": [
        {
          "output_type": "stream",
          "name": "stderr",
          "text": [
            "100%|██████████| 1/1 [00:00<00:00, 1510.37it/s]\n",
            "100%|██████████| 1/1 [00:00<00:00, 7913.78it/s]\n",
            "100%|██████████| 1/1 [00:00<00:00, 7869.24it/s]\n",
            "100%|██████████| 1/1 [00:00<00:00, 9218.25it/s]\n",
            "100%|██████████| 1/1 [00:00<00:00, 7503.23it/s]\n",
            "100%|██████████| 1/1 [00:00<00:00, 9000.65it/s]\n"
          ]
        }
      ]
    },
    {
      "cell_type": "code",
      "source": [
        "\n",
        " # TRAINING\n",
        "\n",
        "\n",
        "\n",
        "structure_training_data(\n",
        "    text6,\n",
        "     {\"name\": 'DATE',\n",
        "      \"list\": ['August 5, 2023']},\n",
        "\n",
        "       {\"name\": 'SUMMARY',\n",
        "        \"list\": ['a video conference']},\n",
        "\n",
        "    {\"name\": 'START_TIME',\n",
        "        \"list\": ['2:00 PM']},\n",
        "\n",
        "    {\"name\": 'END_TIME',\n",
        "        \"list\": ['3:00 PM']},\n",
        "\n",
        "    {\"name\": 'LOCATION',\n",
        "        \"list\": ['online using Zoom']},\n",
        "\n",
        "    {\"name\": 'EVENT_ID',\n",
        "        \"list\": ['s5gpmm1h3v77l84r0kz9dcoda4']},\n",
        "\n",
        "    )\n",
        "\n",
        "structure_training_data(\n",
        "    text7,\n",
        "     {\"name\": 'DATE',\n",
        "      \"list\": ['September 10, 2023']},\n",
        "\n",
        "       {\"name\": 'SUMMARY',\n",
        "        \"list\": ['a lunch meeting']},\n",
        "\n",
        "    {\"name\": 'START_TIME',\n",
        "        \"list\": ['12:30 PM']},\n",
        "\n",
        "    {\"name\": 'END_TIME',\n",
        "        \"list\": ['1:30 PM']},\n",
        "\n",
        "    {\"name\": 'LOCATION',\n",
        "        \"list\": [\"at the restaurant 'La Bella Italia' downtown\"]},\n",
        "\n",
        "    {\"name\": 'EVENT_ID',\n",
        "        \"list\": ['b1gpmm1hc08c99rr8k6idcodb7']},\n",
        "\n",
        "    )\n",
        "\n",
        "structure_training_data(\n",
        "    text8,\n",
        "     {\"name\": 'DATE',\n",
        "      \"list\": ['October 20, 2023']},\n",
        "\n",
        "       {\"name\": 'SUMMARY',\n",
        "        \"list\": ['a team training session']},\n",
        "\n",
        "    {\"name\": 'START_TIME',\n",
        "        \"list\": ['9:00 AM']},\n",
        "\n",
        "    {\"name\": 'END_TIME',\n",
        "        \"list\": ['12:00 PM']},\n",
        "\n",
        "    {\"name\": 'LOCATION',\n",
        "        \"list\": ['Training Room, Building B']},\n",
        "\n",
        "    {\"name\": 'EVENT_ID',\n",
        "        \"list\": ['n9gpmm1h5zme375r0kcidcoda2']},\n",
        "\n",
        "    )\n",
        "\n",
        "\n",
        "\n",
        "structure_training_data(\n",
        "    text9,\n",
        "     {\"name\": 'DATE',\n",
        "      \"list\": ['November 15, 2023']},\n",
        "\n",
        "       {\"name\": 'SUMMARY',\n",
        "        \"list\": ['a conference call', 'discuss the new project proposal']},\n",
        "\n",
        "    {\"name\": 'START_TIME',\n",
        "        \"list\": ['3:00 PM']},\n",
        "\n",
        "    {\"name\": 'END_TIME',\n",
        "        \"list\": ['approximately 1 hour']},\n",
        "\n",
        "    {\"name\": 'LOCATION',\n",
        "        \"list\": ['online']},\n",
        "\n",
        "    {\"name\": 'EVENT_ID',\n",
        "        \"list\": ['x3gpmm1h93a617rr0kcudcoday']},\n",
        "\n",
        "    )\n",
        "\n",
        "\n",
        "\n",
        "structure_training_data(\n",
        "    text10,\n",
        "     {\"name\": 'DATE',\n",
        "      \"list\": ['December 10, 2023']},\n",
        "\n",
        "       {\"name\": 'SUMMARY',\n",
        "        \"list\": ['a client meeting']},\n",
        "\n",
        "    {\"name\": 'START_TIME',\n",
        "        \"list\": ['10:30 AM']},\n",
        "\n",
        "    {\"name\": 'END_TIME',\n",
        "        \"list\": ['last for about 2 hours']},\n",
        "\n",
        "    {\"name\": 'LOCATION',\n",
        "        \"list\": ['their office locatio']},\n",
        "\n",
        "    {\"name\": 'EVENT_ID',\n",
        "        \"list\": ['z0gpmm1huzxw75ar0kiedcoda3']},\n",
        "\n",
        "    )\n",
        "\n",
        "\n"
      ],
      "metadata": {
        "colab": {
          "base_uri": "https://localhost:8080/"
        },
        "id": "d1rvB0dHBTpZ",
        "outputId": "254e24db-63ef-4409-f2d2-f4b9059f75f7"
      },
      "execution_count": 119,
      "outputs": [
        {
          "output_type": "stream",
          "name": "stderr",
          "text": [
            "100%|██████████| 1/1 [00:00<00:00, 2721.81it/s]\n",
            "100%|██████████| 1/1 [00:00<00:00, 3061.54it/s]\n",
            "100%|██████████| 1/1 [00:00<00:00, 3682.44it/s]\n",
            "100%|██████████| 1/1 [00:00<00:00, 3833.92it/s]\n",
            "100%|██████████| 1/1 [00:00<00:00, 3469.23it/s]\n",
            "100%|██████████| 1/1 [00:00<00:00, 1976.58it/s]\n",
            "100%|██████████| 1/1 [00:00<00:00, 2080.51it/s]\n",
            "100%|██████████| 1/1 [00:00<00:00, 3644.05it/s]\n",
            "100%|██████████| 1/1 [00:00<00:00, 4262.50it/s]\n",
            "100%|██████████| 1/1 [00:00<00:00, 3887.21it/s]\n",
            "100%|██████████| 1/1 [00:00<00:00, 2741.38it/s]\n",
            "100%|██████████| 1/1 [00:00<00:00, 3132.42it/s]\n",
            "100%|██████████| 1/1 [00:00<00:00, 1952.66it/s]\n",
            "100%|██████████| 1/1 [00:00<00:00, 1949.03it/s]\n",
            "100%|██████████| 1/1 [00:00<00:00, 3768.47it/s]\n",
            "100%|██████████| 1/1 [00:00<00:00, 4401.16it/s]\n",
            "100%|██████████| 1/1 [00:00<00:00, 3554.49it/s]\n",
            "100%|██████████| 1/1 [00:00<00:00, 2970.47it/s]\n",
            "100%|██████████| 1/1 [00:00<00:00, 3024.01it/s]\n",
            "100%|██████████| 2/2 [00:00<00:00, 4583.94it/s]\n",
            "100%|██████████| 1/1 [00:00<00:00, 8774.69it/s]\n",
            "100%|██████████| 1/1 [00:00<00:00, 3048.19it/s]\n",
            "100%|██████████| 1/1 [00:00<00:00, 4271.19it/s]\n",
            "100%|██████████| 1/1 [00:00<00:00, 3371.63it/s]\n",
            "100%|██████████| 1/1 [00:00<00:00, 3799.19it/s]\n",
            "100%|██████████| 1/1 [00:00<00:00, 3785.47it/s]\n",
            "100%|██████████| 1/1 [00:00<00:00, 4438.42it/s]\n",
            "100%|██████████| 1/1 [00:00<00:00, 3640.89it/s]\n",
            "100%|██████████| 1/1 [00:00<00:00, 1985.94it/s]\n",
            "100%|██████████| 1/1 [00:00<00:00, 3243.85it/s]\n"
          ]
        }
      ]
    },
    {
      "cell_type": "code",
      "source": [
        "\n",
        "# text1 = \"BigTime Care has a broad array of service offerings for Philadelphia-area clientele. \\\n",
        "# For 50 years, we have specialized in landscaping and lawn mowing. \\\n",
        "# We also provide seasonal snow removal services for local commercial and residential properties. \\\n",
        "# Call any time to schedule a consultation!\"\n",
        "\n",
        "# text2 = \"Scrub-O Cleaning connects independent professionals with customers. \\\n",
        "# We offer the full range of customizable cleaning services that you may need now and in \\\n",
        "# the future, and our team is ready to begin working for you today! We offer quality maid \\\n",
        "# services and housekeeping across the San Francisco Bay Area.\"\n",
        "\n",
        "# text3 = \"Locally owned and operated, Trust Roofing has the best roofing services in \\\n",
        "# Philadelphia and the surrounding areas. Whatever the season, you can count on us to provide \\\n",
        "# you with the best possible roof repair.\\ We will work with any given roof replacement material, \\\n",
        "# including asphalt shingles and metal roofs. Siding replacement services are also available.\"\n",
        "\n",
        "# text4 = \"Based in Pittsburgh PA, Tammy's Branch Cuts is a family owned and managed smalled \\\n",
        "# businesses founded in 1994. We specialize in full-service landscape design, including \\\n",
        "# tree removal, lawn care to protect your existing plants, and comprehensive hardscaping for \\\n",
        "# patios, walkways, and outdoor living spaces. Contact us today!\"\n",
        "\n",
        "# # TRAINING\n",
        "\n",
        "# #{ \"name\": 'DATE', \"list\": ['landscaping', 'lawn mowing', 'snow removal']}\n",
        "# #{ \"name\": 'SUMMARY', \"list\": ['any time']}\n",
        "\n",
        "\n",
        "# structure_training_data(text1, {\"name\": 'DATE',\n",
        "#                                 \"list\": ['landscaping', 'lawn mowing', 'snow removal']},\n",
        "#                                  {\"name\": 'SUMMARY',\n",
        "#                                   \"list\": ['any time']})\n",
        "\n",
        "\n",
        "# structure_training_data(text2, { \"name\": 'DATE', \"list\": ['cleaning services', 'maid services', 'housekeeping']}, { \"name\": 'SUMMARY', \"list\": ['today']})\n",
        "\n",
        "# structure_training_data(text3, { \"name\": 'DATE', \"list\": ['roofing', 'roof repair', 'siding replacement']}, { \"name\": 'SUMMARY', \"list\": ['whatever season']})\n",
        "\n",
        "# structure_training_data(text4, { \"name\": 'DATE', \"list\": ['landscape design', 'tree removal', 'lawn care', 'hardscaping']}, { \"name\": 'SUMMARY', \"list\": ['1994', 'today']})\n",
        "\n",
        "\n",
        "\n",
        "\n",
        "\n",
        "# structure_training_data(text2, ['cleaning services', 'maid services', 'housekeeping'], ['today'])\n",
        "# structure_training_data(text3, ['roofing', 'roof repair', 'siding replacement'], ['whatever season'])\n",
        "# structure_training_data(text4, ['landscape design', 'tree removal', 'lawn care', 'hardscaping'], ['1994', 'today'])\n"
      ],
      "metadata": {
        "colab": {
          "base_uri": "https://localhost:8080/"
        },
        "id": "Q_HaCN6BtHnk",
        "outputId": "61df2687-a4f1-49fa-95df-6cb7cabee4db"
      },
      "execution_count": 23,
      "outputs": [
        {
          "output_type": "stream",
          "name": "stderr",
          "text": [
            "100%|██████████| 3/3 [00:00<00:00, 6316.72it/s]\n",
            "100%|██████████| 1/1 [00:00<00:00, 4495.50it/s]\n",
            "100%|██████████| 3/3 [00:00<00:00, 6037.87it/s]\n",
            "100%|██████████| 1/1 [00:00<00:00, 5171.77it/s]\n",
            "100%|██████████| 3/3 [00:00<00:00, 6842.26it/s]\n",
            "100%|██████████| 1/1 [00:00<00:00, 3179.91it/s]\n"
          ]
        },
        {
          "output_type": "stream",
          "name": "stdout",
          "text": [
            "No pattern matches found. Keyword: whatever season\n"
          ]
        },
        {
          "output_type": "stream",
          "name": "stderr",
          "text": [
            "100%|██████████| 4/4 [00:00<00:00, 8460.52it/s]\n",
            "100%|██████████| 2/2 [00:00<00:00, 10155.70it/s]\n"
          ]
        }
      ]
    },
    {
      "cell_type": "code",
      "source": [
        "collective_dict['TRAINING_DATA']"
      ],
      "metadata": {
        "colab": {
          "base_uri": "https://localhost:8080/"
        },
        "id": "f6AmcLZ5tMDK",
        "outputId": "cb34f97b-0fd1-4eb3-f31e-1fa230ca3b9f"
      },
      "execution_count": 120,
      "outputs": [
        {
          "output_type": "execute_result",
          "data": {
            "text/plain": [
              "[[(\"Could you please schedule a Google Calendar event for me? The event details are as follows: \\n Schedule a meeting on July 23, 2024, starting at 10:00 AM and ending at 11:00 AM. \\nLet's meet at Conference Room 101. The event ID for this meeting is 4htgpmm1hmak744r0kbkdcodar.\",),\n",
              "  {'entities': [(119, 132, 'DATE'),\n",
              "    (106, 115, 'SUMMARY'),\n",
              "    (146, 154, 'START_TIME'),\n",
              "    (169, 177, 'END_TIME'),\n",
              "    (195, 214, 'LOCATION'),\n",
              "    (249, 275, 'EVENT_ID')]}],\n",
              " [('Schedule a video conference on August 5, 2023, from 2:00 PM to 3:00 PM. \\n The meeting will take place online using Zoom. \\n The event ID is s5gpmm1h3v77l84r0kz9dcoda4.',),\n",
              "  {'entities': [(33, 47, 'DATE'),\n",
              "    (11, 29, 'SUMMARY'),\n",
              "    (54, 61, 'START_TIME'),\n",
              "    (65, 72, 'END_TIME'),\n",
              "    (105, 122, 'LOCATION'),\n",
              "    (143, 169, 'EVENT_ID')]}],\n",
              " [(\"Set up a lunch meeting on September 10, 2023, starting at 12:30 PM and ending at 1:30 PM.\\n We will dine at the restaurant 'La Bella Italia' downtown. \\n The event ID is b1gpmm1hc08c99rr8k6idcodb7.\",),\n",
              "  {'entities': [(28, 46, 'DATE'),\n",
              "    (9, 24, 'SUMMARY'),\n",
              "    (60, 68, 'START_TIME'),\n",
              "    (83, 90, 'END_TIME'),\n",
              "    (107, 151, 'LOCATION'),\n",
              "    (172, 198, 'EVENT_ID')]}],\n",
              " [('Plan a team training session on October 20, 2023, from 9:00 AM to 12:00 PM. \\n The session will be held in the Training Room, Building B. The event ID is n9gpmm1h5zme375r0kcidcoda2.',),\n",
              "  {'entities': [(34, 50, 'DATE'),\n",
              "    (7, 30, 'SUMMARY'),\n",
              "    (57, 64, 'START_TIME'),\n",
              "    (68, 76, 'END_TIME'),\n",
              "    (113, 138, 'LOCATION'),\n",
              "    (156, 182, 'EVENT_ID')]}],\n",
              " [('Please schedule a conference call on November 15, 2023, from 3:00 PM for approximately 1 hour. \\n We will discuss the new project proposal. The call will take place online, and the event ID is x3gpmm1h93a617rr0kcudcoday.',),\n",
              "  {'entities': [(39, 56, 'DATE'),\n",
              "    (18, 35, 'SUMMARY'),\n",
              "    (108, 140, 'SUMMARY'),\n",
              "    (63, 70, 'START_TIME'),\n",
              "    (75, 95, 'END_TIME'),\n",
              "    (167, 173, 'LOCATION'),\n",
              "    (195, 221, 'EVENT_ID')]}],\n",
              " [('Schedule a client meeting on December 10, 2023, starting at 10:30 AM. \\n The meeting is expected to last for about 2 hours. We will meet at their office location. The event ID is z0gpmm1huzxw75ar0kiedcoda3.',),\n",
              "  {'entities': [(31, 48, 'DATE'),\n",
              "    (11, 27, 'SUMMARY'),\n",
              "    (62, 70, 'START_TIME'),\n",
              "    (102, 124, 'END_TIME'),\n",
              "    (142, 162, 'LOCATION'),\n",
              "    (181, 207, 'EVENT_ID')]}]]"
            ]
          },
          "metadata": {},
          "execution_count": 120
        }
      ]
    },
    {
      "cell_type": "code",
      "source": [
        "collective_dict"
      ],
      "metadata": {
        "id": "Ek3kX97GtTvx"
      },
      "execution_count": null,
      "outputs": []
    },
    {
      "cell_type": "markdown",
      "source": [],
      "metadata": {
        "id": "6jhVdi4RtaQS"
      }
    },
    {
      "cell_type": "markdown",
      "source": [
        "# save training data  in .spacy"
      ],
      "metadata": {
        "id": "rz3ZDBJAtaS2"
      }
    },
    {
      "cell_type": "code",
      "source": [
        "\n",
        "# define our training data to TRAIN_DATA\n",
        "TRAIN_DATA = collective_dict['TRAINING_DATA']\n",
        "\n",
        "# create a blank model\n",
        "nlp = spacy.blank('en')\n",
        "\n",
        "def create_training(TRAIN_DATA):\n",
        "    db = DocBin()\n",
        "    for text, annot in tqdm(TRAIN_DATA):\n",
        "        doc = nlp.make_doc(str(text))\n",
        "        ents = []\n",
        "\n",
        "        # create span objects\n",
        "        for start, end, label in annot[\"entities\"]:\n",
        "            span = doc.char_span(start, end, label=label, alignment_mode=\"contract\")\n",
        "\n",
        "            # skip if the character indices do not map to a valid span\n",
        "            if span is None:\n",
        "                print(\"Skipping entity.\")\n",
        "            else:\n",
        "                ents.append(span)\n",
        "                # handle erroneous entity annotations by removing them\n",
        "                try:\n",
        "                    doc.ents = ents\n",
        "                except:\n",
        "                    # print(\"BAD SPAN:\", span, \"\\n\")\n",
        "                    ents.pop()\n",
        "        doc.ents = ents\n",
        "\n",
        "        # pack Doc objects into DocBin\n",
        "        db.add(doc)\n",
        "    return db\n",
        "\n",
        "TRAIN_DATA_DOC = create_training(TRAIN_DATA)\n",
        "\n",
        "# Export results (here I add it to a TRAIN_DATA folder within the directory)\n",
        "TRAIN_DATA_DOC.to_disk(\"TRAIN_DATA.spacy\")\n"
      ],
      "metadata": {
        "colab": {
          "base_uri": "https://localhost:8080/"
        },
        "id": "g9i6CgR7tVmh",
        "outputId": "ad557d1c-7fba-4c39-aef3-4b6771b0130b"
      },
      "execution_count": 123,
      "outputs": [
        {
          "output_type": "stream",
          "name": "stderr",
          "text": [
            "100%|██████████| 6/6 [00:00<00:00, 431.08it/s]\n"
          ]
        }
      ]
    },
    {
      "cell_type": "code",
      "source": [],
      "metadata": {
        "id": "bHVzWj6aMcrR"
      },
      "execution_count": null,
      "outputs": []
    },
    {
      "cell_type": "markdown",
      "source": [
        "# train the model"
      ],
      "metadata": {
        "id": "47UDJ4n6MdCa"
      }
    },
    {
      "cell_type": "code",
      "source": [
        "!pip install -U pip setuptools wheel\n",
        "!pip install -U spacy\n",
        "#!python -m spacy download en_core_web_sm\n",
        "!python -m spacy download en_core_web_lg"
      ],
      "metadata": {
        "id": "TLDJdkHEMc4M"
      },
      "execution_count": null,
      "outputs": []
    },
    {
      "cell_type": "code",
      "source": [
        "!python -m spacy init fill-config base_config.cfg config.cfg"
      ],
      "metadata": {
        "colab": {
          "base_uri": "https://localhost:8080/"
        },
        "id": "82aFVbnCOSv0",
        "outputId": "7da4606d-b657-42fc-d168-ad51a332995b"
      },
      "execution_count": 125,
      "outputs": [
        {
          "output_type": "stream",
          "name": "stdout",
          "text": [
            "2023-07-10 14:18:52.913567: W tensorflow/compiler/tf2tensorrt/utils/py_utils.cc:38] TF-TRT Warning: Could not find TensorRT\n",
            "\u001b[38;5;2m✔ Auto-filled config with all values\u001b[0m\n",
            "\u001b[38;5;2m✔ Saved config\u001b[0m\n",
            "config.cfg\n",
            "You can now add your data and train your pipeline:\n",
            "python -m spacy train config.cfg --paths.train ./train.spacy --paths.dev ./dev.spacy\n"
          ]
        }
      ]
    },
    {
      "cell_type": "code",
      "source": [
        "#!python -m spacy train config.cfg --output ./output drive/MyDrive/capstone-nlp/\n",
        "!python -m spacy train config.cfg --output ./capstone_ner_output"
      ],
      "metadata": {
        "colab": {
          "base_uri": "https://localhost:8080/"
        },
        "id": "cPIfxVqTOguw",
        "outputId": "22c41fde-9e5f-484e-8bbb-075e82948467"
      },
      "execution_count": 126,
      "outputs": [
        {
          "output_type": "stream",
          "name": "stdout",
          "text": [
            "2023-07-10 14:19:06.384562: W tensorflow/compiler/tf2tensorrt/utils/py_utils.cc:38] TF-TRT Warning: Could not find TensorRT\n",
            "\u001b[38;5;2m✔ Created output directory: capstone_ner_output\u001b[0m\n",
            "\u001b[38;5;4mℹ Saving to output directory: capstone_ner_output\u001b[0m\n",
            "\u001b[38;5;4mℹ Using CPU\u001b[0m\n",
            "\u001b[1m\n",
            "=========================== Initializing pipeline ===========================\u001b[0m\n",
            "[2023-07-10 14:19:10,407] [INFO] Set up nlp object from config\n",
            "[2023-07-10 14:19:10,448] [INFO] Pipeline: ['tok2vec', 'ner']\n",
            "[2023-07-10 14:19:10,452] [INFO] Created vocabulary\n",
            "[2023-07-10 14:19:15,981] [INFO] Added vectors: en_core_web_lg\n",
            "[2023-07-10 14:19:15,982] [INFO] Finished initializing nlp object\n",
            "[2023-07-10 14:19:16,807] [INFO] Initialized pipeline components: ['tok2vec', 'ner']\n",
            "\u001b[38;5;2m✔ Initialized pipeline\u001b[0m\n",
            "\u001b[1m\n",
            "============================= Training pipeline =============================\u001b[0m\n",
            "\u001b[38;5;4mℹ Pipeline: ['tok2vec', 'ner']\u001b[0m\n",
            "\u001b[38;5;4mℹ Initial learn rate: 0.001\u001b[0m\n",
            "E    #       LOSS TOK2VEC  LOSS NER  ENTS_F  ENTS_P  ENTS_R  SCORE \n",
            "---  ------  ------------  --------  ------  ------  ------  ------\n",
            "  0       0          0.00     50.96    0.00    0.00    0.00    0.00\n",
            " 64     200         69.11   1869.05  100.00  100.00  100.00    1.00\n",
            "142     400          0.00      0.00  100.00  100.00  100.00    1.00\n",
            "242     600          0.00      0.00  100.00  100.00  100.00    1.00\n",
            "342     800          0.00      0.00  100.00  100.00  100.00    1.00\n",
            "519    1000          0.00      0.00  100.00  100.00  100.00    1.00\n",
            "719    1200          0.00      0.00  100.00  100.00  100.00    1.00\n",
            "919    1400          0.00      0.00  100.00  100.00  100.00    1.00\n",
            "1119    1600          0.00      0.00  100.00  100.00  100.00    1.00\n",
            "1319    1800          0.00      0.00  100.00  100.00  100.00    1.00\n",
            "\u001b[38;5;2m✔ Saved pipeline to output directory\u001b[0m\n",
            "capstone_ner_output/model-last\n"
          ]
        }
      ]
    },
    {
      "cell_type": "markdown",
      "source": [
        "# TEST the custom tagging\n",
        "after running command line for spacy on local terminal (with cpu)"
      ],
      "metadata": {
        "id": "DFK5H41FwZSL"
      }
    },
    {
      "cell_type": "markdown",
      "source": [
        "### MOUNT GOOGLE DRIVE TO UPLOAD THE MODEL"
      ],
      "metadata": {
        "id": "Hfkn6LtAMnFd"
      }
    },
    {
      "cell_type": "code",
      "source": [
        "# load the trained model\n",
        "\n",
        "model_path = 'drive/MyDrive/capstone_ner_output' + '/model-best'\n",
        "# model_path = '/content/capstone_ner_output' + \"/model-best\"\n",
        "\n",
        "nlp_output = spacy.load(model_path)\n",
        "\n"
      ],
      "metadata": {
        "id": "YPuRzbFTMmXH"
      },
      "execution_count": 132,
      "outputs": []
    },
    {
      "cell_type": "code",
      "source": [
        "\n",
        "model_test1 = \"Schedule a training workshop on February 20, 2024, from 9:00 AM to 12:00 PM. The workshop will take place at the Training Room, Building C. The event ID is w2gpmm1h0sd98vjr0khndcoda6.\"\n",
        "\n",
        "\n",
        "\n",
        "#model_test2 = \"Plan a team brainstorming session on April 5, 2024, starting at 2:30 PM. The session will last approximately 2 hours and will be held in the Innovation Lab. The event ID is m5gpmm1huhjk27rr0kntdcoda1.\"\n",
        "\n",
        "\n",
        "# pass our test instance into the trained pipeline\n",
        "doc = nlp_output(model_test1)\n",
        "\n",
        "# customize the label colors\n",
        "#colors = {\"DATE\": \"linear-gradient(90deg, #E1D436, #F59710)\"}\n",
        "#options = {\"ents\": [\"DATE\"], \"colors\": colors}\n",
        "\n",
        "# visualize the identified entities\n",
        "#displacy.render(doc, style=\"ent\", options=options)\n",
        "\n",
        "# print out the identified entities\n",
        "for ent in doc.ents:\n",
        "    print(ent.label_, ent.text,)\n",
        "    #if ent.label_ == \"DATE\":\n",
        "    #    print(ent.text, ent.label_)\n"
      ],
      "metadata": {
        "id": "GI6Gqu7dwX9y",
        "colab": {
          "base_uri": "https://localhost:8080/"
        },
        "outputId": "d0c98d8f-e6f6-4cc9-80e9-81bbe91f78fc"
      },
      "execution_count": 133,
      "outputs": [
        {
          "output_type": "stream",
          "name": "stdout",
          "text": [
            "SUMMARY a training workshop\n",
            "DATE February 20, 2024\n",
            "START_TIME 9:00 AM\n",
            "END_TIME 12:00 PM\n",
            "LOCATION at the Training Room, Building\n",
            "EVENT_ID w2gpmm1h0sd98vjr0khndcoda6\n"
          ]
        }
      ]
    },
    {
      "cell_type": "code",
      "source": [],
      "metadata": {
        "id": "TPBO2QELqPVd"
      },
      "execution_count": null,
      "outputs": []
    }
  ]
}