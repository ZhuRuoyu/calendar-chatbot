{
  "nbformat": 4,
  "nbformat_minor": 0,
  "metadata": {
    "colab": {
      "provenance": [],
      "gpuType": "T4",
      "mount_file_id": "1Q7jXzZH8AT-Y1Vn71syIHKjkwEvAhtMF",
      "authorship_tag": "ABX9TyOINFIl5JbTx4XATL7Hie0R",
      "include_colab_link": true
    },
    "kernelspec": {
      "name": "python3",
      "display_name": "Python 3"
    },
    "language_info": {
      "name": "python"
    },
    "accelerator": "GPU"
  },
  "cells": [
    {
      "cell_type": "markdown",
      "metadata": {
        "id": "view-in-github",
        "colab_type": "text"
      },
      "source": [
        "<a href=\"https://colab.research.google.com/github/ZhuRuoyu/calendar-chatbot/blob/main/customized_model/customNER/Custom_Named_Entity_Recognition_(NER).ipynb\" target=\"_parent\"><img src=\"https://colab.research.google.com/assets/colab-badge.svg\" alt=\"Open In Colab\"/></a>"
      ]
    },
    {
      "cell_type": "markdown",
      "source": [
        "# Extract\n",
        "\n",
        "summary, start_time, end_time, date, location, event_id,duration (new!)\n",
        "\n",
        "date = False, event_id = False, summary=False, start_time=False, end_time=False, location=False"
      ],
      "metadata": {
        "id": "fl8bPO8XpVFq"
      }
    },
    {
      "cell_type": "markdown",
      "source": [
        "## event_id\n",
        "\n",
        "https://stackoverflow.com/questions/32755413/how-can-i-find-the-event-id-of-my-google-calendar-event\n",
        "\n",
        "https://www.base64decode.org/\n",
        "\n",
        "4htgpmm1hmak744r0kbkdcodar eugu9kan1ddi1pmi6sk3ib5¨6g@g"
      ],
      "metadata": {
        "id": "vb_tQn8oA6dJ"
      }
    },
    {
      "cell_type": "markdown",
      "source": [
        "# spaCy v3\n",
        "tutorial: https://levelup.gitconnected.com/auto-detect-anything-with-custom-named-entity-recognition-ner-c89d6562e8e9\n",
        "\n",
        "using spaCy to annotate the text 1st,\n",
        "\n",
        "TOOLS:spacy prodigy software annotation NER (charged)\n",
        "\n"
      ],
      "metadata": {
        "id": "c8yhYMjNpVPT"
      }
    },
    {
      "cell_type": "code",
      "execution_count": 2,
      "metadata": {
        "id": "QcM-jgNfpTMp"
      },
      "outputs": [],
      "source": [
        "# library imports\n",
        "import pandas as pd\n",
        "import spacy\n",
        "from spacy import displacy\n",
        "from spacy.tokens import DocBin\n",
        "import json\n",
        "from datetime import datetime\n",
        "from tqdm import tqdm\n",
        "import re"
      ]
    },
    {
      "cell_type": "markdown",
      "source": [],
      "metadata": {
        "id": "BwdE6rXvWJFL"
      }
    },
    {
      "cell_type": "code",
      "source": [
        "%cd /content/drive/MyDrive"
      ],
      "metadata": {
        "colab": {
          "base_uri": "https://localhost:8080/"
        },
        "id": "iTJN_ITghXNd",
        "outputId": "84d77365-7718-4ad9-df43-01cfbfd5616a"
      },
      "execution_count": 3,
      "outputs": [
        {
          "output_type": "stream",
          "name": "stdout",
          "text": [
            "/content/drive/MyDrive\n"
          ]
        }
      ]
    },
    {
      "cell_type": "code",
      "source": [
        "#!jupyter-labextension install jupyterlab-prodigy"
      ],
      "metadata": {
        "id": "rryKT-ZdqRLw"
      },
      "execution_count": 4,
      "outputs": []
    },
    {
      "cell_type": "code",
      "source": [
        "# key words [ date,summary, start_time, end_time, location,  event_id, ]\n",
        "\n",
        "collective_dict = {'TRAINING_DATA': []}\n",
        "\n",
        "def structure_training_data(text, kw_date, kw_summary, kw_start_time, kw_end_time, kw_location, kw_event_id, kw_duration):\n",
        "    results = []\n",
        "    entities = []\n",
        "\n",
        "    for kw_list in [kw_date, kw_summary, kw_start_time, kw_end_time, kw_location, kw_event_id, kw_duration]:\n",
        "      #kw_list = date list / summary list ...\n",
        "\n",
        "      # search for instances of keywords within the text (ignoring letter case)\n",
        "\n",
        "      entity_name = kw_list['name']\n",
        "\n",
        "      for kw in tqdm(kw_list['list']):\n",
        "\n",
        "          search = re.finditer(kw, str(text), flags=re.IGNORECASE)\n",
        "\n",
        "          # store the start/end character positions\n",
        "          all_instances = [[m.start(),m.end()] for m in search]\n",
        "\n",
        "          # if the callable_iterator found matches, create an 'entities' list\n",
        "          if len(all_instances)>0:\n",
        "              for i in all_instances:\n",
        "                  start = i[0]\n",
        "                  end = i[1]\n",
        "                  entities.append((start, end, entity_name))\n",
        "\n",
        "          # alert when no matches are found given the user inputs\n",
        "          else:\n",
        "              print(\"No pattern matches found. Keyword:\", kw)\n",
        "\n",
        "\n",
        "\n",
        "\n",
        "\n",
        "\n",
        "    # add any found entities into a JSON format within collective_dict\n",
        "    if len(entities)>0:\n",
        "        results = [text, {\"entities\": entities}]\n",
        "        collective_dict['TRAINING_DATA'].append(results)\n",
        "        return"
      ],
      "metadata": {
        "id": "s66rDgQHIWcE"
      },
      "execution_count": 5,
      "outputs": []
    },
    {
      "cell_type": "code",
      "source": [
        "#input_sentences = [\n",
        "\n",
        "text5 = \"Could you please schedule a Google Calendar event for me? The event details are as follows: \\n Schedule a meeting on July 23, 2024, starting at 10:00 AM and ending at 11:00 AM. \\nLet's meet at Conference Room 101. The event ID for this meeting is 4htgpmm1hmak744r0kbkdcodar.\",\n",
        "\n",
        "text6 = \"Schedule a video conference on August 5, 2023, from 2:00 PM to 3:00 PM. \\n The meeting will take place online using Zoom. \\n The event ID is s5gpmm1h3v77l84r0kz9dcoda4.\",\n",
        "\n",
        "text7 = \"Set up a lunch meeting on September 10, 2023, starting at 12:30 PM and ending at 1:30 PM.\\n We will dine at the restaurant 'La Bella Italia' downtown. \\n The event ID is b1gpmm1hc08c99rr8k6idcodb7.\",\n",
        "\n",
        "text8 = \"Plan a team training session on October 20, 2023, from 9:00 AM to 12:00 PM. \\n The session will be held in the Training Room, Building B. The event ID is n9gpmm1h5zme375r0kcidcoda2.\" ,\n",
        "\n",
        "text9 = \"Please schedule a conference call on November 15, 2023, from 3:00 PM for approximately 1 hour. \\n We will discuss the new project proposal. The call will take place online, and the event ID is x3gpmm1h93a617rr0kcudcoday.\",\n",
        "\n",
        "text10 = \"Schedule a client meeting on December 10, 2023, starting at 10:30 AM. \\n The meeting is expected to last for about 2 hours. We will meet at their office location. The event ID is z0gpmm1huzxw75ar0kiedcoda3.\",\n",
        "#]"
      ],
      "metadata": {
        "id": "7lFjAE-fyt0Q"
      },
      "execution_count": 6,
      "outputs": []
    },
    {
      "cell_type": "code",
      "source": [
        "kw_date = {\"name\": 'DATE',\"list\": ['July 23, 2024']}\n",
        "kw_summary = {\"name\": 'SUMMARY',\"list\": ['a meeting']}\n",
        "kw_start_time = {\"name\": 'START_TIME',\"list\": ['10:00 AM']}\n",
        "kw_end_time = {\"name\": 'END_TIME',\"list\": ['11:00 AM']}\n",
        "kw_location = {\"name\": 'LOCATION',\"list\": ['Conference Room 101']}\n",
        "kw_event_id = {\"name\": 'EVENT_ID',\"list\": ['4htgpmm1hmak744r0kbkdcodar']}\n",
        "kw_duration = {\"name\": 'DURATION',\"list\": []}\n",
        "\n",
        "\n",
        "\n",
        "structure_training_data(text5, kw_date,kw_summary,kw_start_time,kw_end_time, kw_location, kw_event_id, kw_duration)\n"
      ],
      "metadata": {
        "colab": {
          "base_uri": "https://localhost:8080/"
        },
        "id": "TzcLQpmMG2xW",
        "outputId": "de55b936-bd4a-4764-b533-de77bcb41315"
      },
      "execution_count": 7,
      "outputs": [
        {
          "output_type": "stream",
          "name": "stderr",
          "text": [
            "100%|██████████| 1/1 [00:00<00:00, 4310.69it/s]\n",
            "100%|██████████| 1/1 [00:00<00:00, 5384.22it/s]\n",
            "100%|██████████| 1/1 [00:00<00:00, 5555.37it/s]\n",
            "100%|██████████| 1/1 [00:00<00:00, 5974.79it/s]\n",
            "100%|██████████| 1/1 [00:00<00:00, 4707.41it/s]\n",
            "100%|██████████| 1/1 [00:00<00:00, 4888.47it/s]\n",
            "0it [00:00, ?it/s]\n"
          ]
        }
      ]
    },
    {
      "cell_type": "code",
      "source": [
        "\n",
        " # TRAINING\n",
        "\n",
        "\n",
        "structure_training_data(\n",
        "    text6,\n",
        "     {\"name\": 'DATE',\n",
        "      \"list\": ['August 5, 2023']},\n",
        "\n",
        "       {\"name\": 'SUMMARY',\n",
        "        \"list\": ['a video conference']},\n",
        "\n",
        "    {\"name\": 'START_TIME',\n",
        "        \"list\": ['2:00 PM']},\n",
        "\n",
        "    {\"name\": 'END_TIME',\n",
        "        \"list\": ['3:00 PM']},\n",
        "\n",
        "    {\"name\": 'LOCATION',\n",
        "        \"list\": ['online using Zoom']},\n",
        "\n",
        "    {\"name\": 'EVENT_ID',\n",
        "        \"list\": ['s5gpmm1h3v77l84r0kz9dcoda4']},\n",
        "\n",
        "    {\"name\": 'DURATION',\n",
        "        \"list\": []},\n",
        "\n",
        "    )\n",
        "\n",
        "structure_training_data(\n",
        "    text7,\n",
        "     {\"name\": 'DATE',\n",
        "      \"list\": ['September 10, 2023']},\n",
        "\n",
        "       {\"name\": 'SUMMARY',\n",
        "        \"list\": ['a lunch meeting']},\n",
        "\n",
        "    {\"name\": 'START_TIME',\n",
        "        \"list\": ['12:30 PM']},\n",
        "\n",
        "    {\"name\": 'END_TIME',\n",
        "        \"list\": ['1:30 PM']},\n",
        "\n",
        "    {\"name\": 'LOCATION',\n",
        "        \"list\": [\"at the restaurant 'La Bella Italia' downtown\"]},\n",
        "\n",
        "    {\"name\": 'EVENT_ID',\n",
        "        \"list\": ['b1gpmm1hc08c99rr8k6idcodb7']},\n",
        "\n",
        "    {\"name\": 'DURATION',\n",
        "        \"list\": []},\n",
        "\n",
        "\n",
        "    )\n",
        "\n",
        "structure_training_data(\n",
        "    text8,\n",
        "     {\"name\": 'DATE',\n",
        "      \"list\": ['October 20, 2023']},\n",
        "\n",
        "       {\"name\": 'SUMMARY',\n",
        "        \"list\": ['a team training session']},\n",
        "\n",
        "    {\"name\": 'START_TIME',\n",
        "        \"list\": ['9:00 AM']},\n",
        "\n",
        "    {\"name\": 'END_TIME',\n",
        "        \"list\": ['12:00 PM']},\n",
        "\n",
        "    {\"name\": 'LOCATION',\n",
        "        \"list\": ['Training Room, Building B']},\n",
        "\n",
        "    {\"name\": 'EVENT_ID',\n",
        "        \"list\": ['n9gpmm1h5zme375r0kcidcoda2']},\n",
        "\n",
        "    {\"name\": 'DURATION',\n",
        "        \"list\": []},\n",
        "\n",
        "    )\n",
        "\n",
        "\n",
        "\n",
        "structure_training_data(\n",
        "    text9,\n",
        "     {\"name\": 'DATE',\n",
        "      \"list\": ['November 15, 2023']},\n",
        "\n",
        "       {\"name\": 'SUMMARY',\n",
        "        \"list\": ['a conference call', 'discuss the new project proposal']},\n",
        "\n",
        "    {\"name\": 'START_TIME',\n",
        "        \"list\": ['3:00 PM']},\n",
        "\n",
        "    {\"name\": 'END_TIME',\n",
        "        \"list\": []},\n",
        "\n",
        "    {\"name\": 'LOCATION',\n",
        "        \"list\": ['online']},\n",
        "\n",
        "    {\"name\": 'EVENT_ID',\n",
        "        \"list\": ['x3gpmm1h93a617rr0kcudcoday']},\n",
        "\n",
        "    {\"name\": 'DURATION',\n",
        "        \"list\": ['approximately 1 hour']},\n",
        "\n",
        "    )\n",
        "\n",
        "\n",
        "\n",
        "structure_training_data(\n",
        "    text10,\n",
        "     {\"name\": 'DATE',\n",
        "      \"list\": ['December 10, 2023']},\n",
        "\n",
        "       {\"name\": 'SUMMARY',\n",
        "        \"list\": ['a client meeting']},\n",
        "\n",
        "    {\"name\": 'START_TIME',\n",
        "        \"list\": ['10:30 AM']},\n",
        "\n",
        "    {\"name\": 'END_TIME',\n",
        "        \"list\": []},\n",
        "\n",
        "    {\"name\": 'LOCATION',\n",
        "        \"list\": ['their office location']},\n",
        "\n",
        "    {\"name\": 'EVENT_ID',\n",
        "        \"list\": ['z0gpmm1huzxw75ar0kiedcoda3']},\n",
        "\n",
        "    {\"name\": 'DURATION',\n",
        "        \"list\": ['2 hours']},\n",
        "\n",
        "    )\n",
        "\n",
        "\n"
      ],
      "metadata": {
        "colab": {
          "base_uri": "https://localhost:8080/"
        },
        "id": "d1rvB0dHBTpZ",
        "outputId": "d48fd8f6-9568-48c0-8297-12eccf46ac90"
      },
      "execution_count": 8,
      "outputs": [
        {
          "output_type": "stream",
          "name": "stderr",
          "text": [
            "100%|██████████| 1/1 [00:00<00:00, 5370.43it/s]\n",
            "100%|██████████| 1/1 [00:00<00:00, 6000.43it/s]\n",
            "100%|██████████| 1/1 [00:00<00:00, 7121.06it/s]\n",
            "100%|██████████| 1/1 [00:00<00:00, 6393.76it/s]\n",
            "100%|██████████| 1/1 [00:00<00:00, 4728.64it/s]\n",
            "100%|██████████| 1/1 [00:00<00:00, 3297.41it/s]\n",
            "0it [00:00, ?it/s]\n",
            "100%|██████████| 1/1 [00:00<00:00, 5249.44it/s]\n",
            "100%|██████████| 1/1 [00:00<00:00, 5363.56it/s]\n",
            "100%|██████████| 1/1 [00:00<00:00, 6297.75it/s]\n",
            "100%|██████████| 1/1 [00:00<00:00, 4650.00it/s]\n",
            "100%|██████████| 1/1 [00:00<00:00, 4144.57it/s]\n",
            "100%|██████████| 1/1 [00:00<00:00, 5023.12it/s]\n",
            "0it [00:00, ?it/s]\n",
            "100%|██████████| 1/1 [00:00<00:00, 5761.41it/s]\n",
            "100%|██████████| 1/1 [00:00<00:00, 4253.86it/s]\n",
            "100%|██████████| 1/1 [00:00<00:00, 6114.15it/s]\n",
            "100%|██████████| 1/1 [00:00<00:00, 6213.78it/s]\n",
            "100%|██████████| 1/1 [00:00<00:00, 4096.00it/s]\n",
            "100%|██████████| 1/1 [00:00<00:00, 4559.03it/s]\n",
            "0it [00:00, ?it/s]\n",
            "100%|██████████| 1/1 [00:00<00:00, 4999.17it/s]\n",
            "100%|██████████| 2/2 [00:00<00:00, 5991.86it/s]\n",
            "100%|██████████| 1/1 [00:00<00:00, 9554.22it/s]\n",
            "0it [00:00, ?it/s]\n",
            "100%|██████████| 1/1 [00:00<00:00, 6141.00it/s]\n",
            "100%|██████████| 1/1 [00:00<00:00, 5071.71it/s]\n",
            "100%|██████████| 1/1 [00:00<00:00, 4905.62it/s]\n",
            "100%|██████████| 1/1 [00:00<00:00, 5785.25it/s]\n",
            "100%|██████████| 1/1 [00:00<00:00, 5102.56it/s]\n",
            "100%|██████████| 1/1 [00:00<00:00, 6316.72it/s]\n",
            "0it [00:00, ?it/s]\n",
            "100%|██████████| 1/1 [00:00<00:00, 3761.71it/s]\n",
            "100%|██████████| 1/1 [00:00<00:00, 3927.25it/s]\n",
            "100%|██████████| 1/1 [00:00<00:00, 4373.62it/s]\n"
          ]
        }
      ]
    },
    {
      "cell_type": "code",
      "source": [
        "text0 = \"Update my calendar: Change the meeting next month, to start at 9 and and only takes no more than 2 hrs. \\n It will now take place in Conference Room A.  \\n  The meeting is a Quarterly Sales Review.\",\n",
        "\n",
        "text1 = \"Reschedule the project kickoff for next week, to start at 10am and and have a duration of 3 hours.\\n The event will be held in the main auditorium.\",\n",
        "\n",
        "text2 = \"Move the training session to the day after tomorrow, starting at 3 and only takes 30 mins. \\n The location will be changed to Training Room B. \"\n",
        "text3 = \"Change the team-building event for tomorrow, to start at 1:30P.M. and last for 4 hours. \\n It will be held outdoors in the park.\"\n",
        "text4 = \"Reschedule the marketing presentation for next Monday, to start at 10a.m. and last for an hour. \\n The session will now take place in the Marketing Department's conference room. \\n It is about Q2 Marketing Strategy Review.\"\n",
        "\n"
      ],
      "metadata": {
        "id": "Q_HaCN6BtHnk"
      },
      "execution_count": 9,
      "outputs": []
    },
    {
      "cell_type": "code",
      "source": [
        "structure_training_data(\n",
        "    text0,\n",
        "     {\"name\": 'DATE',\n",
        "      \"list\": ['next month']},\n",
        "\n",
        "     {\"name\": 'SUMMARY',\n",
        "        \"list\": ['a Quarterly Sales Review']},\n",
        "\n",
        "    {\"name\": 'START_TIME',\n",
        "        \"list\": ['9']},\n",
        "\n",
        "    {\"name\": 'END_TIME',\n",
        "        \"list\": []},\n",
        "\n",
        "    {\"name\": 'LOCATION',\n",
        "        \"list\": ['Conference Room A']},\n",
        "\n",
        "    {\"name\": 'EVENT_ID',\n",
        "        \"list\": []},\n",
        "\n",
        "    {\"name\": 'DURATION',\n",
        "        \"list\": ['no more than 2 hrs']},\n",
        "\n",
        "    )\n",
        "\n",
        "structure_training_data(\n",
        "    text1,\n",
        "     {\"name\": 'DATE',\n",
        "      \"list\": ['next week']},\n",
        "     {\"name\": 'SUMMARY',\n",
        "        \"list\": ['project kickoff']},\n",
        "    {\"name\": 'START_TIME',\n",
        "        \"list\": ['10am']},\n",
        "\n",
        "    {\"name\": 'END_TIME',\n",
        "        \"list\": []},\n",
        "\n",
        "    {\"name\": 'LOCATION',\n",
        "        \"list\": ['the main auditorium']},\n",
        "\n",
        "    {\"name\": 'EVENT_ID',\n",
        "        \"list\": []},\n",
        "\n",
        "    {\"name\": 'DURATION',\n",
        "        \"list\": ['3 hours']},\n",
        "\n",
        "    )\n",
        "\n",
        "structure_training_data(\n",
        "    text2,\n",
        "     {\"name\": 'DATE',\n",
        "      \"list\": ['day after tomorrow']},\n",
        "     {\"name\": 'SUMMARY',\n",
        "        \"list\": ['training session']},\n",
        "    {\"name\": 'START_TIME',\n",
        "        \"list\": ['3']},\n",
        "\n",
        "    {\"name\": 'END_TIME',\n",
        "        \"list\": []},\n",
        "\n",
        "    {\"name\": 'LOCATION',\n",
        "        \"list\": ['Training Room B']},\n",
        "\n",
        "    {\"name\": 'EVENT_ID',\n",
        "        \"list\": []},\n",
        "\n",
        "    {\"name\": 'DURATION',\n",
        "        \"list\": ['30 mins']},\n",
        "\n",
        "    )\n",
        "\n",
        "structure_training_data(\n",
        "    text3,\n",
        "     {\"name\": 'DATE',\n",
        "      \"list\": ['tomorrow']},\n",
        "     {\"name\": 'SUMMARY',\n",
        "        \"list\": ['team-building event']},\n",
        "    {\"name\": 'START_TIME',\n",
        "        \"list\": ['1:30P.M.']},\n",
        "\n",
        "    {\"name\": 'END_TIME',\n",
        "        \"list\": []},\n",
        "\n",
        "    {\"name\": 'LOCATION',\n",
        "        \"list\": ['outdoors in the park']},\n",
        "\n",
        "    {\"name\": 'EVENT_ID',\n",
        "        \"list\": []},\n",
        "\n",
        "    {\"name\": 'DURATION',\n",
        "        \"list\": ['4 hours']},\n",
        "\n",
        "    )\n",
        "\n",
        "structure_training_data(\n",
        "    text4,\n",
        "     {\"name\": 'DATE',\n",
        "      \"list\": ['next Monday']},\n",
        "     {\"name\": 'SUMMARY',\n",
        "        \"list\": ['marketing presentation', 'Q2 Marketing Strategy Review']},\n",
        "    {\"name\": 'START_TIME',\n",
        "        \"list\": ['10a.m.']},\n",
        "\n",
        "    {\"name\": 'END_TIME',\n",
        "        \"list\": []},\n",
        "\n",
        "    {\"name\": 'LOCATION',\n",
        "        \"list\": [\"the Marketing Department's conference room.\"]},\n",
        "\n",
        "    {\"name\": 'EVENT_ID',\n",
        "        \"list\": []},\n",
        "\n",
        "    {\"name\": 'DURATION',\n",
        "        \"list\": ['an hour']},\n",
        "\n",
        "    )\n",
        "\n"
      ],
      "metadata": {
        "colab": {
          "base_uri": "https://localhost:8080/"
        },
        "id": "cetKFP-HkhYe",
        "outputId": "f92508ea-1e27-4cb4-ef88-3ff0fca56eb7"
      },
      "execution_count": 10,
      "outputs": [
        {
          "output_type": "stream",
          "name": "stderr",
          "text": [
            "100%|██████████| 1/1 [00:00<00:00, 5949.37it/s]\n",
            "100%|██████████| 1/1 [00:00<00:00, 5533.38it/s]\n",
            "100%|██████████| 1/1 [00:00<00:00, 7332.70it/s]\n",
            "0it [00:00, ?it/s]\n",
            "100%|██████████| 1/1 [00:00<00:00, 5562.74it/s]\n",
            "0it [00:00, ?it/s]\n",
            "100%|██████████| 1/1 [00:00<00:00, 5356.71it/s]\n",
            "100%|██████████| 1/1 [00:00<00:00, 6364.65it/s]\n",
            "100%|██████████| 1/1 [00:00<00:00, 5652.70it/s]\n",
            "100%|██████████| 1/1 [00:00<00:00, 6213.78it/s]\n",
            "0it [00:00, ?it/s]\n",
            "100%|██████████| 1/1 [00:00<00:00, 5262.61it/s]\n",
            "0it [00:00, ?it/s]\n",
            "100%|██████████| 1/1 [00:00<00:00, 5533.38it/s]\n",
            "100%|██████████| 1/1 [00:00<00:00, 4871.43it/s]\n",
            "100%|██████████| 1/1 [00:00<00:00, 3631.43it/s]\n",
            "100%|██████████| 1/1 [00:00<00:00, 7584.64it/s]\n",
            "0it [00:00, ?it/s]\n",
            "100%|██████████| 1/1 [00:00<00:00, 4739.33it/s]\n",
            "0it [00:00, ?it/s]\n",
            "100%|██████████| 1/1 [00:00<00:00, 5511.57it/s]\n",
            "100%|██████████| 1/1 [00:00<00:00, 6668.21it/s]\n",
            "100%|██████████| 1/1 [00:00<00:00, 4319.57it/s]\n",
            "100%|██████████| 1/1 [00:00<00:00, 6123.07it/s]\n",
            "0it [00:00, ?it/s]\n",
            "100%|██████████| 1/1 [00:00<00:00, 5489.93it/s]\n",
            "0it [00:00, ?it/s]\n",
            "100%|██████████| 1/1 [00:00<00:00, 6647.07it/s]\n",
            "100%|██████████| 1/1 [00:00<00:00, 6241.52it/s]\n",
            "100%|██████████| 2/2 [00:00<00:00, 5035.18it/s]\n",
            "100%|██████████| 1/1 [00:00<00:00, 6820.01it/s]\n",
            "0it [00:00, ?it/s]\n",
            "100%|██████████| 1/1 [00:00<00:00, 4036.87it/s]\n",
            "0it [00:00, ?it/s]\n",
            "100%|██████████| 1/1 [00:00<00:00, 5991.86it/s]\n"
          ]
        }
      ]
    },
    {
      "cell_type": "code",
      "source": [],
      "metadata": {
        "id": "bkO61LF3khb6"
      },
      "execution_count": 10,
      "outputs": []
    },
    {
      "cell_type": "code",
      "source": [
        "collective_dict['TRAINING_DATA']"
      ],
      "metadata": {
        "colab": {
          "base_uri": "https://localhost:8080/"
        },
        "id": "f6AmcLZ5tMDK",
        "outputId": "68e3f207-52cb-4fbc-c5e7-51e6bbd54f7d"
      },
      "execution_count": 11,
      "outputs": [
        {
          "output_type": "execute_result",
          "data": {
            "text/plain": [
              "[[(\"Could you please schedule a Google Calendar event for me? The event details are as follows: \\n Schedule a meeting on July 23, 2024, starting at 10:00 AM and ending at 11:00 AM. \\nLet's meet at Conference Room 101. The event ID for this meeting is 4htgpmm1hmak744r0kbkdcodar.\",),\n",
              "  {'entities': [(119, 132, 'DATE'),\n",
              "    (106, 115, 'SUMMARY'),\n",
              "    (146, 154, 'START_TIME'),\n",
              "    (169, 177, 'END_TIME'),\n",
              "    (195, 214, 'LOCATION'),\n",
              "    (249, 275, 'EVENT_ID')]}],\n",
              " [('Schedule a video conference on August 5, 2023, from 2:00 PM to 3:00 PM. \\n The meeting will take place online using Zoom. \\n The event ID is s5gpmm1h3v77l84r0kz9dcoda4.',),\n",
              "  {'entities': [(33, 47, 'DATE'),\n",
              "    (11, 29, 'SUMMARY'),\n",
              "    (54, 61, 'START_TIME'),\n",
              "    (65, 72, 'END_TIME'),\n",
              "    (105, 122, 'LOCATION'),\n",
              "    (143, 169, 'EVENT_ID')]}],\n",
              " [(\"Set up a lunch meeting on September 10, 2023, starting at 12:30 PM and ending at 1:30 PM.\\n We will dine at the restaurant 'La Bella Italia' downtown. \\n The event ID is b1gpmm1hc08c99rr8k6idcodb7.\",),\n",
              "  {'entities': [(28, 46, 'DATE'),\n",
              "    (9, 24, 'SUMMARY'),\n",
              "    (60, 68, 'START_TIME'),\n",
              "    (83, 90, 'END_TIME'),\n",
              "    (107, 151, 'LOCATION'),\n",
              "    (172, 198, 'EVENT_ID')]}],\n",
              " [('Plan a team training session on October 20, 2023, from 9:00 AM to 12:00 PM. \\n The session will be held in the Training Room, Building B. The event ID is n9gpmm1h5zme375r0kcidcoda2.',),\n",
              "  {'entities': [(34, 50, 'DATE'),\n",
              "    (7, 30, 'SUMMARY'),\n",
              "    (57, 64, 'START_TIME'),\n",
              "    (68, 76, 'END_TIME'),\n",
              "    (113, 138, 'LOCATION'),\n",
              "    (156, 182, 'EVENT_ID')]}],\n",
              " [('Please schedule a conference call on November 15, 2023, from 3:00 PM for approximately 1 hour. \\n We will discuss the new project proposal. The call will take place online, and the event ID is x3gpmm1h93a617rr0kcudcoday.',),\n",
              "  {'entities': [(39, 56, 'DATE'),\n",
              "    (18, 35, 'SUMMARY'),\n",
              "    (108, 140, 'SUMMARY'),\n",
              "    (63, 70, 'START_TIME'),\n",
              "    (167, 173, 'LOCATION'),\n",
              "    (195, 221, 'EVENT_ID'),\n",
              "    (75, 95, 'DURATION')]}],\n",
              " [('Schedule a client meeting on December 10, 2023, starting at 10:30 AM. \\n The meeting is expected to last for about 2 hours. We will meet at their office location. The event ID is z0gpmm1huzxw75ar0kiedcoda3.',),\n",
              "  {'entities': [(31, 48, 'DATE'),\n",
              "    (11, 27, 'SUMMARY'),\n",
              "    (62, 70, 'START_TIME'),\n",
              "    (142, 163, 'LOCATION'),\n",
              "    (181, 207, 'EVENT_ID'),\n",
              "    (117, 124, 'DURATION')]}],\n",
              " [('Update my calendar: Change the meeting next month, to start at 9 and and only takes no more than 2 hrs. \\n It will now take place in Conference Room A.  \\n  The meeting is a Quarterly Sales Review.',),\n",
              "  {'entities': [(41, 51, 'DATE'),\n",
              "    (174, 198, 'SUMMARY'),\n",
              "    (65, 66, 'START_TIME'),\n",
              "    (135, 152, 'LOCATION'),\n",
              "    (86, 104, 'DURATION')]}],\n",
              " [('Reschedule the project kickoff for next week, to start at 10am and and have a duration of 3 hours.\\n The event will be held in the main auditorium.',),\n",
              "  {'entities': [(37, 46, 'DATE'),\n",
              "    (17, 32, 'SUMMARY'),\n",
              "    (60, 64, 'START_TIME'),\n",
              "    (129, 148, 'LOCATION'),\n",
              "    (92, 99, 'DURATION')]}],\n",
              " ['Move the training session to the day after tomorrow, starting at 3 and only takes 30 mins. \\n The location will be changed to Training Room B. ',\n",
              "  {'entities': [(33, 51, 'DATE'),\n",
              "    (9, 25, 'SUMMARY'),\n",
              "    (65, 66, 'START_TIME'),\n",
              "    (82, 83, 'START_TIME'),\n",
              "    (125, 140, 'LOCATION'),\n",
              "    (82, 89, 'DURATION')]}],\n",
              " ['Change the team-building event for tomorrow, to start at 1:30P.M. and last for 4 hours. \\n It will be held outdoors in the park.',\n",
              "  {'entities': [(35, 43, 'DATE'),\n",
              "    (11, 30, 'SUMMARY'),\n",
              "    (57, 65, 'START_TIME'),\n",
              "    (106, 126, 'LOCATION'),\n",
              "    (79, 86, 'DURATION')]}],\n",
              " [\"Reschedule the marketing presentation for next Monday, to start at 10a.m. and last for an hour. \\n The session will now take place in the Marketing Department's conference room. \\n It is about Q2 Marketing Strategy Review.\",\n",
              "  {'entities': [(42, 53, 'DATE'),\n",
              "    (15, 37, 'SUMMARY'),\n",
              "    (191, 219, 'SUMMARY'),\n",
              "    (67, 73, 'START_TIME'),\n",
              "    (133, 176, 'LOCATION'),\n",
              "    (87, 94, 'DURATION')]}]]"
            ]
          },
          "metadata": {},
          "execution_count": 11
        }
      ]
    },
    {
      "cell_type": "code",
      "source": [
        "len(collective_dict['TRAINING_DATA'])"
      ],
      "metadata": {
        "id": "Ek3kX97GtTvx",
        "colab": {
          "base_uri": "https://localhost:8080/"
        },
        "outputId": "cad4a7be-d517-43f3-f1a0-55dbbb86febb"
      },
      "execution_count": 12,
      "outputs": [
        {
          "output_type": "execute_result",
          "data": {
            "text/plain": [
              "11"
            ]
          },
          "metadata": {},
          "execution_count": 12
        }
      ]
    },
    {
      "cell_type": "markdown",
      "source": [],
      "metadata": {
        "id": "6jhVdi4RtaQS"
      }
    },
    {
      "cell_type": "markdown",
      "source": [
        "# save training data  in .spacy"
      ],
      "metadata": {
        "id": "rz3ZDBJAtaS2"
      }
    },
    {
      "cell_type": "code",
      "source": [
        "\n",
        "# define our training data to TRAIN_DATA\n",
        "TRAIN_DATA = collective_dict['TRAINING_DATA']\n",
        "\n",
        "# create a blank model\n",
        "nlp = spacy.blank('en')\n",
        "\n",
        "def create_training(TRAIN_DATA):\n",
        "    db = DocBin()\n",
        "    for text, annot in tqdm(TRAIN_DATA):\n",
        "        doc = nlp.make_doc(str(text))\n",
        "        ents = []\n",
        "\n",
        "        # create span objects\n",
        "        for start, end, label in annot[\"entities\"]:\n",
        "            span = doc.char_span(start, end, label=label, alignment_mode=\"contract\")\n",
        "\n",
        "            # skip if the character indices do not map to a valid span\n",
        "            if span is None:\n",
        "                print(\"Skipping entity.\")\n",
        "            else:\n",
        "                ents.append(span)\n",
        "                # handle erroneous entity annotations by removing them\n",
        "                try:\n",
        "                    doc.ents = ents\n",
        "                except:\n",
        "                    # print(\"BAD SPAN:\", span, \"\\n\")\n",
        "                    ents.pop()\n",
        "        doc.ents = ents\n",
        "\n",
        "        # pack Doc objects into DocBin\n",
        "        db.add(doc)\n",
        "    return db\n",
        "\n",
        "TRAIN_DATA_DOC = create_training(TRAIN_DATA)\n",
        "\n",
        "# Export results (here I add it to a TRAIN_DATA folder within the directory)\n",
        "TRAIN_DATA_DOC.to_disk(\"TRAIN_DATA.spacy\")\n"
      ],
      "metadata": {
        "colab": {
          "base_uri": "https://localhost:8080/"
        },
        "id": "g9i6CgR7tVmh",
        "outputId": "ed8b9169-c9a4-437c-b40e-9703a0ec4ef4"
      },
      "execution_count": 14,
      "outputs": [
        {
          "output_type": "stream",
          "name": "stderr",
          "text": [
            "100%|██████████| 11/11 [00:00<00:00, 889.48it/s]"
          ]
        },
        {
          "output_type": "stream",
          "name": "stdout",
          "text": [
            "Skipping entity.\n"
          ]
        },
        {
          "output_type": "stream",
          "name": "stderr",
          "text": [
            "\n"
          ]
        }
      ]
    },
    {
      "cell_type": "code",
      "source": [],
      "metadata": {
        "id": "bHVzWj6aMcrR"
      },
      "execution_count": null,
      "outputs": []
    },
    {
      "cell_type": "markdown",
      "source": [
        "# train the model"
      ],
      "metadata": {
        "id": "47UDJ4n6MdCa"
      }
    },
    {
      "cell_type": "code",
      "source": [
        "!pip install -U pip setuptools wheel\n",
        "!pip install -U spacy\n",
        "#!python -m spacy download en_core_web_sm\n",
        "!python -m spacy download en_core_web_lg"
      ],
      "metadata": {
        "id": "TLDJdkHEMc4M",
        "colab": {
          "base_uri": "https://localhost:8080/",
          "height": 1000
        },
        "outputId": "229458df-b02c-47bd-a567-504a0d4c8d48"
      },
      "execution_count": 15,
      "outputs": [
        {
          "output_type": "stream",
          "name": "stdout",
          "text": [
            "Requirement already satisfied: pip in /usr/local/lib/python3.10/dist-packages (23.1.2)\n",
            "Collecting pip\n",
            "  Downloading pip-23.2.1-py3-none-any.whl (2.1 MB)\n",
            "\u001b[2K     \u001b[90m━━━━━━━━━━━━━━━━━━━━━━━━━━━━━━━━━━━━━━━━\u001b[0m \u001b[32m2.1/2.1 MB\u001b[0m \u001b[31m33.4 MB/s\u001b[0m eta \u001b[36m0:00:00\u001b[0m\n",
            "\u001b[?25hRequirement already satisfied: setuptools in /usr/local/lib/python3.10/dist-packages (67.7.2)\n",
            "Collecting setuptools\n",
            "  Downloading setuptools-68.0.0-py3-none-any.whl (804 kB)\n",
            "\u001b[2K     \u001b[90m━━━━━━━━━━━━━━━━━━━━━━━━━━━━━━━━━━━━━━\u001b[0m \u001b[32m804.0/804.0 kB\u001b[0m \u001b[31m73.5 MB/s\u001b[0m eta \u001b[36m0:00:00\u001b[0m\n",
            "\u001b[?25hRequirement already satisfied: wheel in /usr/local/lib/python3.10/dist-packages (0.40.0)\n",
            "Collecting wheel\n",
            "  Downloading wheel-0.41.0-py3-none-any.whl (64 kB)\n",
            "\u001b[2K     \u001b[90m━━━━━━━━━━━━━━━━━━━━━━━━━━━━━━━━━━━━━━━━\u001b[0m \u001b[32m64.7/64.7 kB\u001b[0m \u001b[31m9.9 MB/s\u001b[0m eta \u001b[36m0:00:00\u001b[0m\n",
            "\u001b[?25hInstalling collected packages: wheel, setuptools, pip\n",
            "  Attempting uninstall: wheel\n",
            "    Found existing installation: wheel 0.40.0\n",
            "    Uninstalling wheel-0.40.0:\n",
            "      Successfully uninstalled wheel-0.40.0\n",
            "  Attempting uninstall: setuptools\n",
            "    Found existing installation: setuptools 67.7.2\n",
            "    Uninstalling setuptools-67.7.2:\n",
            "      Successfully uninstalled setuptools-67.7.2\n",
            "  Attempting uninstall: pip\n",
            "    Found existing installation: pip 23.1.2\n",
            "    Uninstalling pip-23.1.2:\n",
            "      Successfully uninstalled pip-23.1.2\n",
            "\u001b[31mERROR: pip's dependency resolver does not currently take into account all the packages that are installed. This behaviour is the source of the following dependency conflicts.\n",
            "ipython 7.34.0 requires jedi>=0.16, which is not installed.\u001b[0m\u001b[31m\n",
            "\u001b[0mSuccessfully installed pip-23.2.1 setuptools-68.0.0 wheel-0.41.0\n"
          ]
        },
        {
          "output_type": "display_data",
          "data": {
            "application/vnd.colab-display-data+json": {
              "pip_warning": {
                "packages": [
                  "_distutils_hack",
                  "pkg_resources",
                  "setuptools"
                ]
              }
            }
          },
          "metadata": {}
        },
        {
          "output_type": "stream",
          "name": "stdout",
          "text": [
            "Requirement already satisfied: spacy in /usr/local/lib/python3.10/dist-packages (3.5.4)\n",
            "Collecting spacy\n",
            "  Obtaining dependency information for spacy from https://files.pythonhosted.org/packages/8f/bc/213638f0242858d936c171f4e32e431a6fbbe703184a944a81c065cdc414/spacy-3.6.0-cp310-cp310-manylinux_2_17_x86_64.manylinux2014_x86_64.whl.metadata\n",
            "  Downloading spacy-3.6.0-cp310-cp310-manylinux_2_17_x86_64.manylinux2014_x86_64.whl.metadata (19 kB)\n",
            "Requirement already satisfied: spacy-legacy<3.1.0,>=3.0.11 in /usr/local/lib/python3.10/dist-packages (from spacy) (3.0.12)\n",
            "Requirement already satisfied: spacy-loggers<2.0.0,>=1.0.0 in /usr/local/lib/python3.10/dist-packages (from spacy) (1.0.4)\n",
            "Requirement already satisfied: murmurhash<1.1.0,>=0.28.0 in /usr/local/lib/python3.10/dist-packages (from spacy) (1.0.9)\n",
            "Requirement already satisfied: cymem<2.1.0,>=2.0.2 in /usr/local/lib/python3.10/dist-packages (from spacy) (2.0.7)\n",
            "Requirement already satisfied: preshed<3.1.0,>=3.0.2 in /usr/local/lib/python3.10/dist-packages (from spacy) (3.0.8)\n",
            "Requirement already satisfied: thinc<8.2.0,>=8.1.8 in /usr/local/lib/python3.10/dist-packages (from spacy) (8.1.10)\n",
            "Requirement already satisfied: wasabi<1.2.0,>=0.9.1 in /usr/local/lib/python3.10/dist-packages (from spacy) (1.1.2)\n",
            "Requirement already satisfied: srsly<3.0.0,>=2.4.3 in /usr/local/lib/python3.10/dist-packages (from spacy) (2.4.6)\n",
            "Requirement already satisfied: catalogue<2.1.0,>=2.0.6 in /usr/local/lib/python3.10/dist-packages (from spacy) (2.0.8)\n",
            "Requirement already satisfied: typer<0.10.0,>=0.3.0 in /usr/local/lib/python3.10/dist-packages (from spacy) (0.9.0)\n",
            "Requirement already satisfied: pathy>=0.10.0 in /usr/local/lib/python3.10/dist-packages (from spacy) (0.10.2)\n",
            "Requirement already satisfied: smart-open<7.0.0,>=5.2.1 in /usr/local/lib/python3.10/dist-packages (from spacy) (6.3.0)\n",
            "Requirement already satisfied: tqdm<5.0.0,>=4.38.0 in /usr/local/lib/python3.10/dist-packages (from spacy) (4.65.0)\n",
            "Requirement already satisfied: numpy>=1.15.0 in /usr/local/lib/python3.10/dist-packages (from spacy) (1.22.4)\n",
            "Requirement already satisfied: requests<3.0.0,>=2.13.0 in /usr/local/lib/python3.10/dist-packages (from spacy) (2.27.1)\n",
            "Requirement already satisfied: pydantic!=1.8,!=1.8.1,<1.11.0,>=1.7.4 in /usr/local/lib/python3.10/dist-packages (from spacy) (1.10.11)\n",
            "Requirement already satisfied: jinja2 in /usr/local/lib/python3.10/dist-packages (from spacy) (3.1.2)\n",
            "Requirement already satisfied: setuptools in /usr/local/lib/python3.10/dist-packages (from spacy) (68.0.0)\n",
            "Requirement already satisfied: packaging>=20.0 in /usr/local/lib/python3.10/dist-packages (from spacy) (23.1)\n",
            "Requirement already satisfied: langcodes<4.0.0,>=3.2.0 in /usr/local/lib/python3.10/dist-packages (from spacy) (3.3.0)\n",
            "Requirement already satisfied: typing-extensions>=4.2.0 in /usr/local/lib/python3.10/dist-packages (from pydantic!=1.8,!=1.8.1,<1.11.0,>=1.7.4->spacy) (4.7.1)\n",
            "Requirement already satisfied: urllib3<1.27,>=1.21.1 in /usr/local/lib/python3.10/dist-packages (from requests<3.0.0,>=2.13.0->spacy) (1.26.16)\n",
            "Requirement already satisfied: certifi>=2017.4.17 in /usr/local/lib/python3.10/dist-packages (from requests<3.0.0,>=2.13.0->spacy) (2023.5.7)\n",
            "Requirement already satisfied: charset-normalizer~=2.0.0 in /usr/local/lib/python3.10/dist-packages (from requests<3.0.0,>=2.13.0->spacy) (2.0.12)\n",
            "Requirement already satisfied: idna<4,>=2.5 in /usr/local/lib/python3.10/dist-packages (from requests<3.0.0,>=2.13.0->spacy) (3.4)\n",
            "Requirement already satisfied: blis<0.8.0,>=0.7.8 in /usr/local/lib/python3.10/dist-packages (from thinc<8.2.0,>=8.1.8->spacy) (0.7.9)\n",
            "Requirement already satisfied: confection<1.0.0,>=0.0.1 in /usr/local/lib/python3.10/dist-packages (from thinc<8.2.0,>=8.1.8->spacy) (0.1.0)\n",
            "Requirement already satisfied: click<9.0.0,>=7.1.1 in /usr/local/lib/python3.10/dist-packages (from typer<0.10.0,>=0.3.0->spacy) (8.1.4)\n",
            "Requirement already satisfied: MarkupSafe>=2.0 in /usr/local/lib/python3.10/dist-packages (from jinja2->spacy) (2.1.3)\n",
            "Downloading spacy-3.6.0-cp310-cp310-manylinux_2_17_x86_64.manylinux2014_x86_64.whl (6.7 MB)\n",
            "\u001b[2K   \u001b[90m━━━━━━━━━━━━━━━━━━━━━━━━━━━━━━━━━━━━━━━━\u001b[0m \u001b[32m6.7/6.7 MB\u001b[0m \u001b[31m75.1 MB/s\u001b[0m eta \u001b[36m0:00:00\u001b[0m\n",
            "\u001b[?25hInstalling collected packages: spacy\n",
            "  Attempting uninstall: spacy\n",
            "    Found existing installation: spacy 3.5.4\n",
            "    Uninstalling spacy-3.5.4:\n",
            "      Successfully uninstalled spacy-3.5.4\n",
            "\u001b[31mERROR: pip's dependency resolver does not currently take into account all the packages that are installed. This behaviour is the source of the following dependency conflicts.\n",
            "en-core-web-sm 3.5.0 requires spacy<3.6.0,>=3.5.0, but you have spacy 3.6.0 which is incompatible.\u001b[0m\u001b[31m\n",
            "\u001b[0mSuccessfully installed spacy-3.6.0\n",
            "\u001b[33mWARNING: Running pip as the 'root' user can result in broken permissions and conflicting behaviour with the system package manager. It is recommended to use a virtual environment instead: https://pip.pypa.io/warnings/venv\u001b[0m\u001b[33m\n",
            "\u001b[0m"
          ]
        },
        {
          "output_type": "display_data",
          "data": {
            "application/vnd.colab-display-data+json": {
              "pip_warning": {
                "packages": [
                  "spacy"
                ]
              }
            }
          },
          "metadata": {}
        },
        {
          "output_type": "stream",
          "name": "stdout",
          "text": [
            "2023-08-01 10:40:56.760670: W tensorflow/compiler/tf2tensorrt/utils/py_utils.cc:38] TF-TRT Warning: Could not find TensorRT\n",
            "Collecting en-core-web-lg==3.6.0\n",
            "  Downloading https://github.com/explosion/spacy-models/releases/download/en_core_web_lg-3.6.0/en_core_web_lg-3.6.0-py3-none-any.whl (587.7 MB)\n",
            "\u001b[2K     \u001b[90m━━━━━━━━━━━━━━━━━━━━━━━━━━━━━━━━━━━━━━━\u001b[0m \u001b[32m587.7/587.7 MB\u001b[0m \u001b[31m2.6 MB/s\u001b[0m eta \u001b[36m0:00:00\u001b[0m\n",
            "\u001b[?25hRequirement already satisfied: spacy<3.7.0,>=3.6.0 in /usr/local/lib/python3.10/dist-packages (from en-core-web-lg==3.6.0) (3.6.0)\n",
            "Requirement already satisfied: spacy-legacy<3.1.0,>=3.0.11 in /usr/local/lib/python3.10/dist-packages (from spacy<3.7.0,>=3.6.0->en-core-web-lg==3.6.0) (3.0.12)\n",
            "Requirement already satisfied: spacy-loggers<2.0.0,>=1.0.0 in /usr/local/lib/python3.10/dist-packages (from spacy<3.7.0,>=3.6.0->en-core-web-lg==3.6.0) (1.0.4)\n",
            "Requirement already satisfied: murmurhash<1.1.0,>=0.28.0 in /usr/local/lib/python3.10/dist-packages (from spacy<3.7.0,>=3.6.0->en-core-web-lg==3.6.0) (1.0.9)\n",
            "Requirement already satisfied: cymem<2.1.0,>=2.0.2 in /usr/local/lib/python3.10/dist-packages (from spacy<3.7.0,>=3.6.0->en-core-web-lg==3.6.0) (2.0.7)\n",
            "Requirement already satisfied: preshed<3.1.0,>=3.0.2 in /usr/local/lib/python3.10/dist-packages (from spacy<3.7.0,>=3.6.0->en-core-web-lg==3.6.0) (3.0.8)\n",
            "Requirement already satisfied: thinc<8.2.0,>=8.1.8 in /usr/local/lib/python3.10/dist-packages (from spacy<3.7.0,>=3.6.0->en-core-web-lg==3.6.0) (8.1.10)\n",
            "Requirement already satisfied: wasabi<1.2.0,>=0.9.1 in /usr/local/lib/python3.10/dist-packages (from spacy<3.7.0,>=3.6.0->en-core-web-lg==3.6.0) (1.1.2)\n",
            "Requirement already satisfied: srsly<3.0.0,>=2.4.3 in /usr/local/lib/python3.10/dist-packages (from spacy<3.7.0,>=3.6.0->en-core-web-lg==3.6.0) (2.4.6)\n",
            "Requirement already satisfied: catalogue<2.1.0,>=2.0.6 in /usr/local/lib/python3.10/dist-packages (from spacy<3.7.0,>=3.6.0->en-core-web-lg==3.6.0) (2.0.8)\n",
            "Requirement already satisfied: typer<0.10.0,>=0.3.0 in /usr/local/lib/python3.10/dist-packages (from spacy<3.7.0,>=3.6.0->en-core-web-lg==3.6.0) (0.9.0)\n",
            "Requirement already satisfied: pathy>=0.10.0 in /usr/local/lib/python3.10/dist-packages (from spacy<3.7.0,>=3.6.0->en-core-web-lg==3.6.0) (0.10.2)\n",
            "Requirement already satisfied: smart-open<7.0.0,>=5.2.1 in /usr/local/lib/python3.10/dist-packages (from spacy<3.7.0,>=3.6.0->en-core-web-lg==3.6.0) (6.3.0)\n",
            "Requirement already satisfied: tqdm<5.0.0,>=4.38.0 in /usr/local/lib/python3.10/dist-packages (from spacy<3.7.0,>=3.6.0->en-core-web-lg==3.6.0) (4.65.0)\n",
            "Requirement already satisfied: numpy>=1.15.0 in /usr/local/lib/python3.10/dist-packages (from spacy<3.7.0,>=3.6.0->en-core-web-lg==3.6.0) (1.22.4)\n",
            "Requirement already satisfied: requests<3.0.0,>=2.13.0 in /usr/local/lib/python3.10/dist-packages (from spacy<3.7.0,>=3.6.0->en-core-web-lg==3.6.0) (2.27.1)\n",
            "Requirement already satisfied: pydantic!=1.8,!=1.8.1,<1.11.0,>=1.7.4 in /usr/local/lib/python3.10/dist-packages (from spacy<3.7.0,>=3.6.0->en-core-web-lg==3.6.0) (1.10.11)\n",
            "Requirement already satisfied: jinja2 in /usr/local/lib/python3.10/dist-packages (from spacy<3.7.0,>=3.6.0->en-core-web-lg==3.6.0) (3.1.2)\n",
            "Requirement already satisfied: setuptools in /usr/local/lib/python3.10/dist-packages (from spacy<3.7.0,>=3.6.0->en-core-web-lg==3.6.0) (68.0.0)\n",
            "Requirement already satisfied: packaging>=20.0 in /usr/local/lib/python3.10/dist-packages (from spacy<3.7.0,>=3.6.0->en-core-web-lg==3.6.0) (23.1)\n",
            "Requirement already satisfied: langcodes<4.0.0,>=3.2.0 in /usr/local/lib/python3.10/dist-packages (from spacy<3.7.0,>=3.6.0->en-core-web-lg==3.6.0) (3.3.0)\n",
            "Requirement already satisfied: typing-extensions>=4.2.0 in /usr/local/lib/python3.10/dist-packages (from pydantic!=1.8,!=1.8.1,<1.11.0,>=1.7.4->spacy<3.7.0,>=3.6.0->en-core-web-lg==3.6.0) (4.7.1)\n",
            "Requirement already satisfied: urllib3<1.27,>=1.21.1 in /usr/local/lib/python3.10/dist-packages (from requests<3.0.0,>=2.13.0->spacy<3.7.0,>=3.6.0->en-core-web-lg==3.6.0) (1.26.16)\n",
            "Requirement already satisfied: certifi>=2017.4.17 in /usr/local/lib/python3.10/dist-packages (from requests<3.0.0,>=2.13.0->spacy<3.7.0,>=3.6.0->en-core-web-lg==3.6.0) (2023.5.7)\n",
            "Requirement already satisfied: charset-normalizer~=2.0.0 in /usr/local/lib/python3.10/dist-packages (from requests<3.0.0,>=2.13.0->spacy<3.7.0,>=3.6.0->en-core-web-lg==3.6.0) (2.0.12)\n",
            "Requirement already satisfied: idna<4,>=2.5 in /usr/local/lib/python3.10/dist-packages (from requests<3.0.0,>=2.13.0->spacy<3.7.0,>=3.6.0->en-core-web-lg==3.6.0) (3.4)\n",
            "Requirement already satisfied: blis<0.8.0,>=0.7.8 in /usr/local/lib/python3.10/dist-packages (from thinc<8.2.0,>=8.1.8->spacy<3.7.0,>=3.6.0->en-core-web-lg==3.6.0) (0.7.9)\n",
            "Requirement already satisfied: confection<1.0.0,>=0.0.1 in /usr/local/lib/python3.10/dist-packages (from thinc<8.2.0,>=8.1.8->spacy<3.7.0,>=3.6.0->en-core-web-lg==3.6.0) (0.1.0)\n",
            "Requirement already satisfied: click<9.0.0,>=7.1.1 in /usr/local/lib/python3.10/dist-packages (from typer<0.10.0,>=0.3.0->spacy<3.7.0,>=3.6.0->en-core-web-lg==3.6.0) (8.1.4)\n",
            "Requirement already satisfied: MarkupSafe>=2.0 in /usr/local/lib/python3.10/dist-packages (from jinja2->spacy<3.7.0,>=3.6.0->en-core-web-lg==3.6.0) (2.1.3)\n",
            "Installing collected packages: en-core-web-lg\n",
            "Successfully installed en-core-web-lg-3.6.0\n",
            "\u001b[33mWARNING: Running pip as the 'root' user can result in broken permissions and conflicting behaviour with the system package manager. It is recommended to use a virtual environment instead: https://pip.pypa.io/warnings/venv\u001b[0m\u001b[33m\n",
            "\u001b[0m\u001b[38;5;2m✔ Download and installation successful\u001b[0m\n",
            "You can now load the package via spacy.load('en_core_web_lg')\n"
          ]
        }
      ]
    },
    {
      "cell_type": "code",
      "source": [
        "!python -m spacy init fill-config base_config.cfg config.cfg"
      ],
      "metadata": {
        "colab": {
          "base_uri": "https://localhost:8080/"
        },
        "id": "82aFVbnCOSv0",
        "outputId": "40841077-bc7f-4b81-b394-407b3866ad0a"
      },
      "execution_count": 16,
      "outputs": [
        {
          "output_type": "stream",
          "name": "stdout",
          "text": [
            "2023-08-01 10:41:33.129019: W tensorflow/compiler/tf2tensorrt/utils/py_utils.cc:38] TF-TRT Warning: Could not find TensorRT\n",
            "\u001b[38;5;2m✔ Auto-filled config with all values\u001b[0m\n",
            "\u001b[38;5;2m✔ Saved config\u001b[0m\n",
            "config.cfg\n",
            "You can now add your data and train your pipeline:\n",
            "python -m spacy train config.cfg --paths.train ./train.spacy --paths.dev ./dev.spacy\n"
          ]
        }
      ]
    },
    {
      "cell_type": "code",
      "source": [
        "#!python -m spacy train config.cfg --output ./output drive/MyDrive/capstone-nlp/\n",
        "!python -m spacy train config.cfg --output ./capstone_ner_output"
      ],
      "metadata": {
        "colab": {
          "base_uri": "https://localhost:8080/"
        },
        "id": "cPIfxVqTOguw",
        "outputId": "2f9ee375-251e-442b-e7b2-c07203ae4507"
      },
      "execution_count": 17,
      "outputs": [
        {
          "output_type": "stream",
          "name": "stdout",
          "text": [
            "2023-08-01 10:41:45.248333: W tensorflow/compiler/tf2tensorrt/utils/py_utils.cc:38] TF-TRT Warning: Could not find TensorRT\n",
            "\u001b[38;5;2m✔ Created output directory: capstone_ner_output\u001b[0m\n",
            "\u001b[38;5;4mℹ Saving to output directory: capstone_ner_output\u001b[0m\n",
            "\u001b[38;5;4mℹ Using CPU\u001b[0m\n",
            "\u001b[38;5;4mℹ To switch to GPU 0, use the option: --gpu-id 0\u001b[0m\n",
            "\u001b[1m\n",
            "=========================== Initializing pipeline ===========================\u001b[0m\n",
            "[2023-08-01 10:41:48,399] [INFO] Set up nlp object from config\n",
            "[2023-08-01 10:41:48,415] [INFO] Pipeline: ['tok2vec', 'ner']\n",
            "[2023-08-01 10:41:48,419] [INFO] Created vocabulary\n",
            "[2023-08-01 10:41:49,974] [INFO] Added vectors: en_core_web_lg\n",
            "[2023-08-01 10:41:49,975] [INFO] Finished initializing nlp object\n",
            "[2023-08-01 10:41:50,544] [INFO] Initialized pipeline components: ['tok2vec', 'ner']\n",
            "\u001b[38;5;2m✔ Initialized pipeline\u001b[0m\n",
            "\u001b[1m\n",
            "============================= Training pipeline =============================\u001b[0m\n",
            "\u001b[38;5;4mℹ Pipeline: ['tok2vec', 'ner']\u001b[0m\n",
            "\u001b[38;5;4mℹ Initial learn rate: 0.001\u001b[0m\n",
            "E    #       LOSS TOK2VEC  LOSS NER  ENTS_F  ENTS_P  ENTS_R  SCORE \n",
            "---  ------  ------------  --------  ------  ------  ------  ------\n",
            "  0       0          0.00     56.27    0.00    0.00    0.00    0.00\n",
            " 38     200        111.89   2386.82  100.00  100.00  100.00    1.00\n",
            " 85     400          0.00      0.00  100.00  100.00  100.00    1.00\n",
            "145     600          0.00      0.00  100.00  100.00  100.00    1.00\n",
            "213     800          0.00      0.00  100.00  100.00  100.00    1.00\n",
            "312    1000          0.00      0.00  100.00  100.00  100.00    1.00\n",
            "412    1200          0.00      0.00  100.00  100.00  100.00    1.00\n",
            "533    1400          0.00      0.00  100.00  100.00  100.00    1.00\n",
            "733    1600          0.00      0.00  100.00  100.00  100.00    1.00\n",
            "933    1800          0.00      0.00  100.00  100.00  100.00    1.00\n",
            "\u001b[38;5;2m✔ Saved pipeline to output directory\u001b[0m\n",
            "capstone_ner_output/model-last\n"
          ]
        }
      ]
    },
    {
      "cell_type": "markdown",
      "source": [
        "# TEST the custom tagging\n",
        "after running command line for spacy on local terminal (with cpu)"
      ],
      "metadata": {
        "id": "DFK5H41FwZSL"
      }
    },
    {
      "cell_type": "markdown",
      "source": [
        "### MOUNT GOOGLE DRIVE TO UPLOAD THE MODEL"
      ],
      "metadata": {
        "id": "Hfkn6LtAMnFd"
      }
    },
    {
      "cell_type": "code",
      "source": [
        "# load the trained model\n",
        "\n",
        "#model_path = 'drive/MyDrive/capstone_ner_output' + '/model-best'\n",
        "# model_path = '/content/capstone_ner_output' + \"/model-best\"\n",
        "\n",
        "model_path = '/content/drive/MyDrive/capstone_ner_output/model-best'\n",
        "nlp_output = spacy.load(model_path)\n",
        "\n"
      ],
      "metadata": {
        "id": "YPuRzbFTMmXH",
        "colab": {
          "base_uri": "https://localhost:8080/"
        },
        "outputId": "6df45fa1-03d6-4969-bf0d-0f0e0c305931"
      },
      "execution_count": 19,
      "outputs": [
        {
          "output_type": "stream",
          "name": "stderr",
          "text": [
            "/usr/local/lib/python3.10/dist-packages/spacy/util.py:887: UserWarning: [W095] Model 'en_pipeline' (0.0.0) was trained with spaCy v3.6 and may not be 100% compatible with the current version (3.5.4). If you see errors or degraded performance, download a newer compatible model or retrain your custom model with the current spaCy version. For more details and available updates, run: python -m spacy validate\n",
            "  raise IOError(Errors.E052.format(path=path.parent))\n"
          ]
        }
      ]
    },
    {
      "cell_type": "code",
      "source": [
        "\n",
        "model_test1 = \"Schedule a training workshop on February 20, 2024, from 9:00 AM to 12:00 PM. The workshop will take place at the Training Room, Building C. The event ID is w2gpmm1h0sd98vjr0khndcoda6.\"\n",
        "\n",
        "\n",
        "\n",
        "#model_test2 = \"Plan a team brainstorming session on April 5, 2024, starting at 2:30 PM. The session will last approximately 2 hours and will be held in the Innovation Lab. The event ID is m5gpmm1huhjk27rr0kntdcoda1.\"\n",
        "\n",
        "\n",
        "# pass our test instance into the trained pipeline\n",
        "doc = nlp_output(model_test1)\n",
        "\n",
        "# customize the label colors\n",
        "#colors = {\"DATE\": \"linear-gradient(90deg, #E1D436, #F59710)\"}\n",
        "#options = {\"ents\": [\"DATE\"], \"colors\": colors}\n",
        "\n",
        "# visualize the identified entities\n",
        "#displacy.render(doc, style=\"ent\", options=options)\n",
        "\n",
        "# print out the identified entities\n",
        "for ent in doc.ents:\n",
        "    print(ent.label_, ent.text,)\n",
        "    #if ent.label_ == \"DATE\":\n",
        "    #    print(ent.text, ent.label_)\n"
      ],
      "metadata": {
        "id": "GI6Gqu7dwX9y",
        "colab": {
          "base_uri": "https://localhost:8080/"
        },
        "outputId": "aa8c9bc9-c42a-4634-9cb2-2cd44db70a88"
      },
      "execution_count": 20,
      "outputs": [
        {
          "output_type": "stream",
          "name": "stdout",
          "text": [
            "SUMMARY a training workshop\n",
            "DATE February 20, 2024\n",
            "START_TIME 9:00 AM\n",
            "END_TIME 12:00 PM\n",
            "LOCATION at the Training Room, Building\n",
            "EVENT_ID w2gpmm1h0sd98vjr0khndcoda6\n"
          ]
        }
      ]
    },
    {
      "cell_type": "code",
      "source": [],
      "metadata": {
        "id": "tCPHS97Aiqd5"
      },
      "execution_count": 20,
      "outputs": []
    },
    {
      "cell_type": "code",
      "source": [
        "#model_test1 = \"Schedule a training workshop on February 20, 2024, from 9:00 AM to 12:00 PM. The workshop will take place at the Training Room, Building C. The event ID is w2gpmm1h0sd98vjr0khndcoda6.\"\n",
        "\n",
        "model_test2 = \"Plan a team brainstorming session on April 5, 2024, starting at 2:30 PM. The session will last approximately 2 hours and will be held in the Innovation Lab. The event ID is m5gpmm1huhjk27rr0kntdcoda1.\"\n",
        "\n",
        "\n",
        "\n",
        "doc = nlp_output(model_test2)\n",
        "\n",
        "for ent in doc.ents:\n",
        "    print(ent.label_, ent.text,)"
      ],
      "metadata": {
        "id": "TPBO2QELqPVd",
        "colab": {
          "base_uri": "https://localhost:8080/"
        },
        "outputId": "befdfea5-a74a-4fcb-d649-2c675595eac6"
      },
      "execution_count": 22,
      "outputs": [
        {
          "output_type": "stream",
          "name": "stdout",
          "text": [
            "SUMMARY a team brainstorming session\n",
            "DATE April 5, 2024\n",
            "START_TIME 2:30 PM\n",
            "DURATION approximately 2 hours\n",
            "LOCATION the Innovation Lab\n",
            "EVENT_ID m5gpmm1huhjk27rr0kntdcoda1\n"
          ]
        }
      ]
    },
    {
      "cell_type": "code",
      "source": [],
      "metadata": {
        "id": "LA7_MY8dshf7"
      },
      "execution_count": null,
      "outputs": []
    }
  ]
}