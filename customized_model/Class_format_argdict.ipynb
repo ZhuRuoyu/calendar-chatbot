{
  "nbformat": 4,
  "nbformat_minor": 0,
  "metadata": {
    "colab": {
      "provenance": [],
      "authorship_tag": "ABX9TyNXQlHSILovuyhO1rgAGY1R",
      "include_colab_link": true
    },
    "kernelspec": {
      "name": "python3",
      "display_name": "Python 3"
    },
    "language_info": {
      "name": "python"
    }
  },
  "cells": [
    {
      "cell_type": "markdown",
      "metadata": {
        "id": "view-in-github",
        "colab_type": "text"
      },
      "source": [
        "<a href=\"https://colab.research.google.com/github/ZhuRuoyu/calendar-chatbot/blob/main/customized_model/Class_format_argdict.ipynb\" target=\"_parent\"><img src=\"https://colab.research.google.com/assets/colab-badge.svg\" alt=\"Open In Colab\"/></a>"
      ]
    },
    {
      "cell_type": "code",
      "source": [
        "!pip install datefinder\n",
        "from datetime import datetime, timedelta, date, timezone\n",
        "import datefinder\n",
        "\n",
        "!pip install word2number\n",
        "from word2number import w2n\n",
        "import re\n",
        "import pytz #timezone\n",
        "\n",
        "from dateutil import parser # date"
      ],
      "metadata": {
        "colab": {
          "base_uri": "https://localhost:8080/"
        },
        "id": "l0Q22DCIdInK",
        "outputId": "2f871498-da66-498f-c419-f19ff5a08914"
      },
      "execution_count": 85,
      "outputs": [
        {
          "output_type": "stream",
          "name": "stdout",
          "text": [
            "Requirement already satisfied: datefinder in /usr/local/lib/python3.10/dist-packages (0.7.3)\n",
            "Requirement already satisfied: regex>=2017.02.08 in /usr/local/lib/python3.10/dist-packages (from datefinder) (2022.10.31)\n",
            "Requirement already satisfied: python-dateutil>=2.4.2 in /usr/local/lib/python3.10/dist-packages (from datefinder) (2.8.2)\n",
            "Requirement already satisfied: pytz in /usr/local/lib/python3.10/dist-packages (from datefinder) (2022.7.1)\n",
            "Requirement already satisfied: six>=1.5 in /usr/local/lib/python3.10/dist-packages (from python-dateutil>=2.4.2->datefinder) (1.16.0)\n",
            "Requirement already satisfied: word2number in /usr/local/lib/python3.10/dist-packages (1.1)\n"
          ]
        }
      ]
    },
    {
      "cell_type": "code",
      "source": [
        "# run the Class firt\n",
        "# then run this test\n",
        "arg_dict1 = {'START_TIME': '7pm', 'DURATION': '30 minutes'}\n",
        "\n",
        "\n",
        "obj_vancouver = TimeFormat(arg_dict1, timezone_want = 'America/Vancouver')\n",
        "obj_vancouver.format_all()\n",
        "\n",
        "\n"
      ],
      "metadata": {
        "colab": {
          "base_uri": "https://localhost:8080/"
        },
        "id": "uyQkFVPeRphw",
        "outputId": "d34e0568-1e90-4e53-d18d-745a1b14ee83"
      },
      "execution_count": 139,
      "outputs": [
        {
          "output_type": "execute_result",
          "data": {
            "text/plain": [
              "{'START_TIME': '19:00:00',\n",
              " 'DURATION': [0, 0, 30],\n",
              " 'DATE': '2023-07-29',\n",
              " 'END_TIME': '19:30:00'}"
            ]
          },
          "metadata": {},
          "execution_count": 139
        }
      ]
    },
    {
      "cell_type": "code",
      "source": [
        "arg_dict1"
      ],
      "metadata": {
        "colab": {
          "base_uri": "https://localhost:8080/"
        },
        "id": "ZqVkMrhxfxql",
        "outputId": "5316fc4a-b6a9-45ea-c7d8-d0f225986f82"
      },
      "execution_count": 140,
      "outputs": [
        {
          "output_type": "execute_result",
          "data": {
            "text/plain": [
              "{'START_TIME': '19:00:00',\n",
              " 'DURATION': [0, 0, 30],\n",
              " 'DATE': '2023-07-29',\n",
              " 'END_TIME': '19:30:00'}"
            ]
          },
          "metadata": {},
          "execution_count": 140
        }
      ]
    },
    {
      "cell_type": "code",
      "source": [
        "arg_dict2 = {'START_TIME': '7pm', 'DURATION': '30 minutes', 'DATE':'july 30'}\n",
        "\n",
        "# use default timezone: Toronto\n",
        "obj_default_toronto = TimeFormat(arg_dict2)\n",
        "obj_default_toronto.format_all()\n"
      ],
      "metadata": {
        "colab": {
          "base_uri": "https://localhost:8080/"
        },
        "id": "qnbtXCvdTVcW",
        "outputId": "0621b4db-e38c-4f82-b983-ede452516439"
      },
      "execution_count": 158,
      "outputs": [
        {
          "output_type": "stream",
          "name": "stdout",
          "text": [
            "no end time given \n",
            "end time is calcuate by duration 19:30:00\n",
            "dic return before else 19:30:00\n"
          ]
        },
        {
          "output_type": "execute_result",
          "data": {
            "text/plain": [
              "{'START_TIME': '19:00:00',\n",
              " 'DURATION': [0, 0, 30],\n",
              " 'DATE': '2023-07-30',\n",
              " 'END_TIME': '19:30:00'}"
            ]
          },
          "metadata": {},
          "execution_count": 158
        }
      ]
    },
    {
      "cell_type": "code",
      "source": [
        "arg_dict2"
      ],
      "metadata": {
        "colab": {
          "base_uri": "https://localhost:8080/"
        },
        "id": "z5U7nI7Of0od",
        "outputId": "3e9f8c76-d61b-478e-ad84-4deb966dc593"
      },
      "execution_count": 159,
      "outputs": [
        {
          "output_type": "execute_result",
          "data": {
            "text/plain": [
              "{'START_TIME': '19:00:00',\n",
              " 'DURATION': [0, 0, 30],\n",
              " 'DATE': '2023-07-30',\n",
              " 'END_TIME': '19:30:00'}"
            ]
          },
          "metadata": {},
          "execution_count": 159
        }
      ]
    },
    {
      "cell_type": "code",
      "source": [
        "arg_dict4 = {'START_TIME': '7pm'}#, 'END_TIME':'9pm'}\n",
        "\n",
        "## end_time and duration can not exist together\n",
        "temp4 = TimeFormat(arg_dict4)\n",
        "temp4.format_all()\n",
        "\n"
      ],
      "metadata": {
        "colab": {
          "base_uri": "https://localhost:8080/"
        },
        "id": "oDBKEn4pe0bv",
        "outputId": "02915c3f-f6a3-4f97-a0c4-46ea3337dc5d"
      },
      "execution_count": 167,
      "outputs": [
        {
          "output_type": "stream",
          "name": "stdout",
          "text": [
            "no end time given \n",
            "end time is calcuate by duration 20:00:00\n",
            "dic return before else 20:00:00\n"
          ]
        },
        {
          "output_type": "execute_result",
          "data": {
            "text/plain": [
              "{'START_TIME': '19:00:00',\n",
              " 'DATE': '2023-07-30',\n",
              " 'END_TIME': '20:00:00',\n",
              " 'DURATION': [0, 1, 0]}"
            ]
          },
          "metadata": {},
          "execution_count": 167
        }
      ]
    },
    {
      "cell_type": "code",
      "source": [
        "arg_dict4"
      ],
      "metadata": {
        "colab": {
          "base_uri": "https://localhost:8080/"
        },
        "id": "Wq5278C7f455",
        "outputId": "bad2b0a2-4daa-4c4e-c28b-77733376c42a"
      },
      "execution_count": 166,
      "outputs": [
        {
          "output_type": "execute_result",
          "data": {
            "text/plain": [
              "{'START_TIME': '19:00:00', 'END_TIME': '21:00:00', 'DATE': '2023-07-30'}"
            ]
          },
          "metadata": {},
          "execution_count": 166
        }
      ]
    },
    {
      "cell_type": "code",
      "execution_count": 164,
      "metadata": {
        "id": "vJ34Fz5sV9tz"
      },
      "outputs": [],
      "source": [
        "class TimeFormat:\n",
        "    def __init__(self, arg_dict, timezone_want = 'America/Toronto'):\n",
        "        self.arg_dict = arg_dict\n",
        "        self.timezone = timezone_want\n",
        "        self.fun_pool = [self.date_format,\n",
        "                         self.start_time_format,\n",
        "                         self.end_time_format,\n",
        "                         ]\n",
        "\n",
        "    def __extract_duration_components(self, duration_string):\n",
        "\n",
        "      ''' the hours and mins abbr can't be recognized'''\n",
        "    # Regular expression to find numbers and units in the input string\n",
        "      pattern = r'(\\d+|one|two|three|four|five|six|seven|eight|nine|ten)\\s*(day|hour|minute)s?'\n",
        "      matches = re.findall(pattern, duration_string)\n",
        "\n",
        "      time_components = {\n",
        "          'day': 0,\n",
        "          'hour': 0,\n",
        "          'minute': 0\n",
        "      }\n",
        "\n",
        "      for number, unit in matches:\n",
        "          number = w2n.word_to_num(number) if number.isalpha() else int(number)\n",
        "          unit = unit.lower()\n",
        "          time_components[unit] = number\n",
        "\n",
        "      return [time_components['day'], time_components['hour'], time_components['minute']]\n",
        "\n",
        "\n",
        "    def __get_current_date_in_timezone(self, timezone_name):\n",
        "    # Get the current date and time in UTC\n",
        "      utc_now = datetime.utcnow()\n",
        "\n",
        "    # Set the UTC timezone\n",
        "      utc_timezone = pytz.timezone('UTC')\n",
        "\n",
        "    # Convert the UTC time to the desired timezone\n",
        "      desired_timezone = pytz.timezone(timezone_name)\n",
        "      desired_date = utc_timezone.localize(utc_now).astimezone(desired_timezone).date()\n",
        "\n",
        "      return desired_date\n",
        "\n",
        "\n",
        "    # def __duration(self, duration_string): #return a list [0,1,2]\n",
        "\n",
        "    #     if 'DURATION' in self.arg_dict.keys():\n",
        "    #       #duration = [0,0,0]\n",
        "    #       #duration_str = duration_string\n",
        "    #       duration = self.__extract_duration_components(duration_string)\n",
        "    #       self.arg_dict['DURATION'] = duration\n",
        "\n",
        "    #     else:\n",
        "    #       self.arg_dict['DURATION'] = [0,1,0] #default duration is 1 hour\n",
        "\n",
        "    #     return self.arg_dict\n",
        "\n",
        "\n",
        "    def date_format(self):\n",
        "      '''... need to fixed typo issue'''\n",
        "      if 'DATE' in self.arg_dict.keys():\n",
        "\n",
        "        date_str = self.arg_dict['DATE']\n",
        "\n",
        "\n",
        "        # if no mis-spelling: parse it\n",
        "        # if no date extracted, raise error\n",
        "        date_get = parser.parse(date_str)\n",
        "        self.arg_dict['DATE'] = date_get.strftime(\"%Y-%m-%d\")\n",
        "\n",
        "      else:\n",
        "        #print('no \"DATE\" key, get todays date')\n",
        "        date_get = self.__get_current_date_in_timezone(self.timezone)\n",
        "\n",
        "      self.arg_dict['DATE'] = date_get.strftime(\"%Y-%m-%d\")\n",
        "      return self.arg_dict\n",
        "\n",
        "\n",
        "    def start_time_format(self):\n",
        "\n",
        "        if 'START_TIME' in self.arg_dict.keys():\n",
        "          start_time_str = self.arg_dict['START_TIME']\n",
        "\n",
        "          matches_start = list(datefinder.find_dates(start_time_str))\n",
        "\n",
        "          while len(matches_start) == 0:\n",
        "            print('Your start time is {}, need another format'.format(start_time_str))\n",
        "            start_time_str = input(\"please enter the start time in the suggested format HH:MM\")\n",
        "            matches_start = list(datefinder.find_dates(start_time_str))\n",
        "\n",
        "\n",
        "          # after the while loop, the len(list(matches_start))  must != 0:\n",
        "          for match_start_first in matches_start: # select first time extracted\n",
        "            # self.arg_dict['START_TIME'] = 'hello'\n",
        "\n",
        "\n",
        "            #print('match time fist',match_start_first)\n",
        "            start_time = match_start_first.strftime(\"%H:%M:%S\")\n",
        "\n",
        "            self.arg_dict['START_TIME'] = start_time\n",
        "            break\n",
        "\n",
        "          return self.arg_dict\n",
        "\n",
        "    def end_time_format(self):\n",
        "      #end_time = '2023-07-29 01:00:00'\n",
        "      if 'END_TIME' in self.arg_dict.keys():\n",
        "        print('end time given')\n",
        "\n",
        "        end_time_str = self.arg_dict['END_TIME']\n",
        "        matches_end   = list(datefinder.find_dates(end_time_str))\n",
        "        print(matches_end)\n",
        "\n",
        "      else:\n",
        "        print('no end time given ')\n",
        "        matches_end = []\n",
        "\n",
        "\n",
        "      while (len(matches_end) == 0):\n",
        "          #print('no end time matches, need to use duration to calculate the end time automatically')\n",
        "          #print('variable need: \"START_TIME\", \"DURATION\", check availablity ')\n",
        "\n",
        "          if 'START_TIME' in self.arg_dict.keys(): # by calculating\n",
        "\n",
        "            start_time_str = self.arg_dict['START_TIME']\n",
        "\n",
        "\n",
        "            # set duration\n",
        "            if 'DURATION' in self.arg_dict.keys():\n",
        "              duration_str = self.arg_dict['DURATION']\n",
        "              duration = self.__extract_duration_components(duration_str) #return a list [day, hour, minute]\n",
        "\n",
        "            else: #set the default duration = 0 day 1 hour 0 minutes\n",
        "              duration = [0,1,0]\n",
        "\n",
        "            # convert string-start-time to 'datetime type' with current date (strptime not working)\n",
        "            start_temp = list(datefinder.find_dates(start_time_str))\n",
        "            matches_end = start_temp #no meaning, just break the while loop\n",
        "            for start_time in start_temp:\n",
        "              break\n",
        "\n",
        "            #end_time is already in the right format\n",
        "            end_time = start_time + timedelta(days=duration[0], hours=duration[1], minutes=duration[2])\n",
        "            end_time = end_time.strftime(\"%H:%M:%S\")\n",
        "\n",
        "            print('end time is calcuate by duration', end_time)\n",
        "\n",
        "            self.arg_dict['END_TIME'] = end_time\n",
        "            self.arg_dict['DURATION'] = duration\n",
        "            print('dic return before else', end_time)\n",
        "            return self.arg_dict #already return\n",
        "\n",
        "          else: #no start time detected, need by manual input\n",
        "            print('variable need: \"START_TIME\", \"DURATION\", are  unavailable, need manual input')\n",
        "            end_time_str = input(\"please enter the end time in the suggested format HH:MM\")\n",
        "            matches_end = list(datefinder.find_dates(end_time_str))\n",
        "            matches_end_else = matches_end\n",
        "\n",
        "        # after while loop, make sure there is some time variable in the matches_end\n",
        "        ## assign end_time from manual input\n",
        "      for end_time_else in matches_end:#_else: # select first time extracted\n",
        "            end_time = end_time_else.strftime(\"%H:%M:%S\")\n",
        "            break\n",
        "\n",
        "      print('end time before assign to dict')\n",
        "      self.arg_dict['END_TIME'] = end_time\n",
        "\n",
        "      return self.arg_dict\n",
        "\n",
        "\n",
        "    def format_all(self):\n",
        "      for it in self.fun_pool:\n",
        "\n",
        "        self.arg_dict = it()\n",
        "\n",
        "      return self.arg_dict\n",
        "\n",
        "\n",
        "\n",
        "\n",
        "\t# if 'DATE' in arg_dict.keys:\n",
        "\t# \tdate_str = arg_dict['DATE']\n",
        "  #   \tmatch_date = list(datefinder.find_dates(date_str)) #edge case: date = tomorrow\n",
        "\n",
        "\t# \tif len(match_date) != 0:\n",
        "  #     \t\tdate = match_date[0]\n",
        "  #     \telse:\n",
        "  #     \t\tprint(' no matched date found')\n",
        "  #     \t\tdate = input(\"please enter the date in the format YYYY-MM-DD\") # 'tomorrow' not match any, ask user again\n",
        "  #     \t\tdate = date.strftime(\"%Y-%m-%dT\")\n",
        "\n",
        "  #     \targ_dict['DATE'] = date\n",
        "\n",
        "  #   return arg_dict\n",
        "  #       return something_else\n",
        "\n"
      ]
    },
    {
      "cell_type": "code",
      "source": [],
      "metadata": {
        "id": "2WUdJ9T3PteK"
      },
      "execution_count": null,
      "outputs": []
    }
  ]
}