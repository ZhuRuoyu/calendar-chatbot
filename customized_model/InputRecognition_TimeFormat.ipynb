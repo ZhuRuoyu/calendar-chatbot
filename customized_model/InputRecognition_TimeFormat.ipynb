{
  "nbformat": 4,
  "nbformat_minor": 0,
  "metadata": {
    "colab": {
      "provenance": [],
      "mount_file_id": "1pzvAmF2dLrz50CjQ4fTRaKO6uAhbTqrS",
      "authorship_tag": "ABX9TyNaM5lR/l+XpkeZ0TOTZesa",
      "include_colab_link": true
    },
    "kernelspec": {
      "name": "python3",
      "display_name": "Python 3"
    },
    "language_info": {
      "name": "python"
    }
  },
  "cells": [
    {
      "cell_type": "markdown",
      "metadata": {
        "id": "view-in-github",
        "colab_type": "text"
      },
      "source": [
        "<a href=\"https://colab.research.google.com/github/ZhuRuoyu/calendar-chatbot/blob/main/customized_model/InputRecognition_TimeFormat.ipynb\" target=\"_parent\"><img src=\"https://colab.research.google.com/assets/colab-badge.svg\" alt=\"Open In Colab\"/></a>"
      ]
    },
    {
      "cell_type": "markdown",
      "source": [
        "<font color = red>Instructions:</font>\n",
        "\n",
        "1. store your model and change the a `path_name_enties` and  `path_intents`\n",
        "2. run everything before `TEST IT`\n",
        "  - part 1: load pretrained model and store an sentence embedding variable\n",
        "  -part 2: run 2 Python Class: class `TimeFormat` and class `InputRecognition`\n",
        "\n",
        "3. in `TEST IT` section, follow the code and you will get 2 returns:\n",
        "  -  function_name,\n",
        "  -  a dictionary that contains all the information needed. All of them are in correct format and are ready to use\n",
        "\n",
        "  - there are other functions that can be called, read the comments and let me know if something doesn't make sense\n"
      ],
      "metadata": {
        "id": "GJECL3tVFEpk"
      }
    },
    {
      "cell_type": "code",
      "execution_count": null,
      "metadata": {
        "id": "5fk7xWkdtH7Z"
      },
      "outputs": [],
      "source": [
        "#library\n",
        "!pip install sentence_transformers\n",
        "!pip install datefinder\n",
        "!pip install word2number\n",
        "\n",
        "\n",
        "from sentence_transformers import SentenceTransformer\n",
        "from word2number import w2n\n",
        "import datefinder\n",
        "\n",
        "from sklearn.metrics.pairwise import cosine_similarity\n",
        "import numpy as np\n",
        "import pandas as pd\n",
        "import spacy\n",
        "from spacy import displacy\n",
        "from spacy.tokens import DocBin\n",
        "import json\n",
        "from datetime import datetime, timedelta, date, timezone\n",
        "from tqdm import tqdm\n",
        "import re\n",
        "\n",
        "import pytz #timezone\n",
        "\n",
        "\n",
        "\n",
        "from dateutil import parser # date"
      ]
    },
    {
      "cell_type": "markdown",
      "source": [
        "# load pre-trained model"
      ],
      "metadata": {
        "id": "GZYMkDG_d4Vx"
      }
    },
    {
      "cell_type": "code",
      "source": [
        "### connect google drive here\n",
        "# ...\n",
        "# ..."
      ],
      "metadata": {
        "id": "lg6qfAaqBR4S"
      },
      "execution_count": null,
      "outputs": []
    },
    {
      "cell_type": "code",
      "source": [],
      "metadata": {
        "id": "IYyzBl7-Bh1z"
      },
      "execution_count": null,
      "outputs": []
    },
    {
      "cell_type": "code",
      "source": [
        "# load 2 cutomized pre-trained model\n",
        "\n",
        "prefixed = '/content/drive/MyDrive/'\n",
        "\n",
        "path_name_entities = prefixed +'capstone_ner_output/model-best'\n",
        "#path_intents = prefixed + 'capstone_sentence_transformer_output/tuned_models/fine_tuned_model'\n",
        "path_intents = prefixed + 'capstone_sentence_transformer_output/tuned_models/fine_tuned_model_2_sentence_transformer'"
      ],
      "metadata": {
        "id": "9Q04qUmXBBJs"
      },
      "execution_count": 118,
      "outputs": []
    },
    {
      "cell_type": "code",
      "source": [
        "#### need load the pre-train model first, and save the `embedded_intents` as well\n",
        "\n",
        "# first model\n",
        "ner_output = spacy.load(path_name_entities)\n",
        "\n",
        "\n",
        "# second model\n",
        "bert_model = SentenceTransformer(path_intents)\n",
        "\n",
        "intents = [\n",
        "    \"create a new event\", #0 create event\n",
        "    \"delete a certain event\",#1 delete event\n",
        "    \"I want to retrieve event detail\", #2 get event detail\n",
        "    \"get free time information during certain time period\", #3 get free time\n",
        "    \"change the location of an event\",#4 update event (location)\n",
        "    \"change the summary of an event\",#5 update event (summary)\n",
        "\n",
        "    \"reschedule the time of an event\" #6  reschedule(start time, end time)\n",
        "    ]\n",
        "\n",
        "embedded_intents = bert_model.encode(intents)  # embedded_intents.shape  = (7, 768)\n",
        "\n",
        "\n",
        "\n"
      ],
      "metadata": {
        "id": "RFa8vvXFJqAx"
      },
      "execution_count": 119,
      "outputs": []
    },
    {
      "cell_type": "code",
      "source": [],
      "metadata": {
        "id": "17ycge9XJzz_"
      },
      "execution_count": null,
      "outputs": []
    },
    {
      "cell_type": "markdown",
      "source": [
        "# class time formatting"
      ],
      "metadata": {
        "id": "MvSMgszqd23j"
      }
    },
    {
      "cell_type": "code",
      "source": [
        "class TimeFormat:\n",
        "    def __init__(self, arg_dict, timezone_want = 'America/Toronto'):\n",
        "        self.arg_dict = arg_dict\n",
        "        self.timezone = timezone_want\n",
        "        self.fun_pool = [self.date_format,\n",
        "                         self.start_time_format,\n",
        "                         self.end_time_format,\n",
        "                         ]\n",
        "\n",
        "    def __extract_duration_components(self, duration_string):\n",
        "\n",
        "      # if type(duration_string) == 'list':\n",
        "      #   print('already good duration format, return')\n",
        "      #   return duration_string\n",
        "\n",
        "      ''' the hours and mins abbr can't be recognized'''\n",
        "    # Regular expression to find numbers and units in the input string\n",
        "      pattern = r'(\\d+|one|two|three|four|five|six|seven|eight|nine|ten)\\s*(day|hour|minute|hr|min)s?'\n",
        "      matches = re.findall(pattern, duration_string)\n",
        "\n",
        "      time_components = {\n",
        "          'day': 0,\n",
        "          'hour': 0,\n",
        "          'minute': 0,\n",
        "          'hr':0,\n",
        "          'min':0\n",
        "\n",
        "      }\n",
        "\n",
        "      for number, unit in matches: # number is the time , unit is day/hour/minute\n",
        "          number = w2n.word_to_num(number) if number.isalpha() else int(number)\n",
        "          unit = unit.lower()\n",
        "          if unit in time_components:\n",
        "            time_components[unit] = number\n",
        "\n",
        "      time_components['hour'] = max(time_components['hour'], time_components['hr'])\n",
        "      time_components['minute'] = max(time_components['minute'], time_components['min'])\n",
        "\n",
        "      return [time_components['day'], time_components['hour'], time_components['minute']]\n",
        "\n",
        "\n",
        "    def __get_current_date_in_timezone(self, timezone_name):\n",
        "    # Get the current date and time in UTC\n",
        "      utc_now = datetime.utcnow()\n",
        "\n",
        "    # Set the UTC timezone\n",
        "      utc_timezone = pytz.timezone('UTC')\n",
        "\n",
        "    # Convert the UTC time to the desired timezone\n",
        "      desired_timezone = pytz.timezone(timezone_name)\n",
        "      desired_date = utc_timezone.localize(utc_now).astimezone(desired_timezone).date()\n",
        "\n",
        "      return desired_date\n",
        "\n",
        "\n",
        "    def date_format(self):\n",
        "      '''... need to fixed typo issue'''\n",
        "      if 'DATE' in self.arg_dict.keys():\n",
        "\n",
        "        date_str = self.arg_dict['DATE']\n",
        "\n",
        "        dict_for_dates = {'today': 0,\n",
        "                          'tomorrow':1,\n",
        "                          'day after tomorrow': 2,\n",
        "                          'next week': 7,\n",
        "                          'next month':30}\n",
        "\n",
        "        #dict_for_dates_list = list(dict_for_dates.keys())\n",
        "        for dates_keys in dict_for_dates.keys():\n",
        "          if dates_keys in date_str:\n",
        "            print('date keyword matches!')\n",
        "            days_number = dict_for_dates.get(dates_keys)\n",
        "\n",
        "            date_get =  self.__get_current_date_in_timezone(self.timezone) #today's date\n",
        "            date_get = date_get + timedelta(days = days_number) # add days based on the input\n",
        "            self.arg_dict['DATE'] = date_get.strftime(\"%Y-%m-%d\")\n",
        "            print('-------DATE time finish-----')\n",
        "            return self.arg_dict # early return if keywords triggered\n",
        "\n",
        "\n",
        "\n",
        "\n",
        "        # if no mis-spelling: parse it\n",
        "        # if no date extracted, raise error\n",
        "        date_get = parser.parse(date_str)\n",
        "        self.arg_dict['DATE'] = date_get.strftime(\"%Y-%m-%d\")\n",
        "\n",
        "      else:\n",
        "        #print('no \"DATE\" key, get todays date')\n",
        "        date_get = self.__get_current_date_in_timezone(self.timezone)\n",
        "\n",
        "      self.arg_dict['DATE'] = date_get.strftime(\"%Y-%m-%d\")\n",
        "      return self.arg_dict\n",
        "\n",
        "\n",
        "    def start_time_format(self):\n",
        "\n",
        "        if 'START_TIME' not in self.arg_dict.keys(): # 'START_TIME' is not in the dict\n",
        "          start_time = \"00:00:00\"\n",
        "          self.arg_dict['START_TIME'] = start_time\n",
        "          return self.arg_dict\n",
        "\n",
        "        if 'START_TIME' in self.arg_dict.keys():\n",
        "          start_time_str = self.arg_dict['START_TIME']\n",
        "\n",
        "          matches_start = list(datefinder.find_dates(start_time_str))\n",
        "\n",
        "          while len(matches_start) == 0:\n",
        "            print('Your start time is {}, need another format'.format(start_time_str))\n",
        "            start_time_str = input(\"please enter the start time in the suggested format HH:MM\")\n",
        "            matches_start = list(datefinder.find_dates(start_time_str))\n",
        "\n",
        "\n",
        "          # after the while loop, the len(list(matches_start))  must != 0:\n",
        "          for match_start_first in matches_start: # select first time extracted\n",
        "            # self.arg_dict['START_TIME'] = 'hello'\n",
        "\n",
        "\n",
        "            #print('match time fist',match_start_first)\n",
        "            start_time = match_start_first.strftime(\"%H:%M:%S\")\n",
        "\n",
        "            self.arg_dict['START_TIME'] = start_time\n",
        "            break\n",
        "\n",
        "\n",
        "\n",
        "\n",
        "          return self.arg_dict\n",
        "\n",
        "\n",
        "    def end_time_format(self):\n",
        "      #end_time = '2023-07-29 01:00:00'\n",
        "      if 'END_TIME' in self.arg_dict.keys(): #end time given\n",
        "\n",
        "        end_time_str = self.arg_dict['END_TIME']\n",
        "        matches_end   = list(datefinder.find_dates(end_time_str))\n",
        "\n",
        "\n",
        "      else: #no end time given\n",
        "\n",
        "        matches_end = []\n",
        "\n",
        "\n",
        "      while (len(matches_end) == 0):\n",
        "          #print('no end time matches, need to use duration to calculate the end time automatically')\n",
        "          #print('variable need: \"START_TIME\", \"DURATION\", check availablity ')\n",
        "\n",
        "          if 'START_TIME' in self.arg_dict.keys(): # by calculating\n",
        "\n",
        "            start_time_str = self.arg_dict['START_TIME']\n",
        "\n",
        "\n",
        "            # set duration\n",
        "            if 'DURATION' in self.arg_dict.keys():\n",
        "              duration_str = self.arg_dict['DURATION']\n",
        "              duration = self.__extract_duration_components(duration_str) #return a list [day, hour, minute]\n",
        "\n",
        "            else: #set the default duration = 0 day 1 hour 0 minutes\n",
        "              duration = [0,1,0]\n",
        "\n",
        "            # convert string-start-time to 'datetime type' with current date (strptime not working)\n",
        "            start_temp = list(datefinder.find_dates(start_time_str))\n",
        "            matches_end = start_temp #no meaning, just break the while loop\n",
        "            for start_time in start_temp:\n",
        "              break\n",
        "\n",
        "            #end_time is already in the right format\n",
        "            end_time = start_time + timedelta(days=duration[0], hours=duration[1], minutes=duration[2])\n",
        "            end_time = end_time.strftime(\"%H:%M:%S\")\n",
        "\n",
        "            #print('end time is calcuate by duration', end_time)\n",
        "\n",
        "            self.arg_dict['END_TIME'] = end_time\n",
        "            self.arg_dict['DURATION'] = duration\n",
        "\n",
        "            return self.arg_dict #already return, dic return before else\n",
        "\n",
        "          else: #no start time detected, need by manual input\n",
        "            print('variable need: \"START_TIME\", \"DURATION\", are  unavailable, need manual input')\n",
        "            end_time_str = input(\"please enter the end time in the suggested format HH:MM\")\n",
        "            matches_end = list(datefinder.find_dates(end_time_str))\n",
        "            matches_end_else = matches_end\n",
        "\n",
        "        # after while loop, make sure there is some time variable in the matches_end\n",
        "        ## assign end_time from manual input\n",
        "      for end_time_else in matches_end:#_else: # select first time extracted\n",
        "            end_time = end_time_else.strftime(\"%H:%M:%S\")\n",
        "            break\n",
        "\n",
        "\n",
        "      self.arg_dict['END_TIME'] = end_time\n",
        "      print('-------END time finish-----')\n",
        "      return self.arg_dict\n",
        "\n",
        "\n",
        "    def format_all(self):\n",
        "      check_flag = False\n",
        "      check_flag = ('START_TIME'  not in self.arg_dict.keys()) & ('END_TIME'  not in self.arg_dict.keys()) & ('DATE'  not in self.arg_dict.keys())\n",
        "      if check_flag: # nothing in the arg_dict, flag = True\n",
        "\n",
        "        print('Not enough information to make changes on calendar, please re-enter your request.')\n",
        "        return self.arg_dict\n",
        "\n",
        "\n",
        "      for it in self.fun_pool:\n",
        "\n",
        "        self.arg_dict = it()\n",
        "\n",
        "      return self.arg_dict\n",
        "\n",
        "\n",
        "\n",
        "  # self.fun_pool = [self.date_format,\n",
        "  #                        self.start_time_format,\n",
        "  #                        self.end_time_format,\n",
        "  #                        ]\n",
        "\n",
        "\t# if 'DATE' in arg_dict.keys:\n",
        "\t# \tdate_str = arg_dict['DATE']\n",
        "  #   \tmatch_date = list(datefinder.find_dates(date_str)) #edge case: date = tomorrow\n",
        "\n",
        "\t# \tif len(match_date) != 0:\n",
        "  #     \t\tdate = match_date[0]\n",
        "  #     \telse:\n",
        "  #     \t\tprint(' no matched date found')\n",
        "  #     \t\tdate = input(\"please enter the date in the format YYYY-MM-DD\") # 'tomorrow' not match any, ask user again\n",
        "  #     \t\tdate = date.strftime(\"%Y-%m-%dT\")\n",
        "\n",
        "  #     \targ_dict['DATE'] = date\n",
        "\n",
        "  #   return arg_dict\n",
        "  #       return something_else\n",
        "\n"
      ],
      "metadata": {
        "id": "pmQhG7WHd8MM"
      },
      "execution_count": 101,
      "outputs": []
    },
    {
      "cell_type": "markdown",
      "source": [
        "# input recog"
      ],
      "metadata": {
        "id": "iO9IsKnyd8AJ"
      }
    },
    {
      "cell_type": "code",
      "source": [
        "class InputRecognition:\n",
        "  def __init__(self, user_input_sentence, embedded_intents_given):\n",
        "\n",
        "    self.embedded_intents_given = embedded_intents_given\n",
        "    self.user_input_sentence = user_input_sentence\n",
        "    self.function_name = ''\n",
        "    self.arguments_dict = {}\n",
        "    self.upper_required_arguments_list = []\n",
        "    self.idx = 99\n",
        "\n",
        "\n",
        "  def find_intent_index(self):\n",
        "    max = 0.1\n",
        "\n",
        "    while max < 0.4:\n",
        "      #print(max)\n",
        "      user_input_embed = bert_model.encode(self.user_input_sentence)\n",
        "      #vector = user_input_embed\n",
        "\n",
        "      cosine_score = cosine_similarity([user_input_embed], self.embedded_intents_given)\n",
        "      max = np.max(cosine_score)\n",
        "      #print(max, 'max score')\n",
        "      #print(cosine_score, 'cosine score')\n",
        "      if max > 0.4:\n",
        "        break\n",
        "\n",
        "      additional_input = input('can not find matching intents, please be more specific ')\n",
        "      self.user_input_sentence = self.user_input_sentence + additional_input #add two sentences together\n",
        "\n",
        "    self.idx = np.argmax(cosine_score, axis = 1)[0]\n",
        "    return self.idx\n",
        "\n",
        "\n",
        "  def match_intent_to_function(self): #return function name\n",
        "      intents = {\n",
        "          0: 'create_event',\n",
        "          1: 'delete_event',\n",
        "          2: 'get_calendar_events',\n",
        "          3: 'get_free_busy_info',\n",
        "          4: 'update_event',#4 update event (location)\n",
        "          5: 'update_event',#5 update event (summary)\n",
        "          6: 'reschedule_event',\n",
        "          999: 'NA - no intent found - need more information'\n",
        "      }\n",
        "      self.function_name = intents.get(self.idx)\n",
        "\n",
        "\n",
        "      return self.function_name\n",
        "\n",
        "\n",
        "\n",
        "  def get_arguments_dict(self): #, all_tag_list_name, ner_dict_raw):\n",
        "    ner_raw = ner_output(self.user_input_sentence) #prep step #tagged NER # doc_1\n",
        "    '''tagged sentence with customized NER, and extract nessary arguments (based on the function called) frrom tagging '''\n",
        "\n",
        "    for ent in ner_raw.ents:\n",
        "    #if ent.label_ in (arguments_list):\n",
        "      if ent.label_ not in self.arguments_dict.keys(): # will keep the first key\n",
        "        self.arguments_dict.update({ent.label_: ent.text})  # if delete 'if' statement, will overwrite and keep the last\n",
        "\n",
        "    #print('after updating the empty dict, it has ',self.arguments_dict)\n",
        "\n",
        "    #arguments_dict['DATE'] is 'Landscapes LLC'\n",
        "    return self.arguments_dict\n",
        "\n",
        "\n",
        "  def required_arguments(self):\n",
        "      required_args_mapping = {\n",
        "          'create_event': ['summary', 'start_time', 'end_time'],\n",
        "          'delete_event': ['event_id'],\n",
        "          'get_calendar_events': ['date'],\n",
        "          'get_free_busy_info': ['start_time', 'end_time'],\n",
        "          'update_event': ['event_id'],\n",
        "          'reschedule_event': ['event_id', 'start_time', 'end_time']\n",
        "      }\n",
        "\n",
        "      required_arguments_list = required_args_mapping.get(self.function_name, [])\n",
        "      self.upper_required_arguments_list = [x.upper() for x in required_arguments_list]\n",
        "      #print(self.upper_required_arguments_list)\n",
        "\n",
        "      return self.upper_required_arguments_list\n",
        "\n",
        "\n",
        "\n",
        "  def run_all(self):\n",
        "    self.idx = self.find_intent_index()\n",
        "    self.function_name = self.match_intent_to_function()\n",
        "    self.arguments_dict = self.get_arguments_dict()\n",
        "    self.upper_required_arguments_list = self.required_arguments()\n",
        "\n",
        "    return self.function_name, self.arguments_dict, self.upper_required_arguments_list\n",
        "\n",
        "\n",
        "  def check_info_requirement(self):#function_name, arguments_list_need, arg_dict_true):\n",
        "    response_arguments = ''\n",
        "    missing_key = []\n",
        "    flag_add_new_info = False # GLOBAL\n",
        "\n",
        "    #check if find everything required: (only location is optional)\n",
        "    #response_function = 'You want to {}. '.format(self.function_name)\n",
        "\n",
        "    for key in self.upper_required_arguments_list:\n",
        "\n",
        "      if (key in self.arguments_dict.keys()) == False:\n",
        "        missing_key.append(key)\n",
        "        #value_in_key = self.arguments_dict[key] #maybe empty\n",
        "        #response_arguments += 'the {} = {} '.format(key, value_in_key)\n",
        "\n",
        "      # else: # needed key not in true keys\n",
        "      # #if is NOT optional key (required key -> based on function)\n",
        "      #   if key in required_arguments(self.function_name): # call the function, return a list ## need modified\n",
        "      #     missing_key.append(key)\n",
        "\n",
        "    if len(missing_key) == 0: #all required\n",
        "      #flag_add_new_info = False\n",
        "      #response = response_function + response_arguments + \" All requirments are satisfied.\"\n",
        "      print('All required arguments are satisfied.')\n",
        "    else:\n",
        "      #flag_add_new_info = True\n",
        "      response_need_more_info = ' We need more information on {}, please add them.'.format(missing_key)\n",
        "      print(response_need_more_info)\n",
        "      #response = response_function + response_need_more_info\n",
        "\n",
        "\n",
        "    return missing_key # response, flag_add_new_info"
      ],
      "metadata": {
        "id": "pjD8dtTA7WGC"
      },
      "execution_count": 25,
      "outputs": []
    },
    {
      "cell_type": "markdown",
      "source": [
        "# TEST IT"
      ],
      "metadata": {
        "id": "M7IgrKMBeTW8"
      }
    },
    {
      "cell_type": "markdown",
      "source": [
        "- can understand DATE string which includes 'tomorrow, next week, ...'\n",
        "\n",
        "- can't understand random DATE string\n",
        "- can't understand non-time type __TIME"
      ],
      "metadata": {
        "id": "4_jnV3S9OzDL"
      }
    },
    {
      "cell_type": "markdown",
      "source": [
        "## TESTING templete"
      ],
      "metadata": {
        "id": "5cIm_4p4TewY"
      }
    },
    {
      "cell_type": "code",
      "source": [
        "# ** if the input sentence is too long, it can not recgonize the intent. So keep the input short\n",
        "test_user_input = 'i want to create a new meeting, tomorrow at 3pm.'\n",
        "\n",
        "#embedded_intents is stored in the load pre-trained model part\n",
        "# the class is for 1. know what function to call 2. extract keywords from the user input\n",
        "test_user = InputRecognition(test_user_input, embedded_intents)\n",
        "\n",
        "\n",
        "# use test_user.run_all() to get the function_name (string), argument_dictionary (dict), requirment_list (list)\n",
        "# requirment_list (list)  can be ignored if not using it.\n",
        "#      It is a list that tell the user which arguments (keywords) are needed for google calendar api to called the function\n",
        "function_name_test, argument_dictionary_test, requirment_list_test = test_user.run_all()\n",
        "\n",
        "\n",
        "print('the function is {}. It requires these keywords {}.'.format(function_name_test, requirment_list_test))\n",
        "print('From the input sentence, we can get these raw keywords',argument_dictionary_test)\n",
        "print('\\n')\n",
        "\n",
        "\n",
        "# the class is for reformatting some of the values in argument_dictionary (dict)\n",
        "\n",
        "test_user_cleaned = TimeFormat(argument_dictionary_test, 'America/Toronto')\n",
        "\n",
        "\n",
        "\n",
        "# after cleaning, the values in the dict are ready to use\n",
        "argument_dictionary_test_cleaned = test_user_cleaned.format_all()\n",
        "\n",
        "\n",
        "\n",
        "print('the final output is ')\n",
        "print(argument_dictionary_test_cleaned) # check what it looks like\n",
        "\n",
        "print('\\n')\n",
        "\n",
        "test_user.check_info_requirement() # final check if everything needed is here\n"
      ],
      "metadata": {
        "colab": {
          "base_uri": "https://localhost:8080/"
        },
        "id": "LOYKZvMDThUm",
        "outputId": "bcbaacf5-448a-48c1-982c-666599d0c9bd"
      },
      "execution_count": 124,
      "outputs": [
        {
          "output_type": "stream",
          "name": "stdout",
          "text": [
            "the function is create_event. It requires these keywords ['SUMMARY', 'START_TIME', 'END_TIME'].\n",
            "From the input sentence, we can get these raw keywords {'SUMMARY': 'a new meeting, tomorrow', 'START_TIME': '3pm'}\n",
            "\n",
            "\n",
            "the final output is \n",
            "{'SUMMARY': 'a new meeting, tomorrow', 'START_TIME': '15:00:00', 'DATE': '2023-08-01', 'END_TIME': '16:00:00', 'DURATION': [0, 1, 0]}\n",
            "\n",
            "\n",
            "All required arguments are satisfied.\n"
          ]
        },
        {
          "output_type": "execute_result",
          "data": {
            "text/plain": [
              "[]"
            ]
          },
          "metadata": {},
          "execution_count": 124
        }
      ]
    },
    {
      "cell_type": "markdown",
      "source": [
        "## some testing samples for reference"
      ],
      "metadata": {
        "id": "B1ZREwOWTbTm"
      }
    },
    {
      "cell_type": "code",
      "source": [
        "user1_raw = InputRecognition('create a new event. Date is tomorrow at 9pm and the locaton is at Metro', embedded_intents)\n",
        "\n",
        "# if the input sentence is too long, it can not recgonize the intent\n",
        "func, arg, req_list = user1_raw.run_all()\n",
        "\n",
        "\n",
        "print('the function is {}. It requires these keywords {}.'.format(func, req_list))\n",
        "print('From the input sentence, we can get these raw keywords',arg)\n",
        "print('\\n')\n",
        "user1_cleaned = TimeFormat(arg, 'America/Toronto')\n",
        "arguments_dict_cleaned = user1_cleaned.format_all()\n",
        "user1_raw.check_info_requirement() # check if everything needed is here\n",
        "\n",
        "print('the final output is ')\n",
        "arguments_dict_cleaned"
      ],
      "metadata": {
        "colab": {
          "base_uri": "https://localhost:8080/"
        },
        "id": "nxZlfAZz7WQl",
        "outputId": "0f22cf9f-d235-4952-ca58-c70f84ec89c9"
      },
      "execution_count": 66,
      "outputs": [
        {
          "output_type": "stream",
          "name": "stdout",
          "text": [
            "the function is create_event. It requires these keywords ['SUMMARY', 'START_TIME', 'END_TIME'].\n",
            "From the input sentence, we can get these raw keywords {'START_TIME': '9pm', 'END_TIME': 'Metro'}\n",
            "\n",
            "\n",
            " We need more information on ['SUMMARY'], please add them.\n",
            "the final output is \n"
          ]
        },
        {
          "output_type": "execute_result",
          "data": {
            "text/plain": [
              "{'START_TIME': '21:00:00',\n",
              " 'END_TIME': '22:00:00',\n",
              " 'DATE': '2023-08-01',\n",
              " 'DURATION': [0, 1, 0]}"
            ]
          },
          "metadata": {},
          "execution_count": 66
        }
      ]
    },
    {
      "cell_type": "code",
      "source": [
        "input2 = \"reschedule todays 10pm event.\"\n",
        "\n",
        "user2_raw = InputRecognition(input2, embedded_intents)\n",
        "\n",
        "# if the input sentence is too long, it can not recgonize the intent\n",
        "func, arg, req_list = user2_raw.run_all()\n",
        "\n",
        "print('the function is {}. It requires these keywords {}.'.format(func, req_list))\n",
        "print('From the input sentence, we can get these raw keywords',arg)\n",
        "print('\\n')\n",
        "user_cleaned = TimeFormat(arg)\n",
        "arguments_dict_cleaned = user_cleaned.format_all()\n",
        "\n",
        "user2_raw.check_info_requirement() # check if everything needed is here\n",
        "\n",
        "print('the final output is ')\n",
        "arguments_dict_cleaned"
      ],
      "metadata": {
        "colab": {
          "base_uri": "https://localhost:8080/"
        },
        "id": "PEVTy2VEtIZ7",
        "outputId": "3365941a-25c4-4a61-80c9-3ddf08613236"
      },
      "execution_count": 102,
      "outputs": [
        {
          "output_type": "stream",
          "name": "stdout",
          "text": [
            "the function is reschedule_event. It requires these keywords ['EVENT_ID', 'START_TIME', 'END_TIME'].\n",
            "From the input sentence, we can get these raw keywords {'START_TIME': '10pm'}\n",
            "\n",
            "\n",
            " We need more information on ['EVENT_ID'], please add them.\n",
            "the final output is \n"
          ]
        },
        {
          "output_type": "execute_result",
          "data": {
            "text/plain": [
              "{'START_TIME': '22:00:00',\n",
              " 'DATE': '2023-08-01',\n",
              " 'END_TIME': '23:00:00',\n",
              " 'DURATION': [0, 1, 0]}"
            ]
          },
          "metadata": {},
          "execution_count": 102
        }
      ]
    },
    {
      "cell_type": "code",
      "source": [
        "# only set the TimeFormat here\n",
        "\n",
        "arg = {'START_TIME': '11am',\n",
        "       #'END_TIME': '',\n",
        "       'DATE': '2023-08-01',\n",
        "       'DURATION': 'three mins'  # 3 mins, three minutes ,...\n",
        "       }\n",
        "\n",
        "\n",
        "print('From the input sentence, we can get these raw keywords',arg)\n",
        "print('\\n')\n",
        "user3_cleaned = TimeFormat(arg, 'America/Toronto')\n",
        "arguments_dict_cleaned = user3_cleaned.format_all()\n",
        "\n",
        "print('the final output is ')\n",
        "arguments_dict_cleaned"
      ],
      "metadata": {
        "id": "zWX7gY7BeaKC",
        "colab": {
          "base_uri": "https://localhost:8080/"
        },
        "outputId": "ff28b2de-4e8a-4913-bf9d-95af998f9844"
      },
      "execution_count": 65,
      "outputs": [
        {
          "output_type": "stream",
          "name": "stdout",
          "text": [
            "From the input sentence, we can get these raw keywords {'START_TIME': '11am', 'DATE': '2023-08-01', 'DURATION': 'three mins'}\n",
            "\n",
            "\n",
            "the final output is \n"
          ]
        },
        {
          "output_type": "execute_result",
          "data": {
            "text/plain": [
              "{'START_TIME': '11:00:00',\n",
              " 'DATE': '2023-08-01',\n",
              " 'DURATION': [0, 0, 3],\n",
              " 'END_TIME': '11:03:00'}"
            ]
          },
          "metadata": {},
          "execution_count": 65
        }
      ]
    },
    {
      "cell_type": "code",
      "source": [],
      "metadata": {
        "id": "N8DYzVloi7Rl"
      },
      "execution_count": null,
      "outputs": []
    }
  ]
}