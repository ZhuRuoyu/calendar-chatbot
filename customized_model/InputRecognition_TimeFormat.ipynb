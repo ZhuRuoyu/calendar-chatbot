{
  "nbformat": 4,
  "nbformat_minor": 0,
  "metadata": {
    "colab": {
      "provenance": [],
      "collapsed_sections": [
        "MvSMgszqd23j",
        "iO9IsKnyd8AJ"
      ],
      "mount_file_id": "1zM6LwCw7TTqw0N_VLGNK9dirZUOXQ7Od",
      "authorship_tag": "ABX9TyM8vGtbTCeeFOnL7QJa9i/R",
      "include_colab_link": true
    },
    "kernelspec": {
      "name": "python3",
      "display_name": "Python 3"
    },
    "language_info": {
      "name": "python"
    }
  },
  "cells": [
    {
      "cell_type": "markdown",
      "metadata": {
        "id": "view-in-github",
        "colab_type": "text"
      },
      "source": [
        "<a href=\"https://colab.research.google.com/github/ZhuRuoyu/calendar-chatbot/blob/main/customized_model/InputRecognition_TimeFormat.ipynb\" target=\"_parent\"><img src=\"https://colab.research.google.com/assets/colab-badge.svg\" alt=\"Open In Colab\"/></a>"
      ]
    },
    {
      "cell_type": "code",
      "execution_count": 109,
      "metadata": {
        "colab": {
          "base_uri": "https://localhost:8080/"
        },
        "id": "5fk7xWkdtH7Z",
        "outputId": "a89d9261-45c8-4f0a-9428-8a288d66a034"
      },
      "outputs": [
        {
          "output_type": "stream",
          "name": "stdout",
          "text": [
            "Requirement already satisfied: word2number in /usr/local/lib/python3.10/dist-packages (1.1)\n"
          ]
        }
      ],
      "source": [
        "#library\n",
        "!pip install sentence_transformers\n",
        "\n",
        "from sentence_transformers import SentenceTransformer\n",
        "from sklearn.metrics.pairwise import cosine_similarity\n",
        "import numpy as np\n",
        "import pandas as pd\n",
        "import spacy\n",
        "from spacy import displacy\n",
        "from spacy.tokens import DocBin\n",
        "import json\n",
        "from datetime import datetime, timedelta, date, timezone\n",
        "from tqdm import tqdm\n",
        "import re\n",
        "\n",
        "import pytz #timezone\n",
        "\n",
        "!pip install datefinder\n",
        "import datefinder\n",
        "\n",
        "\n",
        "!pip install word2number\n",
        "from word2number import w2n\n",
        "\n",
        "from dateutil import parser # date"
      ]
    },
    {
      "cell_type": "markdown",
      "source": [
        "# load pre-trained model"
      ],
      "metadata": {
        "id": "GZYMkDG_d4Vx"
      }
    },
    {
      "cell_type": "code",
      "source": [
        "#### need load the pre-train model outside the class and store somewhere!!\n",
        "intents = [\n",
        "    \"create a new event\", #0\n",
        "    \"delete a certain event\",#1\n",
        "    \"retrieve event detail of a certain date\", #2 -> TAG: retrieving event (intent) today (entity arguments)\n",
        "    \"get free time information during certain time period\", #3\n",
        "    \"change the location or summary of an event\",#4\n",
        "    \"reschedule the time of an event\" #5\n",
        "    ]\n",
        "\n",
        "bert_model = SentenceTransformer('bert-base-nli-mean-tokens')\n",
        "embedded_intents = bert_model.encode(intents)  # embedded_intents.shape  = (6, 768)\n",
        "\n",
        "ner_output = spacy.load('drive/MyDrive/capstone_ner_output' + '/model-best')\n",
        "\n"
      ],
      "metadata": {
        "id": "RFa8vvXFJqAx"
      },
      "execution_count": 21,
      "outputs": []
    },
    {
      "cell_type": "code",
      "source": [],
      "metadata": {
        "id": "17ycge9XJzz_"
      },
      "execution_count": null,
      "outputs": []
    },
    {
      "cell_type": "markdown",
      "source": [
        "# class time formatting"
      ],
      "metadata": {
        "id": "MvSMgszqd23j"
      }
    },
    {
      "cell_type": "code",
      "source": [
        "class TimeFormat:\n",
        "    def __init__(self, arg_dict, timezone_want = 'America/Toronto'):\n",
        "        self.arg_dict = arg_dict\n",
        "        self.timezone = timezone_want\n",
        "        self.fun_pool = [self.date_format,\n",
        "                         self.start_time_format,\n",
        "                         self.end_time_format,\n",
        "                         ]\n",
        "\n",
        "    def __extract_duration_components(self, duration_string):\n",
        "\n",
        "      ''' the hours and mins abbr can't be recognized'''\n",
        "    # Regular expression to find numbers and units in the input string\n",
        "      pattern = r'(\\d+|one|two|three|four|five|six|seven|eight|nine|ten)\\s*(day|hour|minute)s?'\n",
        "      matches = re.findall(pattern, duration_string)\n",
        "\n",
        "      time_components = {\n",
        "          'day': 0,\n",
        "          'hour': 0,\n",
        "          'minute': 0\n",
        "      }\n",
        "\n",
        "      for number, unit in matches:\n",
        "          number = w2n.word_to_num(number) if number.isalpha() else int(number)\n",
        "          unit = unit.lower()\n",
        "          time_components[unit] = number\n",
        "\n",
        "      return [time_components['day'], time_components['hour'], time_components['minute']]\n",
        "\n",
        "\n",
        "    def __get_current_date_in_timezone(self, timezone_name):\n",
        "    # Get the current date and time in UTC\n",
        "      utc_now = datetime.utcnow()\n",
        "\n",
        "    # Set the UTC timezone\n",
        "      utc_timezone = pytz.timezone('UTC')\n",
        "\n",
        "    # Convert the UTC time to the desired timezone\n",
        "      desired_timezone = pytz.timezone(timezone_name)\n",
        "      desired_date = utc_timezone.localize(utc_now).astimezone(desired_timezone).date()\n",
        "\n",
        "      return desired_date\n",
        "\n",
        "\n",
        "    def date_format(self):\n",
        "      '''... need to fixed typo issue'''\n",
        "      if 'DATE' in self.arg_dict.keys():\n",
        "\n",
        "        date_str = self.arg_dict['DATE']\n",
        "\n",
        "\n",
        "        # if no mis-spelling: parse it\n",
        "        # if no date extracted, raise error\n",
        "        date_get = parser.parse(date_str)\n",
        "        self.arg_dict['DATE'] = date_get.strftime(\"%Y-%m-%d\")\n",
        "\n",
        "      else:\n",
        "        #print('no \"DATE\" key, get todays date')\n",
        "        date_get = self.__get_current_date_in_timezone(self.timezone)\n",
        "\n",
        "      self.arg_dict['DATE'] = date_get.strftime(\"%Y-%m-%d\")\n",
        "      return self.arg_dict\n",
        "\n",
        "\n",
        "    def start_time_format(self):\n",
        "\n",
        "        if 'START_TIME' in self.arg_dict.keys():\n",
        "          start_time_str = self.arg_dict['START_TIME']\n",
        "\n",
        "          matches_start = list(datefinder.find_dates(start_time_str))\n",
        "\n",
        "          while len(matches_start) == 0:\n",
        "            print('Your start time is {}, need another format'.format(start_time_str))\n",
        "            start_time_str = input(\"please enter the start time in the suggested format HH:MM\")\n",
        "            matches_start = list(datefinder.find_dates(start_time_str))\n",
        "\n",
        "\n",
        "          # after the while loop, the len(list(matches_start))  must != 0:\n",
        "          for match_start_first in matches_start: # select first time extracted\n",
        "            # self.arg_dict['START_TIME'] = 'hello'\n",
        "\n",
        "\n",
        "            #print('match time fist',match_start_first)\n",
        "            start_time = match_start_first.strftime(\"%H:%M:%S\")\n",
        "\n",
        "            self.arg_dict['START_TIME'] = start_time\n",
        "            break\n",
        "\n",
        "          return self.arg_dict\n",
        "\n",
        "    def end_time_format(self):\n",
        "      #end_time = '2023-07-29 01:00:00'\n",
        "      if 'END_TIME' in self.arg_dict.keys(): #end time given\n",
        "\n",
        "        end_time_str = self.arg_dict['END_TIME']\n",
        "        matches_end   = list(datefinder.find_dates(end_time_str))\n",
        "\n",
        "\n",
        "      else: #no end time given\n",
        "\n",
        "        matches_end = []\n",
        "\n",
        "\n",
        "      while (len(matches_end) == 0):\n",
        "          #print('no end time matches, need to use duration to calculate the end time automatically')\n",
        "          #print('variable need: \"START_TIME\", \"DURATION\", check availablity ')\n",
        "\n",
        "          if 'START_TIME' in self.arg_dict.keys(): # by calculating\n",
        "\n",
        "            start_time_str = self.arg_dict['START_TIME']\n",
        "\n",
        "\n",
        "            # set duration\n",
        "            if 'DURATION' in self.arg_dict.keys():\n",
        "              duration_str = self.arg_dict['DURATION']\n",
        "              duration = self.__extract_duration_components(duration_str) #return a list [day, hour, minute]\n",
        "\n",
        "            else: #set the default duration = 0 day 1 hour 0 minutes\n",
        "              duration = [0,1,0]\n",
        "\n",
        "            # convert string-start-time to 'datetime type' with current date (strptime not working)\n",
        "            start_temp = list(datefinder.find_dates(start_time_str))\n",
        "            matches_end = start_temp #no meaning, just break the while loop\n",
        "            for start_time in start_temp:\n",
        "              break\n",
        "\n",
        "            #end_time is already in the right format\n",
        "            end_time = start_time + timedelta(days=duration[0], hours=duration[1], minutes=duration[2])\n",
        "            end_time = end_time.strftime(\"%H:%M:%S\")\n",
        "\n",
        "            #print('end time is calcuate by duration', end_time)\n",
        "\n",
        "            self.arg_dict['END_TIME'] = end_time\n",
        "            self.arg_dict['DURATION'] = duration\n",
        "\n",
        "            return self.arg_dict #already return, dic return before else\n",
        "\n",
        "          else: #no start time detected, need by manual input\n",
        "            print('variable need: \"START_TIME\", \"DURATION\", are  unavailable, need manual input')\n",
        "            end_time_str = input(\"please enter the end time in the suggested format HH:MM\")\n",
        "            matches_end = list(datefinder.find_dates(end_time_str))\n",
        "            matches_end_else = matches_end\n",
        "\n",
        "        # after while loop, make sure there is some time variable in the matches_end\n",
        "        ## assign end_time from manual input\n",
        "      for end_time_else in matches_end:#_else: # select first time extracted\n",
        "            end_time = end_time_else.strftime(\"%H:%M:%S\")\n",
        "            break\n",
        "\n",
        "\n",
        "      self.arg_dict['END_TIME'] = end_time\n",
        "\n",
        "      return self.arg_dict\n",
        "\n",
        "\n",
        "    def format_all(self):\n",
        "      for it in self.fun_pool:\n",
        "\n",
        "        self.arg_dict = it()\n",
        "\n",
        "      return self.arg_dict\n",
        "\n",
        "\n",
        "\n",
        "\n",
        "\t# if 'DATE' in arg_dict.keys:\n",
        "\t# \tdate_str = arg_dict['DATE']\n",
        "  #   \tmatch_date = list(datefinder.find_dates(date_str)) #edge case: date = tomorrow\n",
        "\n",
        "\t# \tif len(match_date) != 0:\n",
        "  #     \t\tdate = match_date[0]\n",
        "  #     \telse:\n",
        "  #     \t\tprint(' no matched date found')\n",
        "  #     \t\tdate = input(\"please enter the date in the format YYYY-MM-DD\") # 'tomorrow' not match any, ask user again\n",
        "  #     \t\tdate = date.strftime(\"%Y-%m-%dT\")\n",
        "\n",
        "  #     \targ_dict['DATE'] = date\n",
        "\n",
        "  #   return arg_dict\n",
        "  #       return something_else\n",
        "\n"
      ],
      "metadata": {
        "id": "pmQhG7WHd8MM"
      },
      "execution_count": 118,
      "outputs": []
    },
    {
      "cell_type": "markdown",
      "source": [
        "# input recog"
      ],
      "metadata": {
        "id": "iO9IsKnyd8AJ"
      }
    },
    {
      "cell_type": "code",
      "source": [
        "class InputRecognition:\n",
        "  def __init__(self, user_input_sentence, embedded_intents_given):\n",
        "\n",
        "    self.embedded_intents_given = embedded_intents_given\n",
        "    self.user_input_sentence = user_input_sentence\n",
        "    self.function_name = ''\n",
        "    self.arguments_dict = {}\n",
        "    self.upper_required_arguments_list = []\n",
        "    self.idx = 99\n",
        "\n",
        "\n",
        "  def find_intent_index(self):\n",
        "    max = 0.1\n",
        "\n",
        "    while max < 0.4:\n",
        "      #print(max)\n",
        "      user_input_embed = bert_model.encode(self.user_input_sentence)\n",
        "      #vector = user_input_embed\n",
        "\n",
        "      cosine_score = cosine_similarity([user_input_embed], self.embedded_intents_given)\n",
        "      max = np.max(cosine_score)\n",
        "      #print(max, 'max score')\n",
        "      #print(cosine_score, 'cosine score')\n",
        "      if max > 0.4:\n",
        "        break\n",
        "\n",
        "      additional_input = input('can not find matching intents, please be more specific')\n",
        "      self.user_input_sentence = self.user_input_sentence + additional_input #add two sentences together\n",
        "\n",
        "    self.idx = np.argmax(cosine_score, axis = 1)[0]\n",
        "    return self.idx\n",
        "\n",
        "\n",
        "  def match_intent_to_function(self): #return function name\n",
        "      intents = {\n",
        "          0: 'create_event',\n",
        "          1: 'delete_event',\n",
        "          2: 'get_calendar_events',\n",
        "          3: 'get_free_busy_info',\n",
        "          4: 'update_event',\n",
        "          5: 'reschedule_event',\n",
        "          999: 'NA - no intent found - need more information'\n",
        "      }\n",
        "      self.function_name = intents.get(self.idx)\n",
        "\n",
        "\n",
        "      return self.function_name\n",
        "\n",
        "\n",
        "\n",
        "  def get_arguments_dict(self): #, all_tag_list_name, ner_dict_raw):\n",
        "    ner_raw = ner_output(self.user_input_sentence) #prep step #tagged NER # doc_1\n",
        "    '''tagged sentence with customized NER, and extract nessary arguments (based on the function called) frrom tagging '''\n",
        "\n",
        "    for ent in ner_raw.ents:\n",
        "    #if ent.label_ in (arguments_list):\n",
        "      if ent.label_ not in self.arguments_dict.keys(): # will keep the first key\n",
        "        self.arguments_dict.update({ent.label_: ent.text})  # if delete 'if' statement, will overwrite and keep the last\n",
        "\n",
        "    #print('after updating the empty dict, it has ',self.arguments_dict)\n",
        "\n",
        "    #arguments_dict['DATE'] is 'Landscapes LLC'\n",
        "    return self.arguments_dict\n",
        "\n",
        "\n",
        "  def required_arguments(self):\n",
        "      required_args_mapping = {\n",
        "          'create_event': ['summary', 'start_time', 'end_time'],\n",
        "          'delete_event': ['event_id'],\n",
        "          'get_calendar_events': ['date'],\n",
        "          'get_free_busy_info': ['start_time', 'end_time'],\n",
        "          'update_event': ['event_id'],\n",
        "          'reschedule_event': ['event_id', 'start_time', 'end_time']\n",
        "      }\n",
        "\n",
        "      required_arguments_list = required_args_mapping.get(self.function_name, [])\n",
        "      self.upper_required_arguments_list = [x.upper() for x in required_arguments_list]\n",
        "      #print(self.upper_required_arguments_list)\n",
        "\n",
        "      return self.upper_required_arguments_list\n",
        "\n",
        "\n",
        "\n",
        "  def run_all(self):\n",
        "    self.idx = self.find_intent_index()\n",
        "    self.function_name = self.match_intent_to_function()\n",
        "    self.arguments_dict = self.get_arguments_dict()\n",
        "    self.upper_required_arguments_list = self.required_arguments()\n",
        "\n",
        "    return self.function_name, self.arguments_dict, self.upper_required_arguments_list\n",
        "\n",
        "\n",
        "  def check_info_requirement(self):#function_name, arguments_list_need, arg_dict_true):\n",
        "    response_arguments = ''\n",
        "    missing_key = []\n",
        "    flag_add_new_info = False # GLOBAL\n",
        "\n",
        "    #check if find everything required: (only location is optional)\n",
        "    #response_function = 'You want to {}. '.format(self.function_name)\n",
        "\n",
        "    for key in self.upper_required_arguments_list:\n",
        "\n",
        "      if (key in self.arguments_dict.keys()) == False:\n",
        "        missing_key.append(key)\n",
        "        #value_in_key = self.arguments_dict[key] #maybe empty\n",
        "        #response_arguments += 'the {} = {} '.format(key, value_in_key)\n",
        "\n",
        "      # else: # needed key not in true keys\n",
        "      # #if is NOT optional key (required key -> based on function)\n",
        "      #   if key in required_arguments(self.function_name): # call the function, return a list ## need modified\n",
        "      #     missing_key.append(key)\n",
        "\n",
        "    if len(missing_key) == 0: #all required\n",
        "      #flag_add_new_info = False\n",
        "      #response = response_function + response_arguments + \" All requirments are satisfied.\"\n",
        "      print('All required arguments are satisfied.')\n",
        "    else:\n",
        "      #flag_add_new_info = True\n",
        "      response_need_more_info = ' We need more information on {}, please add them.'.format(missing_key)\n",
        "      print(response_need_more_info)\n",
        "      #response = response_function + response_need_more_info\n",
        "\n",
        "\n",
        "    return missing_key # response, flag_add_new_info"
      ],
      "metadata": {
        "id": "pjD8dtTA7WGC"
      },
      "execution_count": 135,
      "outputs": []
    },
    {
      "cell_type": "markdown",
      "source": [
        "# TEST IT"
      ],
      "metadata": {
        "id": "M7IgrKMBeTW8"
      }
    },
    {
      "cell_type": "code",
      "source": [
        "user1_raw = InputRecognition('create a shopping event at 9am, at Metro store', embedded_intents)\n",
        "\n",
        "# if the input sentence is too long, it can not recgonize the intent\n",
        "func, arg, req_list = user1_raw.run_all()\n",
        "\n",
        "print('the function is {}. It requires these keywords {}.'.format(func, req_list))\n",
        "print('From the input sentence, we can get these raw keywords',arg)\n",
        "print('\\n')\n",
        "user1_cleaned = TimeFormat(arg, 'America/Toronto')\n",
        "arguments_dict_cleaned = user1_cleaned.format_all()\n",
        "user1_raw.check_info_requirement() # check if everything needed is here\n",
        "\n",
        "print('the final output is ')\n",
        "arguments_dict_cleaned"
      ],
      "metadata": {
        "colab": {
          "base_uri": "https://localhost:8080/"
        },
        "id": "nxZlfAZz7WQl",
        "outputId": "0abaa1ba-01b6-4ee2-e636-a57ff055aa1c"
      },
      "execution_count": 140,
      "outputs": [
        {
          "output_type": "stream",
          "name": "stdout",
          "text": [
            "the function is create_event. It requires these keywords ['SUMMARY', 'START_TIME', 'END_TIME'].\n",
            "From the input sentence, we can get these raw keywords {'START_TIME': '9am', 'LOCATION': 'Metro store'}\n",
            "\n",
            "\n",
            " We need more information on ['SUMMARY'], please add them.\n",
            "the final output is \n"
          ]
        },
        {
          "output_type": "execute_result",
          "data": {
            "text/plain": [
              "{'START_TIME': '09:00:00',\n",
              " 'LOCATION': 'Metro store',\n",
              " 'DATE': '2023-07-30',\n",
              " 'END_TIME': '10:00:00',\n",
              " 'DURATION': [0, 1, 0]}"
            ]
          },
          "metadata": {},
          "execution_count": 140
        }
      ]
    },
    {
      "cell_type": "code",
      "source": [
        "input2 = \"reschedule todays 10pm event.\"\n",
        "\n",
        "user2_raw = InputRecognition(input2, embedded_intents)\n",
        "\n",
        "# if the input sentence is too long, it can not recgonize the intent\n",
        "func, arg, req_list = user2_raw.run_all()\n",
        "\n",
        "print('the function is {}. It requires these keywords {}.'.format(func, req_list))\n",
        "print('From the input sentence, we can get these raw keywords',arg)\n",
        "print('\\n')\n",
        "user_cleaned = TimeFormat(arg)\n",
        "arguments_dict_cleaned = user_cleaned.format_all()\n",
        "\n",
        "user2_raw.check_info_requirement() # check if everything needed is here\n",
        "\n",
        "print('the final output is ')\n",
        "arguments_dict_cleaned"
      ],
      "metadata": {
        "colab": {
          "base_uri": "https://localhost:8080/"
        },
        "id": "PEVTy2VEtIZ7",
        "outputId": "9618ec5d-8946-4176-d91a-05a123a8ac2a"
      },
      "execution_count": 141,
      "outputs": [
        {
          "output_type": "stream",
          "name": "stdout",
          "text": [
            "the function is reschedule_event. It requires these keywords ['EVENT_ID', 'START_TIME', 'END_TIME'].\n",
            "From the input sentence, we can get these raw keywords {'START_TIME': '10pm'}\n",
            "\n",
            "\n",
            " We need more information on ['EVENT_ID'], please add them.\n",
            "the final output is \n"
          ]
        },
        {
          "output_type": "execute_result",
          "data": {
            "text/plain": [
              "{'START_TIME': '22:00:00',\n",
              " 'DATE': '2023-07-30',\n",
              " 'END_TIME': '23:00:00',\n",
              " 'DURATION': [0, 1, 0]}"
            ]
          },
          "metadata": {},
          "execution_count": 141
        }
      ]
    },
    {
      "cell_type": "code",
      "source": [],
      "metadata": {
        "id": "zWX7gY7BeaKC"
      },
      "execution_count": null,
      "outputs": []
    },
    {
      "cell_type": "code",
      "source": [],
      "metadata": {
        "id": "N8DYzVloi7Rl"
      },
      "execution_count": null,
      "outputs": []
    }
  ]
}