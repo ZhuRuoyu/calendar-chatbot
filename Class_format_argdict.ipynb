{
  "nbformat": 4,
  "nbformat_minor": 0,
  "metadata": {
    "colab": {
      "provenance": [],
      "authorship_tag": "ABX9TyONOLzt4P99rLXjpeh+U0Br",
      "include_colab_link": true
    },
    "kernelspec": {
      "name": "python3",
      "display_name": "Python 3"
    },
    "language_info": {
      "name": "python"
    }
  },
  "cells": [
    {
      "cell_type": "markdown",
      "metadata": {
        "id": "view-in-github",
        "colab_type": "text"
      },
      "source": [
        "<a href=\"https://colab.research.google.com/github/ZhuRuoyu/calendar-chatbot/blob/main/Class_format_argdict.ipynb\" target=\"_parent\"><img src=\"https://colab.research.google.com/assets/colab-badge.svg\" alt=\"Open In Colab\"/></a>"
      ]
    },
    {
      "cell_type": "code",
      "source": [
        "#！pip install datefinder\n",
        "from datetime import datetime, timedelta\n",
        "import datefinder\n",
        "\n"
      ],
      "metadata": {
        "id": "l0Q22DCIdInK"
      },
      "execution_count": 96,
      "outputs": []
    },
    {
      "cell_type": "code",
      "source": [
        "datetime.datetime.strptime('09:10', '%H:%M')"
      ],
      "metadata": {
        "colab": {
          "base_uri": "https://localhost:8080/"
        },
        "id": "N_c53wAgvvMH",
        "outputId": "83fd475d-1bd9-47b7-8602-2aeb0c22e912"
      },
      "execution_count": 2,
      "outputs": [
        {
          "output_type": "execute_result",
          "data": {
            "text/plain": [
              "datetime.datetime(1900, 1, 1, 9, 10)"
            ]
          },
          "metadata": {},
          "execution_count": 2
        }
      ]
    },
    {
      "cell_type": "code",
      "execution_count": 150,
      "metadata": {
        "id": "vJ34Fz5sV9tz"
      },
      "outputs": [],
      "source": [
        "class TimeFormat:\n",
        "    def __init__(self, arg_dict):\n",
        "        self.arg_dict = arg_dict\n",
        "\n",
        "\n",
        "    def exact_date_optional(self, arg_dict):\n",
        "      if 'DATE' in arg_dict.keys():\n",
        "        date_str = arg_dict['DATE']\n",
        "\t\t    # ... ...\n",
        "        print('TBC: need to change from \"next week\" to a certain date')\n",
        "      else:\n",
        "        print('no \"DATE\" key. pass')\n",
        "\n",
        "      return arg_dict\n",
        "\n",
        "\n",
        "\n",
        "    def duration(self):\n",
        "        #### duration ####\n",
        "        if 'DURATION' in self.arg_dict.keys():\n",
        "          duration = self.arg_dict['DURATION']\n",
        "          print('TBC: change duration into right format')\n",
        "        else:\n",
        "          self.arg_dict['DURATION'] = [0,1,0] #default duration is 1 hour\n",
        "\n",
        "        return self.arg_dict\n",
        "\n",
        "\n",
        "# matches = datefinder.find_dates(start_time_str)\n",
        "\n",
        "# if len(list(matches)) == 0:\n",
        "#   print('can not convert to standard start time, try input again ')\n",
        "# else:\n",
        "#   for match_start in matches: # select first time extracted\n",
        "#     start_time = match_start.strftime(\"%H:%M:%S\")\n",
        "#     break\n",
        "\n",
        "#   print(start_time)\n",
        "        ######### intentation#########\n",
        "    def start_time_format(self):\n",
        "\n",
        "        if 'START_TIME' in self.arg_dict.keys():\n",
        "          start_time_str = self.arg_dict['START_TIME']\n",
        "\n",
        "          matches_start = list(datefinder.find_dates(start_time_str))\n",
        "\n",
        "          while len(matches_start) == 0:\n",
        "            print('Your start time is {}, need another format'.format(start_time_str))\n",
        "            start_time_str = input(\"please enter the start time in the suggested format HH:MM\")\n",
        "            matches_start = list(datefinder.find_dates(start_time_str))\n",
        "\n",
        "\n",
        "          # after the while loop, the len(list(matches_start))  must != 0:\n",
        "          for match_start_first in matches_start: # select first time extracted\n",
        "            # self.arg_dict['START_TIME'] = 'hello'\n",
        "\n",
        "\n",
        "            #print('match time fist',match_start_first)\n",
        "            start_time = match_start_first.strftime(\"%H:%M:%S\")\n",
        "\n",
        "            self.arg_dict['START_TIME'] = start_time\n",
        "            break\n",
        "\n",
        "          return self.arg_dict\n",
        "\n",
        "    def end_time_format(self):\n",
        "      #end_time = '2023-07-29 01:00:00'\n",
        "      if 'END_TIME' in self.arg_dict.keys():\n",
        "\n",
        "        end_time_str = self.arg_dict['END_TIME']\n",
        "        matches_end   = list(datefinder.find_dates(end_time_str))\n",
        "\n",
        "\n",
        "        while (len(matches_end) == 0):\n",
        "          print('no end time matches, need to use duration to calculate the end time automatically')\n",
        "          print('variable need: \"START_TIME\", \"DURATION\", check availablity ')\n",
        "\n",
        "          if ('START_TIME' in self.arg_dict.keys()) & ('DURATION' in self.arg_dict.keys()): # by calculating\n",
        "            print('Do the calculation ')\n",
        "            start_time_str = self.arg_dict['START_TIME']\n",
        "            duration = self.arg_dict['DURATION']\n",
        "            print('loadinggg 2 vars done, printing them', start_time_str, duration)\n",
        "\n",
        "            # convert string-start-time to 'datetime type' with current date (strptime not working)\n",
        "\n",
        "            start_temp = list(datefinder.find_dates(start_time_str))\n",
        "            matches_end = start_temp #no meaning, just break the while loop\n",
        "            for start_time in start_temp:\n",
        "              print('testtt in the fooor loop, print right starttime format', start_time)\n",
        "              break\n",
        "\n",
        "            print('testtt')\n",
        "            print(duration[0],duration[1], duration[2])\n",
        "\n",
        "            #end_time is already in the right format\n",
        "            end_time = start_time + timedelta(days=duration[0], hours=duration[1], minutes=duration[2])\n",
        "            end_time = end_time.strftime(\"%H:%M:%S\")\n",
        "            print('ttttt', end_time)\n",
        "            self.arg_dict['END_TIME'] = end_time\n",
        "            return self.arg_dict #already return\n",
        "\n",
        "          else: #by manual input\n",
        "            print('variable need: \"START_TIME\", \"DURATION\", are not both available, need manual input')\n",
        "            end_time_str = input(\"please enter the end time in the suggested format HH:MM\")\n",
        "            matches_end = list(datefinder.find_dates(end_time_str))\n",
        "            matches_end_else = matches_end\n",
        "\n",
        "        # after while loop, make sure there is some time variable in the matches_end\n",
        "        ## assign end_time from manual input\n",
        "        for end_time_else in matches_end_else: # select first time extracted\n",
        "            end_time = end_time_else.strftime(\"%H:%M:%S\")\n",
        "            break\n",
        "\n",
        "        self.arg_dict['END_TIME'] = end_time\n",
        "\n",
        "        return self.arg_dict\n",
        "\n",
        "\n",
        "\n",
        "            # start_time_str = self.arg_dict['START_TIME']\n",
        "            # duration = self.arg_dict['DURATION']\n",
        "            # print('loadinggg 2 vars done, printing them', start_time_str, duration)\n",
        "            # # convert string-start-time to 'datetime type' with current date (strptime not working)\n",
        "            # start_temp = list(datefinder.find_dates(start_time_str))\n",
        "\n",
        "            # for start_time in start_temp:\n",
        "            #   print('testtt in the fooor loop, print right starttime format', start_time)\n",
        "            #   break\n",
        "            # print('testtt')\n",
        "            # print(duration[0],duration[1], duration[2])\n",
        "\n",
        "            # #end_time is already in the right format\n",
        "            # end_time = start_time + timedelta(days=duration[0], hours=duration[1], minutes=duration[2])\n",
        "            # end_time = end_time_str.strftime(\"%H:%M:%S\")\n",
        "            # print('ttttt', end_time)\n",
        "\n",
        "\n",
        "          # else:\n",
        "          #   print('variable need: \"START_TIME\", \"DURATION\", are not both available, need manual input')\n",
        "          #   end_time_str = input(\"please enter the end time in the suggested format HH:MM\")\n",
        "          #   matches_end = list(datefinder.find_dates(end_time_str))\n",
        "\n",
        "          #matches_end = list(datefinder.find_dates(end_time_str))\n",
        "\n",
        "\n",
        "\n",
        "        # for match_end_first in matches_end: # select first time extracted\n",
        "\n",
        "        #     match_end_first = match_end_first.strftime(\"%H:%M:%S\")\n",
        "\n",
        "        #     end_time = match_end_first\n",
        "\n",
        "        #     break\n",
        "\n",
        "        # self.arg_dict['END_TIME'] = end_time\n",
        "\n",
        "\n",
        "\n",
        "\n",
        "\t# if 'DATE' in arg_dict.keys:\n",
        "\t# \tdate_str = arg_dict['DATE']\n",
        "  #   \tmatch_date = list(datefinder.find_dates(date_str)) #edge case: date = tomorrow\n",
        "\n",
        "\t# \tif len(match_date) != 0:\n",
        "  #     \t\tdate = match_date[0]\n",
        "  #     \telse:\n",
        "  #     \t\tprint(' no matched date found')\n",
        "  #     \t\tdate = input(\"please enter the date in the format YYYY-MM-DD\") # 'tomorrow' not match any, ask user again\n",
        "  #     \t\tdate = date.strftime(\"%Y-%m-%dT\")\n",
        "\n",
        "  #     \targ_dict['DATE'] = date\n",
        "\n",
        "  #   return arg_dict\n",
        "  #       return something_else\n",
        "\n"
      ]
    },
    {
      "cell_type": "code",
      "source": [
        "arg_dict2 = {'START_TIME': '7am', 'END_TIME': '', 'DURATION': [0,0.5,0]}\n",
        "\n",
        "\n",
        "# Creating an instance of the class\n",
        "obj = TimeFormat(arg_dict2)\n",
        "\n",
        "# Accessing class attributes and calling methods\n",
        "#result1 = obj.duration()\n",
        "result2 = obj.start_time_format()\n",
        "print(result2)\n",
        "\n",
        "\n",
        "result3 = obj.end_time_format()\n",
        "#print(result1)\n",
        "\n",
        "print(result3)"
      ],
      "metadata": {
        "colab": {
          "base_uri": "https://localhost:8080/"
        },
        "id": "VTzxflHPdsdW",
        "outputId": "4410788b-fe8a-491b-acd0-d0a8ee8ec45f"
      },
      "execution_count": 153,
      "outputs": [
        {
          "output_type": "stream",
          "name": "stdout",
          "text": [
            "{'START_TIME': '07:00:00', 'END_TIME': '', 'DURATION': [0, 0.5, 0]}\n",
            "no end time matches, need to use duration to calculate the end time automatically\n",
            "variable need: \"START_TIME\", \"DURATION\", check availablity \n",
            "Do the calculation \n",
            "loadinggg 2 vars done, printing them 07:00:00 [0, 0.5, 0]\n",
            "testtt in the fooor loop, print right starttime format 2023-07-28 07:00:00\n",
            "testtt\n",
            "0 0.5 0\n",
            "ttttt 07:30:00\n",
            "{'START_TIME': '07:00:00', 'END_TIME': '07:30:00', 'DURATION': [0, 0.5, 0]}\n"
          ]
        }
      ]
    },
    {
      "cell_type": "code",
      "source": [],
      "metadata": {
        "id": "PntMmuGsJYtA"
      },
      "execution_count": null,
      "outputs": []
    }
  ]
}