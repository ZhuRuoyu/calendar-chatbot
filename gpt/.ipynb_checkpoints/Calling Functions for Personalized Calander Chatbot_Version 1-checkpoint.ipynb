{
 "cells": [
  {
   "cell_type": "code",
   "execution_count": 1,
   "metadata": {},
   "outputs": [
    {
     "name": "stdout",
     "output_type": "stream",
     "text": [
      "Requirement already satisfied: openai in c:\\users\\lenovo\\anaconda3\\envs\\nrenv\\lib\\site-packages (0.27.8)\n",
      "Requirement already satisfied: aiohttp in c:\\users\\lenovo\\anaconda3\\envs\\nrenv\\lib\\site-packages (from openai) (3.8.3)\n",
      "Requirement already satisfied: tqdm in c:\\users\\lenovo\\anaconda3\\envs\\nrenv\\lib\\site-packages (from openai) (4.65.0)\n",
      "Requirement already satisfied: requests>=2.20 in c:\\users\\lenovo\\anaconda3\\envs\\nrenv\\lib\\site-packages (from openai) (2.29.0)\n",
      "Requirement already satisfied: charset-normalizer<4,>=2 in c:\\users\\lenovo\\anaconda3\\envs\\nrenv\\lib\\site-packages (from requests>=2.20->openai) (2.0.4)\n",
      "Requirement already satisfied: certifi>=2017.4.17 in c:\\users\\lenovo\\anaconda3\\envs\\nrenv\\lib\\site-packages (from requests>=2.20->openai) (2023.5.7)\n",
      "Requirement already satisfied: idna<4,>=2.5 in c:\\users\\lenovo\\anaconda3\\envs\\nrenv\\lib\\site-packages (from requests>=2.20->openai) (3.4)\n",
      "Requirement already satisfied: urllib3<1.27,>=1.21.1 in c:\\users\\lenovo\\anaconda3\\envs\\nrenv\\lib\\site-packages (from requests>=2.20->openai) (1.26.15)\n",
      "Requirement already satisfied: aiosignal>=1.1.2 in c:\\users\\lenovo\\anaconda3\\envs\\nrenv\\lib\\site-packages (from aiohttp->openai) (1.2.0)\n",
      "Requirement already satisfied: attrs>=17.3.0 in c:\\users\\lenovo\\anaconda3\\envs\\nrenv\\lib\\site-packages (from aiohttp->openai) (22.1.0)\n",
      "Requirement already satisfied: frozenlist>=1.1.1 in c:\\users\\lenovo\\anaconda3\\envs\\nrenv\\lib\\site-packages (from aiohttp->openai) (1.3.3)\n",
      "Requirement already satisfied: yarl<2.0,>=1.0 in c:\\users\\lenovo\\anaconda3\\envs\\nrenv\\lib\\site-packages (from aiohttp->openai) (1.8.1)\n",
      "Requirement already satisfied: multidict<7.0,>=4.5 in c:\\users\\lenovo\\anaconda3\\envs\\nrenv\\lib\\site-packages (from aiohttp->openai) (6.0.2)\n",
      "Requirement already satisfied: async-timeout<5.0,>=4.0.0a3 in c:\\users\\lenovo\\anaconda3\\envs\\nrenv\\lib\\site-packages (from aiohttp->openai) (4.0.2)\n",
      "Requirement already satisfied: colorama in c:\\users\\lenovo\\anaconda3\\envs\\nrenv\\lib\\site-packages (from tqdm->openai) (0.4.6)\n"
     ]
    }
   ],
   "source": [
    "!pip install openai"
   ]
  },
  {
   "cell_type": "code",
   "execution_count": 2,
   "metadata": {
    "scrolled": false
   },
   "outputs": [
    {
     "name": "stdout",
     "output_type": "stream",
     "text": [
      "Requirement already satisfied: google-api-python-client in c:\\users\\lenovo\\anaconda3\\envs\\nrenv\\lib\\site-packages (2.90.0)\n",
      "Requirement already satisfied: google-auth-httplib2>=0.1.0 in c:\\users\\lenovo\\anaconda3\\envs\\nrenv\\lib\\site-packages (from google-api-python-client) (0.1.0)\n",
      "Requirement already satisfied: google-api-core!=2.0.*,!=2.1.*,!=2.2.*,!=2.3.0,<3.0.0.dev0,>=1.31.5 in c:\\users\\lenovo\\anaconda3\\envs\\nrenv\\lib\\site-packages (from google-api-python-client) (2.11.1)\n",
      "Requirement already satisfied: google-auth<3.0.0.dev0,>=1.19.0 in c:\\users\\lenovo\\anaconda3\\envs\\nrenv\\lib\\site-packages (from google-api-python-client) (2.20.0)\n",
      "Requirement already satisfied: uritemplate<5,>=3.0.1 in c:\\users\\lenovo\\anaconda3\\envs\\nrenv\\lib\\site-packages (from google-api-python-client) (4.1.1)\n",
      "Requirement already satisfied: httplib2<1.dev0,>=0.15.0 in c:\\users\\lenovo\\anaconda3\\envs\\nrenv\\lib\\site-packages (from google-api-python-client) (0.22.0)\n",
      "Requirement already satisfied: requests<3.0.0.dev0,>=2.18.0 in c:\\users\\lenovo\\anaconda3\\envs\\nrenv\\lib\\site-packages (from google-api-core!=2.0.*,!=2.1.*,!=2.2.*,!=2.3.0,<3.0.0.dev0,>=1.31.5->google-api-python-client) (2.29.0)\n",
      "Requirement already satisfied: protobuf!=3.20.0,!=3.20.1,!=4.21.0,!=4.21.1,!=4.21.2,!=4.21.3,!=4.21.4,!=4.21.5,<5.0.0.dev0,>=3.19.5 in c:\\users\\lenovo\\anaconda3\\envs\\nrenv\\lib\\site-packages (from google-api-core!=2.0.*,!=2.1.*,!=2.2.*,!=2.3.0,<3.0.0.dev0,>=1.31.5->google-api-python-client) (3.20.3)\n",
      "Requirement already satisfied: googleapis-common-protos<2.0.dev0,>=1.56.2 in c:\\users\\lenovo\\anaconda3\\envs\\nrenv\\lib\\site-packages (from google-api-core!=2.0.*,!=2.1.*,!=2.2.*,!=2.3.0,<3.0.0.dev0,>=1.31.5->google-api-python-client) (1.59.1)\n",
      "Requirement already satisfied: rsa<5,>=3.1.4 in c:\\users\\lenovo\\anaconda3\\envs\\nrenv\\lib\\site-packages (from google-auth<3.0.0.dev0,>=1.19.0->google-api-python-client) (4.7.2)\n",
      "Requirement already satisfied: pyasn1-modules>=0.2.1 in c:\\users\\lenovo\\anaconda3\\envs\\nrenv\\lib\\site-packages (from google-auth<3.0.0.dev0,>=1.19.0->google-api-python-client) (0.2.8)\n",
      "Requirement already satisfied: six>=1.9.0 in c:\\users\\lenovo\\anaconda3\\envs\\nrenv\\lib\\site-packages (from google-auth<3.0.0.dev0,>=1.19.0->google-api-python-client) (1.16.0)\n",
      "Requirement already satisfied: urllib3<2.0 in c:\\users\\lenovo\\anaconda3\\envs\\nrenv\\lib\\site-packages (from google-auth<3.0.0.dev0,>=1.19.0->google-api-python-client) (1.26.15)\n",
      "Requirement already satisfied: cachetools<6.0,>=2.0.0 in c:\\users\\lenovo\\anaconda3\\envs\\nrenv\\lib\\site-packages (from google-auth<3.0.0.dev0,>=1.19.0->google-api-python-client) (4.2.2)\n",
      "Requirement already satisfied: pyparsing!=3.0.0,!=3.0.1,!=3.0.2,!=3.0.3,<4,>=2.4.2 in c:\\users\\lenovo\\anaconda3\\envs\\nrenv\\lib\\site-packages (from httplib2<1.dev0,>=0.15.0->google-api-python-client) (3.0.9)\n",
      "Requirement already satisfied: pyasn1<0.5.0,>=0.4.6 in c:\\users\\lenovo\\anaconda3\\envs\\nrenv\\lib\\site-packages (from pyasn1-modules>=0.2.1->google-auth<3.0.0.dev0,>=1.19.0->google-api-python-client) (0.4.8)\n",
      "Requirement already satisfied: idna<4,>=2.5 in c:\\users\\lenovo\\anaconda3\\envs\\nrenv\\lib\\site-packages (from requests<3.0.0.dev0,>=2.18.0->google-api-core!=2.0.*,!=2.1.*,!=2.2.*,!=2.3.0,<3.0.0.dev0,>=1.31.5->google-api-python-client) (3.4)\n",
      "Requirement already satisfied: charset-normalizer<4,>=2 in c:\\users\\lenovo\\anaconda3\\envs\\nrenv\\lib\\site-packages (from requests<3.0.0.dev0,>=2.18.0->google-api-core!=2.0.*,!=2.1.*,!=2.2.*,!=2.3.0,<3.0.0.dev0,>=1.31.5->google-api-python-client) (2.0.4)\n",
      "Requirement already satisfied: certifi>=2017.4.17 in c:\\users\\lenovo\\anaconda3\\envs\\nrenv\\lib\\site-packages (from requests<3.0.0.dev0,>=2.18.0->google-api-core!=2.0.*,!=2.1.*,!=2.2.*,!=2.3.0,<3.0.0.dev0,>=1.31.5->google-api-python-client) (2023.5.7)\n"
     ]
    }
   ],
   "source": [
    "!pip install google-api-python-client"
   ]
  },
  {
   "cell_type": "code",
   "execution_count": 3,
   "metadata": {},
   "outputs": [],
   "source": [
    "import openai\n",
    "import json\n",
    "from google.oauth2 import service_account\n",
    "import googleapiclient.discovery"
   ]
  },
  {
   "cell_type": "code",
   "execution_count": 4,
   "metadata": {},
   "outputs": [],
   "source": [
    "# Load and set our OpenAI API key\n",
    "openai.api_key = open(\"key.txt\", \"r\").read().strip(\"\\n\")"
   ]
  },
  {
   "cell_type": "code",
   "execution_count": 5,
   "metadata": {},
   "outputs": [],
   "source": [
    "# Load and set Google Calendar API credentials\n",
    "credentials = service_account.Credentials.from_service_account_file('path to .json file.')\n",
    "calendar_service = googleapiclient.discovery.build('calendar', 'v3', credentials=credentials)"
   ]
  },
  {
   "cell_type": "code",
   "execution_count": 6,
   "metadata": {},
   "outputs": [],
   "source": [
    "def get_calendar_events(date):\n",
    "    \"\"\"Get the events on a given date from Google Calendar\"\"\"\n",
    "    events_result = calendar_service.events().list(\n",
    "        calendarId='primary',\n",
    "        timeMin=f'{date}T00:00:00Z',\n",
    "        timeMax=f'{date}T23:59:59Z',\n",
    "        singleEvents=True,\n",
    "        orderBy='startTime'\n",
    "    ).execute()\n",
    "\n",
    "    events = events_result.get('items', [])\n",
    "    formatted_events = []\n",
    "    for event in events:\n",
    "        formatted_event = {\n",
    "            \"summary\": event['summary'],\n",
    "            \"start_time\": event['start'].get('dateTime', event['start'].get('date')),\n",
    "            \"location\": event.get('location', 'N/A'),\n",
    "        }\n",
    "        formatted_events.append(formatted_event)\n",
    "\n",
    "    return json.dumps({\"date\": date, \"events\": formatted_events})"
   ]
  },
  {
   "cell_type": "code",
   "execution_count": 7,
   "metadata": {},
   "outputs": [],
   "source": [
    "def create_event(summary, start_time, end_time, location=None):\n",
    "    \"\"\"Create a new event in Google Calendar\"\"\"\n",
    "    event = {\n",
    "        'summary': summary,\n",
    "        'start': {\n",
    "            'dateTime': start_time,\n",
    "            'timeZone': 'UTC',\n",
    "        },\n",
    "        'end': {\n",
    "            'dateTime': end_time,\n",
    "            'timeZone': 'UTC',\n",
    "        },\n",
    "    }\n",
    "\n",
    "    if location:\n",
    "        event['location'] = location\n",
    "\n",
    "    created_event = calendar_service.events().insert(calendarId='primary', body=event).execute()\n",
    "    return json.dumps({\"event_id\": created_event['id'], \"summary\": created_event['summary'], \"status\": \"created\"})"
   ]
  },
  {
   "cell_type": "code",
   "execution_count": 8,
   "metadata": {},
   "outputs": [],
   "source": [
    "def delete_event(event_id):\n",
    "    \"\"\"Delete an event from Google Calendar\"\"\"\n",
    "    calendar_service.events().delete(calendarId='primary', eventId=event_id).execute()\n",
    "    return json.dumps({\"event_id\": event_id, \"status\": \"deleted\"})"
   ]
  },
  {
   "cell_type": "code",
   "execution_count": 9,
   "metadata": {},
   "outputs": [],
   "source": [
    "def get_free_busy_info(start_time, end_time):\n",
    "    \"\"\"Get free/busy information from Google Calendar\"\"\"\n",
    "    free_busy_query = {\n",
    "        \"timeMin\": start_time,\n",
    "        \"timeMax\": end_time,\n",
    "        \"items\": [{\"id\": \"primary\"}],\n",
    "    }\n",
    "\n",
    "    free_busy_info = calendar_service.freebusy().query(body=free_busy_query).execute()\n",
    "    return json.dumps(free_busy_info)"
   ]
  },
  {
   "cell_type": "code",
   "execution_count": 10,
   "metadata": {},
   "outputs": [],
   "source": [
    "def update_event(event_id, summary=None, start_time=None, end_time=None, location=None):\n",
    "    \"\"\"Update an event in Google Calendar\"\"\"\n",
    "    event = calendar_service.events().get(calendarId='primary', eventId=event_id).execute()\n",
    "\n",
    "    if summary:\n",
    "        event['summary'] = summary\n",
    "    if start_time:\n",
    "        event['start']['dateTime'] = start_time\n",
    "    if end_time:\n",
    "        event['end']['dateTime'] = end_time\n",
    "    if location:\n",
    "        event['location'] = location\n",
    "\n",
    "    updated_event = calendar_service.events().update(calendarId='primary', eventId=event_id, body=event).execute()\n",
    "    return json.dumps({\"event_id\": updated_event['id'], \"summary\": updated_event['summary'], \"status\": \"updated\"})\n"
   ]
  },
  {
   "cell_type": "code",
   "execution_count": 11,
   "metadata": {},
   "outputs": [],
   "source": [
    "def reschedule_event(event_id, start_time, end_time):\n",
    "    \"\"\"Reschedule an event in Google Calendar\"\"\"\n",
    "    return update_event(event_id, start_time=start_time, end_time=end_time)"
   ]
  },
  {
   "cell_type": "code",
   "execution_count": 12,
   "metadata": {},
   "outputs": [],
   "source": [
    "# Function definitions for calendar-related queries\n",
    "functions = [\n",
    "    {\n",
    "        \"name\": \"get_calendar_events\",\n",
    "        \"description\": \"Get the events on a given date from Google Calendar\",\n",
    "        \"parameters\": {\n",
    "            \"type\": \"object\",\n",
    "            \"properties\": {\n",
    "                \"date\": {\n",
    "                    \"type\": \"string\",\n",
    "                    \"description\": \"The date for which to retrieve events (in 'YYYY-MM-DD' format)\",\n",
    "                },\n",
    "            },\n",
    "            \"required\": [\"date\"],\n",
    "        },\n",
    "    },\n",
    "    {\n",
    "        \"name\": \"create_event\",\n",
    "        \"description\": \"Create a new event in Google Calendar\",\n",
    "        \"parameters\": {\n",
    "            \"type\": \"object\",\n",
    "            \"properties\": {\n",
    "                \"summary\": {\n",
    "                    \"type\": \"string\",\n",
    "                    \"description\": \"The summary or title of the event\",\n",
    "                },\n",
    "                \"start_time\": {\n",
    "                    \"type\": \"string\",\n",
    "                    \"description\": \"The start time of the event (in RFC3339 format)\",\n",
    "                },\n",
    "                \"end_time\": {\n",
    "                    \"type\": \"string\",\n",
    "                    \"description\": \"The end time of the event (in RFC3339 format)\",\n",
    "                },\n",
    "                \"location\": {\n",
    "                    \"type\": \"string\",\n",
    "                    \"description\": \"The location of the event (optional)\",\n",
    "                },\n",
    "            },\n",
    "            \"required\": [\"summary\", \"start_time\", \"end_time\"],\n",
    "        },\n",
    "    },\n",
    "    {\n",
    "        \"name\": \"delete_event\",\n",
    "        \"description\": \"Delete an event from Google Calendar\",\n",
    "        \"parameters\": {\n",
    "            \"type\": \"object\",\n",
    "            \"properties\": {\n",
    "                \"event_id\": {\n",
    "                    \"type\": \"string\",\n",
    "                    \"description\": \"The ID of the event to be deleted\",\n",
    "                },\n",
    "            },\n",
    "            \"required\": [\"event_id\"],\n",
    "        },\n",
    "    },\n",
    "    {\n",
    "        \"name\": \"get_free_busy_info\",\n",
    "        \"description\": \"Get free/busy information from Google Calendar\",\n",
    "        \"parameters\": {\n",
    "            \"type\": \"object\",\n",
    "            \"properties\": {\n",
    "                \"start_time\": {\n",
    "                    \"type\": \"string\",\n",
    "                    \"description\": \"The start time for querying free/busy information (in RFC3339 format)\",\n",
    "                },\n",
    "                \"end_time\": {\n",
    "                    \"type\": \"string\",\n",
    "                    \"description\": \"The end time for querying free/busy information (in RFC3339 format)\",\n",
    "                },\n",
    "            },\n",
    "            \"required\": [\"start_time\", \"end_time\"],\n",
    "        },\n",
    "    },\n",
    "    {\n",
    "        \"name\": \"update_event\",\n",
    "        \"description\": \"Update an event in Google Calendar\",\n",
    "        \"parameters\": {\n",
    "            \"type\": \"object\",\n",
    "            \"properties\": {\n",
    "                \"event_id\": {\n",
    "                    \"type\": \"string\",\n",
    "                    \"description\": \"The ID of the event to be updated\",\n",
    "                },\n",
    "                \"summary\": {\n",
    "                    \"type\": \"string\",\n",
    "                    \"description\": \"The new summary or title of the event (optional)\",\n",
    "                },\n",
    "                \"start_time\": {\n",
    "                    \"type\": \"string\",\n",
    "                    \"description\": \"The new start time of the event (in RFC3339 format) (optional)\",\n",
    "                },\n",
    "                \"end_time\": {\n",
    "                    \"type\": \"string\",\n",
    "                    \"description\": \"The new end time of the event (in RFC3339 format) (optional)\",\n",
    "                },\n",
    "                \"location\": {\n",
    "                    \"type\": \"string\",\n",
    "                    \"description\": \"The new location of the event (optional)\",\n",
    "                },\n",
    "            },\n",
    "            \"required\": [\"event_id\"],\n",
    "        },\n",
    "    },\n",
    "    {\n",
    "        \"name\": \"reschedule_event\",\n",
    "        \"description\": \"Reschedule an event in Google Calendar\",\n",
    "        \"parameters\": {\n",
    "            \"type\": \"object\",\n",
    "            \"properties\": {\n",
    "                \"event_id\": {\n",
    "                    \"type\": \"string\",\n",
    "                    \"description\": \"The ID of the event to be rescheduled\",\n",
    "                },\n",
    "                \"start_time\": {\n",
    "                    \"type\": \"string\",\n",
    "                    \"description\": \"The new start time of the event (in RFC3339 format)\",\n",
    "                },\n",
    "                \"end_time\": {\n",
    "                    \"type\": \"string\",\n",
    "                    \"description\": \"The new end time of the event (in RFC3339 format)\",\n",
    "                },\n",
    "            },\n",
    "            \"required\": [\"event_id\", \"start_time\", \"end_time\"],\n",
    "        },\n",
    "    },\n",
    "]\n"
   ]
  },
  {
   "cell_type": "code",
   "execution_count": 13,
   "metadata": {},
   "outputs": [],
   "source": [
    "# Chat with the personalized calendar chatbot\n",
    "messages = [\n",
    "    {\"role\": \"user\", \"content\": \"What events do I have?\"},\n",
    "    {\"role\": \"assistant\", \"content\": 'I will check your calendar for events.'},\n",
    "    {\"role\": \"assistant\", \"content\": 'Assistant to=functions.get_calendar_events'},\n",
    "    {\"role\": \"user\", \"content\": \"Tell me about my events.\"},\n",
    "    {\"role\": \"assistant\", \"content\": \"You don't have any events scheduled.\"},\n",
    "    {\"role\": \"user\", \"content\": \"Create a new event\"},\n",
    "    {\"role\": \"assistant\", \"content\": 'Assistant to=functions.create_event'},\n",
    "    {\"role\": \"user\", \"content\": \"Delete the event with ID XYZ\"},\n",
    "    {\"role\": \"assistant\", \"content\": 'Assistant to=functions.delete_event'},\n",
    "    {\"role\": \"user\", \"content\": \"Get free/busy information\"},\n",
    "    {\"role\": \"assistant\", \"content\": 'Assistant to=functions.get_free_busy_info'},\n",
    "    {\"role\": \"user\", \"content\": \"Update the event with ID XYZ\"},\n",
    "    {\"role\": \"assistant\", \"content\": 'Assistant to=functions.update_event'},\n",
    "    {\"role\": \"user\", \"content\": \"Reschedule the event with ID XYZ\"},\n",
    "    {\"role\": \"assistant\", \"content\": 'Assistant to=functions.reschedule_event'},\n",
    "]"
   ]
  },
  {
   "cell_type": "code",
   "execution_count": 14,
   "metadata": {},
   "outputs": [],
   "source": [
    "completion = openai.ChatCompletion.create(\n",
    "    model=\"gpt-3.5-turbo-0613\",\n",
    "    messages=messages,\n",
    "    functions=functions,\n",
    "    max_tokens=50,\n",
    ")"
   ]
  },
  {
   "cell_type": "code",
   "execution_count": 16,
   "metadata": {},
   "outputs": [
    {
     "data": {
      "text/plain": [
       "<OpenAIObject at 0x2cec89d40e0> JSON: {\n",
       "  \"index\": 0,\n",
       "  \"message\": {\n",
       "    \"role\": \"assistant\",\n",
       "    \"content\": \"I'm sorry, but as an AI language model, I don't have access to personal data such as your calendar events. However, you can use the `get_calendar_events` function provided to retrieve your events from Google Calendar using the appropriate API\"\n",
       "  },\n",
       "  \"finish_reason\": \"length\"\n",
       "}"
      ]
     },
     "execution_count": 16,
     "metadata": {},
     "output_type": "execute_result"
    }
   ],
   "source": [
    "reply_content = completion.choices[0]\n",
    "reply_content"
   ]
  },
  {
   "cell_type": "code",
   "execution_count": 15,
   "metadata": {},
   "outputs": [
    {
     "name": "stdout",
     "output_type": "stream",
     "text": [
      "User: Hi\n",
      "Assistant: Hello! How can I assist you today?\n",
      "User: \n",
      "  @media print {\n",
      "    .ms-editor-squiggles-container {\n",
      "      display:none !important;\n",
      "    }\n",
      "  }\n",
      "  .ms-editor-squiggles-container {\n",
      "    all: initial;\n",
      "  }What events are scheluded today?\n",
      "Assistant: Let me check your calendar for today's events.\n",
      "User: ok\n",
      "Assistant: I am sorry, but as a chatbot, I do not have access to personal data or calendars. However, you can easily check your events for today on your Google Calendar mobile app or by logging into your Google Calendar account on a computer.\n",
      "User: exit\n",
      "Assistant: Sure, if you have any more questions in the future, feel free to ask. Have a great day!\n",
      "User: Goodbye\n",
      "Assistant: Goodbye! Take care and have a wonderful day!\n",
      "User: Goodbye!\n",
      "Assistant: Goodbye! Take care and have a great day ahead!\n"
     ]
    },
    {
     "ename": "KeyboardInterrupt",
     "evalue": "Interrupted by user",
     "output_type": "error",
     "traceback": [
      "\u001b[1;31m---------------------------------------------------------------------------\u001b[0m",
      "\u001b[1;31mKeyboardInterrupt\u001b[0m                         Traceback (most recent call last)",
      "Cell \u001b[1;32mIn[15], line 36\u001b[0m\n\u001b[0;32m     34\u001b[0m \u001b[38;5;66;03m# Start the conversation loop\u001b[39;00m\n\u001b[0;32m     35\u001b[0m \u001b[38;5;28;01mwhile\u001b[39;00m \u001b[38;5;28;01mTrue\u001b[39;00m:\n\u001b[1;32m---> 36\u001b[0m     user_input \u001b[38;5;241m=\u001b[39m \u001b[38;5;28;43minput\u001b[39;49m\u001b[43m(\u001b[49m\u001b[38;5;124;43m\"\u001b[39;49m\u001b[38;5;124;43mUser: \u001b[39;49m\u001b[38;5;124;43m\"\u001b[39;49m\u001b[43m)\u001b[49m\n\u001b[0;32m     38\u001b[0m     \u001b[38;5;66;03m# Process the user's message and get the assistant's reply\u001b[39;00m\n\u001b[0;32m     39\u001b[0m     assistant_response, conversation_context \u001b[38;5;241m=\u001b[39m process_user_message(user_input, conversation_context)\n",
      "File \u001b[1;32m~\\anaconda3\\envs\\NRenv\\lib\\site-packages\\ipykernel\\kernelbase.py:1175\u001b[0m, in \u001b[0;36mKernel.raw_input\u001b[1;34m(self, prompt)\u001b[0m\n\u001b[0;32m   1171\u001b[0m \u001b[38;5;28;01mif\u001b[39;00m \u001b[38;5;129;01mnot\u001b[39;00m \u001b[38;5;28mself\u001b[39m\u001b[38;5;241m.\u001b[39m_allow_stdin:\n\u001b[0;32m   1172\u001b[0m     \u001b[38;5;28;01mraise\u001b[39;00m StdinNotImplementedError(\n\u001b[0;32m   1173\u001b[0m         \u001b[38;5;124m\"\u001b[39m\u001b[38;5;124mraw_input was called, but this frontend does not support input requests.\u001b[39m\u001b[38;5;124m\"\u001b[39m\n\u001b[0;32m   1174\u001b[0m     )\n\u001b[1;32m-> 1175\u001b[0m \u001b[38;5;28;01mreturn\u001b[39;00m \u001b[38;5;28;43mself\u001b[39;49m\u001b[38;5;241;43m.\u001b[39;49m\u001b[43m_input_request\u001b[49m\u001b[43m(\u001b[49m\n\u001b[0;32m   1176\u001b[0m \u001b[43m    \u001b[49m\u001b[38;5;28;43mstr\u001b[39;49m\u001b[43m(\u001b[49m\u001b[43mprompt\u001b[49m\u001b[43m)\u001b[49m\u001b[43m,\u001b[49m\n\u001b[0;32m   1177\u001b[0m \u001b[43m    \u001b[49m\u001b[38;5;28;43mself\u001b[39;49m\u001b[38;5;241;43m.\u001b[39;49m\u001b[43m_parent_ident\u001b[49m\u001b[43m[\u001b[49m\u001b[38;5;124;43m\"\u001b[39;49m\u001b[38;5;124;43mshell\u001b[39;49m\u001b[38;5;124;43m\"\u001b[39;49m\u001b[43m]\u001b[49m\u001b[43m,\u001b[49m\n\u001b[0;32m   1178\u001b[0m \u001b[43m    \u001b[49m\u001b[38;5;28;43mself\u001b[39;49m\u001b[38;5;241;43m.\u001b[39;49m\u001b[43mget_parent\u001b[49m\u001b[43m(\u001b[49m\u001b[38;5;124;43m\"\u001b[39;49m\u001b[38;5;124;43mshell\u001b[39;49m\u001b[38;5;124;43m\"\u001b[39;49m\u001b[43m)\u001b[49m\u001b[43m,\u001b[49m\n\u001b[0;32m   1179\u001b[0m \u001b[43m    \u001b[49m\u001b[43mpassword\u001b[49m\u001b[38;5;241;43m=\u001b[39;49m\u001b[38;5;28;43;01mFalse\u001b[39;49;00m\u001b[43m,\u001b[49m\n\u001b[0;32m   1180\u001b[0m \u001b[43m\u001b[49m\u001b[43m)\u001b[49m\n",
      "File \u001b[1;32m~\\anaconda3\\envs\\NRenv\\lib\\site-packages\\ipykernel\\kernelbase.py:1217\u001b[0m, in \u001b[0;36mKernel._input_request\u001b[1;34m(self, prompt, ident, parent, password)\u001b[0m\n\u001b[0;32m   1214\u001b[0m             \u001b[38;5;28;01mbreak\u001b[39;00m\n\u001b[0;32m   1215\u001b[0m \u001b[38;5;28;01mexcept\u001b[39;00m \u001b[38;5;167;01mKeyboardInterrupt\u001b[39;00m:\n\u001b[0;32m   1216\u001b[0m     \u001b[38;5;66;03m# re-raise KeyboardInterrupt, to truncate traceback\u001b[39;00m\n\u001b[1;32m-> 1217\u001b[0m     \u001b[38;5;28;01mraise\u001b[39;00m \u001b[38;5;167;01mKeyboardInterrupt\u001b[39;00m(\u001b[38;5;124m\"\u001b[39m\u001b[38;5;124mInterrupted by user\u001b[39m\u001b[38;5;124m\"\u001b[39m) \u001b[38;5;28;01mfrom\u001b[39;00m \u001b[38;5;28;01mNone\u001b[39;00m\n\u001b[0;32m   1218\u001b[0m \u001b[38;5;28;01mexcept\u001b[39;00m \u001b[38;5;167;01mException\u001b[39;00m:\n\u001b[0;32m   1219\u001b[0m     \u001b[38;5;28mself\u001b[39m\u001b[38;5;241m.\u001b[39mlog\u001b[38;5;241m.\u001b[39mwarning(\u001b[38;5;124m\"\u001b[39m\u001b[38;5;124mInvalid Message:\u001b[39m\u001b[38;5;124m\"\u001b[39m, exc_info\u001b[38;5;241m=\u001b[39m\u001b[38;5;28;01mTrue\u001b[39;00m)\n",
      "\u001b[1;31mKeyboardInterrupt\u001b[0m: Interrupted by user"
     ]
    }
   ],
   "source": [
    "import openai\n",
    "import json\n",
    "\n",
    "# Set the OpenAI API key\n",
    "openai.api_key = \"API KEY HERE\"\n",
    "\n",
    "def process_user_message(user_message, context):\n",
    "    # Append the user message to the conversation context\n",
    "    context.append({\"role\": \"user\", \"content\": user_message})\n",
    "\n",
    "    # Generate a response from the chatbot\n",
    "    response = openai.ChatCompletion.create(\n",
    "        model=\"gpt-3.5-turbo-0613\",\n",
    "        messages=context,\n",
    "        max_tokens=100,\n",
    "    )\n",
    "\n",
    "    # Retrieve the assistant's reply from the response\n",
    "    assistant_reply = response['choices'][0]['message']['content']\n",
    "\n",
    "    # Append the assistant's reply to the conversation context\n",
    "    context.append({\"role\": \"assistant\", \"content\": assistant_reply})\n",
    "\n",
    "    return assistant_reply, context\n",
    "\n",
    "# Define the initial conversation context\n",
    "conversation_context = [\n",
    "    {\"role\": \"system\", \"content\": \"You are a chatbot that can interact with Google Calendar.\"},\n",
    "    {\"role\": \"system\", \"content\": \"You can ask me to create, delete, update, or reschedule events.\"},\n",
    "    {\"role\": \"system\", \"content\": \"You can also get information about your events and free/busy status.\"},\n",
    "    {\"role\": \"user\", \"content\": \"What events do I have?\"},\n",
    "]\n",
    "\n",
    "# Start the conversation loop\n",
    "while True:\n",
    "    user_input = input(\"User: \")\n",
    "\n",
    "    # Process the user's message and get the assistant's reply\n",
    "    assistant_response, conversation_context = process_user_message(user_input, conversation_context)\n",
    "\n",
    "    # Print the assistant's reply\n",
    "    print(\"Assistant:\", assistant_response)\n",
    "\n",
    "    # Check if the conversation has ended\n",
    "    if assistant_response == \"Goodbye!\":\n",
    "        break\n"
   ]
  },
  {
   "cell_type": "code",
   "execution_count": null,
   "metadata": {},
   "outputs": [],
   "source": []
  }
 ],
 "metadata": {
  "kernelspec": {
   "display_name": "Python 3",
   "language": "python",
   "name": "python3"
  },
  "language_info": {
   "codemirror_mode": {
    "name": "ipython",
    "version": 3
   },
   "file_extension": ".py",
   "mimetype": "text/x-python",
   "name": "python",
   "nbconvert_exporter": "python",
   "pygments_lexer": "ipython3",
   "version": "3.6.9"
  }
 },
 "nbformat": 4,
 "nbformat_minor": 5
}
